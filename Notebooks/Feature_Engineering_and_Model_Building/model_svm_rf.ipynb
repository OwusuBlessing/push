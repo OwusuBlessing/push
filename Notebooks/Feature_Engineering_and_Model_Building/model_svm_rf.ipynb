{
 "cells": [
  {
   "cell_type": "code",
   "execution_count": 1,
   "id": "b0647ed7",
   "metadata": {},
   "outputs": [],
   "source": [
    "import numpy as np\n",
    "import pandas as pd\n",
    "import matplotlib.pyplot as plt\n",
    "import seaborn as sns"
   ]
  },
  {
   "cell_type": "markdown",
   "id": "51283a8f",
   "metadata": {},
   "source": [
    "### Data gathering and accessing"
   ]
  },
  {
   "cell_type": "code",
   "execution_count": 2,
   "id": "b0a9e4d0",
   "metadata": {},
   "outputs": [
    {
     "name": "stderr",
     "output_type": "stream",
     "text": [
      "C:\\Users\\osazu\\anaconda3\\lib\\site-packages\\IPython\\core\\interactiveshell.py:3444: DtypeWarning: Columns (0) have mixed types.Specify dtype option on import or set low_memory=False.\n",
      "  exec(code_obj, self.user_global_ns, self.user_ns)\n"
     ]
    },
    {
     "data": {
      "text/plain": [
       "(140056, 32)"
      ]
     },
     "execution_count": 2,
     "metadata": {},
     "output_type": "execute_result"
    }
   ],
   "source": [
    "df = pd.read_csv('UK_Traffic_Accidents_2015.csv')\n",
    "df.shape"
   ]
  },
  {
   "cell_type": "code",
   "execution_count": 3,
   "id": "e71326eb",
   "metadata": {},
   "outputs": [
    {
     "data": {
      "text/html": [
       "<div>\n",
       "<style scoped>\n",
       "    .dataframe tbody tr th:only-of-type {\n",
       "        vertical-align: middle;\n",
       "    }\n",
       "\n",
       "    .dataframe tbody tr th {\n",
       "        vertical-align: top;\n",
       "    }\n",
       "\n",
       "    .dataframe thead th {\n",
       "        text-align: right;\n",
       "    }\n",
       "</style>\n",
       "<table border=\"1\" class=\"dataframe\">\n",
       "  <thead>\n",
       "    <tr style=\"text-align: right;\">\n",
       "      <th></th>\n",
       "      <th>Accident_Index</th>\n",
       "      <th>Location_Easting_OSGR</th>\n",
       "      <th>Location_Northing_OSGR</th>\n",
       "      <th>Longitude</th>\n",
       "      <th>Latitude</th>\n",
       "      <th>Police_Force</th>\n",
       "      <th>Accident_Severity</th>\n",
       "      <th>Number_of_Vehicles</th>\n",
       "      <th>Number_of_Casualties</th>\n",
       "      <th>Date</th>\n",
       "      <th>...</th>\n",
       "      <th>Pedestrian_Crossing-Human_Control</th>\n",
       "      <th>Pedestrian_Crossing-Physical_Facilities</th>\n",
       "      <th>Light_Conditions</th>\n",
       "      <th>Weather_Conditions</th>\n",
       "      <th>Road_Surface_Conditions</th>\n",
       "      <th>Special_Conditions_at_Site</th>\n",
       "      <th>Carriageway_Hazards</th>\n",
       "      <th>Urban_or_Rural_Area</th>\n",
       "      <th>Did_Police_Officer_Attend_Scene_of_Accident</th>\n",
       "      <th>LSOA_of_Accident_Location</th>\n",
       "    </tr>\n",
       "  </thead>\n",
       "  <tbody>\n",
       "    <tr>\n",
       "      <th>0</th>\n",
       "      <td>201501BS70001</td>\n",
       "      <td>525130.0</td>\n",
       "      <td>180050.0</td>\n",
       "      <td>-0.198465</td>\n",
       "      <td>51.505538</td>\n",
       "      <td>1</td>\n",
       "      <td>3</td>\n",
       "      <td>1</td>\n",
       "      <td>1</td>\n",
       "      <td>12/01/2015</td>\n",
       "      <td>...</td>\n",
       "      <td>0</td>\n",
       "      <td>0</td>\n",
       "      <td>4</td>\n",
       "      <td>1</td>\n",
       "      <td>1</td>\n",
       "      <td>0</td>\n",
       "      <td>0</td>\n",
       "      <td>1</td>\n",
       "      <td>1</td>\n",
       "      <td>E01002825</td>\n",
       "    </tr>\n",
       "    <tr>\n",
       "      <th>1</th>\n",
       "      <td>201501BS70002</td>\n",
       "      <td>526530.0</td>\n",
       "      <td>178560.0</td>\n",
       "      <td>-0.178838</td>\n",
       "      <td>51.491836</td>\n",
       "      <td>1</td>\n",
       "      <td>3</td>\n",
       "      <td>1</td>\n",
       "      <td>1</td>\n",
       "      <td>12/01/2015</td>\n",
       "      <td>...</td>\n",
       "      <td>0</td>\n",
       "      <td>0</td>\n",
       "      <td>1</td>\n",
       "      <td>1</td>\n",
       "      <td>1</td>\n",
       "      <td>0</td>\n",
       "      <td>0</td>\n",
       "      <td>1</td>\n",
       "      <td>1</td>\n",
       "      <td>E01002820</td>\n",
       "    </tr>\n",
       "    <tr>\n",
       "      <th>2</th>\n",
       "      <td>201501BS70004</td>\n",
       "      <td>524610.0</td>\n",
       "      <td>181080.0</td>\n",
       "      <td>-0.205590</td>\n",
       "      <td>51.514910</td>\n",
       "      <td>1</td>\n",
       "      <td>3</td>\n",
       "      <td>1</td>\n",
       "      <td>1</td>\n",
       "      <td>12/01/2015</td>\n",
       "      <td>...</td>\n",
       "      <td>0</td>\n",
       "      <td>1</td>\n",
       "      <td>4</td>\n",
       "      <td>2</td>\n",
       "      <td>2</td>\n",
       "      <td>0</td>\n",
       "      <td>0</td>\n",
       "      <td>1</td>\n",
       "      <td>1</td>\n",
       "      <td>E01002833</td>\n",
       "    </tr>\n",
       "    <tr>\n",
       "      <th>3</th>\n",
       "      <td>201501BS70005</td>\n",
       "      <td>524420.0</td>\n",
       "      <td>181080.0</td>\n",
       "      <td>-0.208327</td>\n",
       "      <td>51.514952</td>\n",
       "      <td>1</td>\n",
       "      <td>3</td>\n",
       "      <td>1</td>\n",
       "      <td>1</td>\n",
       "      <td>13/01/2015</td>\n",
       "      <td>...</td>\n",
       "      <td>0</td>\n",
       "      <td>0</td>\n",
       "      <td>1</td>\n",
       "      <td>1</td>\n",
       "      <td>2</td>\n",
       "      <td>0</td>\n",
       "      <td>0</td>\n",
       "      <td>1</td>\n",
       "      <td>2</td>\n",
       "      <td>E01002874</td>\n",
       "    </tr>\n",
       "    <tr>\n",
       "      <th>4</th>\n",
       "      <td>201501BS70008</td>\n",
       "      <td>524630.0</td>\n",
       "      <td>179040.0</td>\n",
       "      <td>-0.206022</td>\n",
       "      <td>51.496572</td>\n",
       "      <td>1</td>\n",
       "      <td>2</td>\n",
       "      <td>2</td>\n",
       "      <td>1</td>\n",
       "      <td>09/01/2015</td>\n",
       "      <td>...</td>\n",
       "      <td>0</td>\n",
       "      <td>5</td>\n",
       "      <td>1</td>\n",
       "      <td>2</td>\n",
       "      <td>2</td>\n",
       "      <td>0</td>\n",
       "      <td>0</td>\n",
       "      <td>1</td>\n",
       "      <td>2</td>\n",
       "      <td>E01002814</td>\n",
       "    </tr>\n",
       "  </tbody>\n",
       "</table>\n",
       "<p>5 rows × 32 columns</p>\n",
       "</div>"
      ],
      "text/plain": [
       "  Accident_Index  Location_Easting_OSGR  Location_Northing_OSGR  Longitude  \\\n",
       "0  201501BS70001               525130.0                180050.0  -0.198465   \n",
       "1  201501BS70002               526530.0                178560.0  -0.178838   \n",
       "2  201501BS70004               524610.0                181080.0  -0.205590   \n",
       "3  201501BS70005               524420.0                181080.0  -0.208327   \n",
       "4  201501BS70008               524630.0                179040.0  -0.206022   \n",
       "\n",
       "    Latitude  Police_Force  Accident_Severity  Number_of_Vehicles  \\\n",
       "0  51.505538             1                  3                   1   \n",
       "1  51.491836             1                  3                   1   \n",
       "2  51.514910             1                  3                   1   \n",
       "3  51.514952             1                  3                   1   \n",
       "4  51.496572             1                  2                   2   \n",
       "\n",
       "   Number_of_Casualties        Date  ...  Pedestrian_Crossing-Human_Control  \\\n",
       "0                     1  12/01/2015  ...                                  0   \n",
       "1                     1  12/01/2015  ...                                  0   \n",
       "2                     1  12/01/2015  ...                                  0   \n",
       "3                     1  13/01/2015  ...                                  0   \n",
       "4                     1  09/01/2015  ...                                  0   \n",
       "\n",
       "  Pedestrian_Crossing-Physical_Facilities  Light_Conditions  \\\n",
       "0                                       0                 4   \n",
       "1                                       0                 1   \n",
       "2                                       1                 4   \n",
       "3                                       0                 1   \n",
       "4                                       5                 1   \n",
       "\n",
       "  Weather_Conditions  Road_Surface_Conditions  Special_Conditions_at_Site  \\\n",
       "0                  1                        1                           0   \n",
       "1                  1                        1                           0   \n",
       "2                  2                        2                           0   \n",
       "3                  1                        2                           0   \n",
       "4                  2                        2                           0   \n",
       "\n",
       "   Carriageway_Hazards  Urban_or_Rural_Area  \\\n",
       "0                    0                    1   \n",
       "1                    0                    1   \n",
       "2                    0                    1   \n",
       "3                    0                    1   \n",
       "4                    0                    1   \n",
       "\n",
       "   Did_Police_Officer_Attend_Scene_of_Accident  LSOA_of_Accident_Location  \n",
       "0                                            1                  E01002825  \n",
       "1                                            1                  E01002820  \n",
       "2                                            1                  E01002833  \n",
       "3                                            2                  E01002874  \n",
       "4                                            2                  E01002814  \n",
       "\n",
       "[5 rows x 32 columns]"
      ]
     },
     "execution_count": 3,
     "metadata": {},
     "output_type": "execute_result"
    }
   ],
   "source": [
    "df.head()"
   ]
  },
  {
   "cell_type": "code",
   "execution_count": 4,
   "id": "4d75b88d",
   "metadata": {},
   "outputs": [
    {
     "name": "stdout",
     "output_type": "stream",
     "text": [
      "<class 'pandas.core.frame.DataFrame'>\n",
      "RangeIndex: 140056 entries, 0 to 140055\n",
      "Data columns (total 32 columns):\n",
      " #   Column                                       Non-Null Count   Dtype  \n",
      "---  ------                                       --------------   -----  \n",
      " 0   Accident_Index                               140056 non-null  object \n",
      " 1   Location_Easting_OSGR                        140029 non-null  float64\n",
      " 2   Location_Northing_OSGR                       140029 non-null  float64\n",
      " 3   Longitude                                    140029 non-null  float64\n",
      " 4   Latitude                                     140029 non-null  float64\n",
      " 5   Police_Force                                 140056 non-null  int64  \n",
      " 6   Accident_Severity                            140056 non-null  int64  \n",
      " 7   Number_of_Vehicles                           140056 non-null  int64  \n",
      " 8   Number_of_Casualties                         140056 non-null  int64  \n",
      " 9   Date                                         140056 non-null  object \n",
      " 10  Day_of_Week                                  140056 non-null  int64  \n",
      " 11  Time                                         140038 non-null  object \n",
      " 12  Local_Authority_(District)                   140056 non-null  int64  \n",
      " 13  Local_Authority_(Highway)                    140056 non-null  object \n",
      " 14  1st_Road_Class                               140056 non-null  int64  \n",
      " 15  1st_Road_Number                              140056 non-null  int64  \n",
      " 16  Road_Type                                    140056 non-null  int64  \n",
      " 17  Speed_limit                                  140056 non-null  int64  \n",
      " 18  Junction_Detail                              140056 non-null  int64  \n",
      " 19  Junction_Control                             140056 non-null  int64  \n",
      " 20  2nd_Road_Class                               140056 non-null  int64  \n",
      " 21  2nd_Road_Number                              140056 non-null  int64  \n",
      " 22  Pedestrian_Crossing-Human_Control            140056 non-null  int64  \n",
      " 23  Pedestrian_Crossing-Physical_Facilities      140056 non-null  int64  \n",
      " 24  Light_Conditions                             140056 non-null  int64  \n",
      " 25  Weather_Conditions                           140056 non-null  int64  \n",
      " 26  Road_Surface_Conditions                      140056 non-null  int64  \n",
      " 27  Special_Conditions_at_Site                   140056 non-null  int64  \n",
      " 28  Carriageway_Hazards                          140056 non-null  int64  \n",
      " 29  Urban_or_Rural_Area                          140056 non-null  int64  \n",
      " 30  Did_Police_Officer_Attend_Scene_of_Accident  140056 non-null  int64  \n",
      " 31  LSOA_of_Accident_Location                    131159 non-null  object \n",
      "dtypes: float64(4), int64(23), object(5)\n",
      "memory usage: 34.2+ MB\n"
     ]
    }
   ],
   "source": [
    "df.info()"
   ]
  },
  {
   "cell_type": "markdown",
   "id": "bbe8389e",
   "metadata": {},
   "source": [
    "### Data Cleaning and feature selection"
   ]
  },
  {
   "cell_type": "code",
   "execution_count": 5,
   "id": "6d4f210a",
   "metadata": {},
   "outputs": [],
   "source": [
    "# Drop rows with missing values\n",
    "df = df[df.LSOA_of_Accident_Location.notnull()]"
   ]
  },
  {
   "cell_type": "code",
   "execution_count": 6,
   "id": "f7f669f1",
   "metadata": {
    "scrolled": true
   },
   "outputs": [
    {
     "data": {
      "text/plain": [
       "Index(['accident_index', 'location_easting_osgr', 'location_northing_osgr',\n",
       "       'longitude', 'latitude', 'police_force', 'accident_severity',\n",
       "       'number_of_vehicles', 'number_of_casualties', 'date', 'day_of_week',\n",
       "       'time', 'local_authority_(district)', 'local_authority_(highway)',\n",
       "       '1st_road_class', '1st_road_number', 'road_type', 'speed_limit',\n",
       "       'junction_detail', 'junction_control', '2nd_road_class',\n",
       "       '2nd_road_number', 'pedestrian_crossing_human_control',\n",
       "       'pedestrian_crossing_physical_facilities', 'light_conditions',\n",
       "       'weather_conditions', 'road_surface_conditions',\n",
       "       'special_conditions_at_site', 'carriageway_hazards',\n",
       "       'urban_or_rural_area', 'did_police_officer_attend_scene_of_accident',\n",
       "       'lsoa_of_accident_location'],\n",
       "      dtype='object')"
      ]
     },
     "execution_count": 6,
     "metadata": {},
     "output_type": "execute_result"
    }
   ],
   "source": [
    "# Rename columns properly\n",
    "df.columns = [labels.lower() for labels in df.columns]\n",
    "df.columns = [labels.replace('-', '_') for labels in df.columns]\n",
    "# test\n",
    "df.columns"
   ]
  },
  {
   "cell_type": "markdown",
   "id": "8ea8e3d6",
   "metadata": {},
   "source": [
    " We drop unwanted columns(index, date and location columns) which include accident_index,location_easting_osgr, location_northing_osgr,longitude, latitude, date,day_of_week, time, local_authority_(district), local_authority_(highway), lsoa_of_accident_location"
   ]
  },
  {
   "cell_type": "code",
   "execution_count": 7,
   "id": "1ac16b4c",
   "metadata": {},
   "outputs": [],
   "source": [
    "df = df.drop(columns= ['accident_index', 'location_easting_osgr', 'location_northing_osgr','longitude', 'latitude','date', 'day_of_week',\n",
    "       'time', 'local_authority_(district)', 'local_authority_(highway)','lsoa_of_accident_location', 'did_police_officer_attend_scene_of_accident'])"
   ]
  },
  {
   "cell_type": "code",
   "execution_count": 8,
   "id": "d097c7b1",
   "metadata": {
    "scrolled": true
   },
   "outputs": [
    {
     "data": {
      "text/html": [
       "<div>\n",
       "<style scoped>\n",
       "    .dataframe tbody tr th:only-of-type {\n",
       "        vertical-align: middle;\n",
       "    }\n",
       "\n",
       "    .dataframe tbody tr th {\n",
       "        vertical-align: top;\n",
       "    }\n",
       "\n",
       "    .dataframe thead th {\n",
       "        text-align: right;\n",
       "    }\n",
       "</style>\n",
       "<table border=\"1\" class=\"dataframe\">\n",
       "  <thead>\n",
       "    <tr style=\"text-align: right;\">\n",
       "      <th></th>\n",
       "      <th>police_force</th>\n",
       "      <th>accident_severity</th>\n",
       "      <th>number_of_vehicles</th>\n",
       "      <th>number_of_casualties</th>\n",
       "      <th>1st_road_class</th>\n",
       "      <th>1st_road_number</th>\n",
       "      <th>road_type</th>\n",
       "      <th>speed_limit</th>\n",
       "      <th>junction_detail</th>\n",
       "      <th>junction_control</th>\n",
       "      <th>2nd_road_class</th>\n",
       "      <th>2nd_road_number</th>\n",
       "      <th>pedestrian_crossing_human_control</th>\n",
       "      <th>pedestrian_crossing_physical_facilities</th>\n",
       "      <th>light_conditions</th>\n",
       "      <th>weather_conditions</th>\n",
       "      <th>road_surface_conditions</th>\n",
       "      <th>special_conditions_at_site</th>\n",
       "      <th>carriageway_hazards</th>\n",
       "      <th>urban_or_rural_area</th>\n",
       "    </tr>\n",
       "  </thead>\n",
       "  <tbody>\n",
       "    <tr>\n",
       "      <th>0</th>\n",
       "      <td>1</td>\n",
       "      <td>3</td>\n",
       "      <td>1</td>\n",
       "      <td>1</td>\n",
       "      <td>5</td>\n",
       "      <td>0</td>\n",
       "      <td>6</td>\n",
       "      <td>30</td>\n",
       "      <td>3</td>\n",
       "      <td>4</td>\n",
       "      <td>6</td>\n",
       "      <td>0</td>\n",
       "      <td>0</td>\n",
       "      <td>0</td>\n",
       "      <td>4</td>\n",
       "      <td>1</td>\n",
       "      <td>1</td>\n",
       "      <td>0</td>\n",
       "      <td>0</td>\n",
       "      <td>1</td>\n",
       "    </tr>\n",
       "    <tr>\n",
       "      <th>1</th>\n",
       "      <td>1</td>\n",
       "      <td>3</td>\n",
       "      <td>1</td>\n",
       "      <td>1</td>\n",
       "      <td>6</td>\n",
       "      <td>0</td>\n",
       "      <td>6</td>\n",
       "      <td>30</td>\n",
       "      <td>3</td>\n",
       "      <td>4</td>\n",
       "      <td>3</td>\n",
       "      <td>3218</td>\n",
       "      <td>0</td>\n",
       "      <td>0</td>\n",
       "      <td>1</td>\n",
       "      <td>1</td>\n",
       "      <td>1</td>\n",
       "      <td>0</td>\n",
       "      <td>0</td>\n",
       "      <td>1</td>\n",
       "    </tr>\n",
       "    <tr>\n",
       "      <th>2</th>\n",
       "      <td>1</td>\n",
       "      <td>3</td>\n",
       "      <td>1</td>\n",
       "      <td>1</td>\n",
       "      <td>4</td>\n",
       "      <td>415</td>\n",
       "      <td>6</td>\n",
       "      <td>30</td>\n",
       "      <td>2</td>\n",
       "      <td>4</td>\n",
       "      <td>6</td>\n",
       "      <td>0</td>\n",
       "      <td>0</td>\n",
       "      <td>1</td>\n",
       "      <td>4</td>\n",
       "      <td>2</td>\n",
       "      <td>2</td>\n",
       "      <td>0</td>\n",
       "      <td>0</td>\n",
       "      <td>1</td>\n",
       "    </tr>\n",
       "    <tr>\n",
       "      <th>3</th>\n",
       "      <td>1</td>\n",
       "      <td>3</td>\n",
       "      <td>1</td>\n",
       "      <td>1</td>\n",
       "      <td>4</td>\n",
       "      <td>450</td>\n",
       "      <td>6</td>\n",
       "      <td>30</td>\n",
       "      <td>6</td>\n",
       "      <td>4</td>\n",
       "      <td>6</td>\n",
       "      <td>0</td>\n",
       "      <td>0</td>\n",
       "      <td>0</td>\n",
       "      <td>1</td>\n",
       "      <td>1</td>\n",
       "      <td>2</td>\n",
       "      <td>0</td>\n",
       "      <td>0</td>\n",
       "      <td>1</td>\n",
       "    </tr>\n",
       "    <tr>\n",
       "      <th>4</th>\n",
       "      <td>1</td>\n",
       "      <td>2</td>\n",
       "      <td>2</td>\n",
       "      <td>1</td>\n",
       "      <td>3</td>\n",
       "      <td>315</td>\n",
       "      <td>6</td>\n",
       "      <td>30</td>\n",
       "      <td>6</td>\n",
       "      <td>2</td>\n",
       "      <td>3</td>\n",
       "      <td>3220</td>\n",
       "      <td>0</td>\n",
       "      <td>5</td>\n",
       "      <td>1</td>\n",
       "      <td>2</td>\n",
       "      <td>2</td>\n",
       "      <td>0</td>\n",
       "      <td>0</td>\n",
       "      <td>1</td>\n",
       "    </tr>\n",
       "  </tbody>\n",
       "</table>\n",
       "</div>"
      ],
      "text/plain": [
       "   police_force  accident_severity  number_of_vehicles  number_of_casualties  \\\n",
       "0             1                  3                   1                     1   \n",
       "1             1                  3                   1                     1   \n",
       "2             1                  3                   1                     1   \n",
       "3             1                  3                   1                     1   \n",
       "4             1                  2                   2                     1   \n",
       "\n",
       "   1st_road_class  1st_road_number  road_type  speed_limit  junction_detail  \\\n",
       "0               5                0          6           30                3   \n",
       "1               6                0          6           30                3   \n",
       "2               4              415          6           30                2   \n",
       "3               4              450          6           30                6   \n",
       "4               3              315          6           30                6   \n",
       "\n",
       "   junction_control  2nd_road_class  2nd_road_number  \\\n",
       "0                 4               6                0   \n",
       "1                 4               3             3218   \n",
       "2                 4               6                0   \n",
       "3                 4               6                0   \n",
       "4                 2               3             3220   \n",
       "\n",
       "   pedestrian_crossing_human_control  pedestrian_crossing_physical_facilities  \\\n",
       "0                                  0                                        0   \n",
       "1                                  0                                        0   \n",
       "2                                  0                                        1   \n",
       "3                                  0                                        0   \n",
       "4                                  0                                        5   \n",
       "\n",
       "   light_conditions  weather_conditions  road_surface_conditions  \\\n",
       "0                 4                   1                        1   \n",
       "1                 1                   1                        1   \n",
       "2                 4                   2                        2   \n",
       "3                 1                   1                        2   \n",
       "4                 1                   2                        2   \n",
       "\n",
       "   special_conditions_at_site  carriageway_hazards  urban_or_rural_area  \n",
       "0                           0                    0                    1  \n",
       "1                           0                    0                    1  \n",
       "2                           0                    0                    1  \n",
       "3                           0                    0                    1  \n",
       "4                           0                    0                    1  "
      ]
     },
     "execution_count": 8,
     "metadata": {},
     "output_type": "execute_result"
    }
   ],
   "source": [
    "df.head()"
   ]
  },
  {
   "cell_type": "code",
   "execution_count": 9,
   "id": "9e15a37c",
   "metadata": {},
   "outputs": [
    {
     "name": "stdout",
     "output_type": "stream",
     "text": [
      "<class 'pandas.core.frame.DataFrame'>\n",
      "Int64Index: 131159 entries, 0 to 131591\n",
      "Data columns (total 20 columns):\n",
      " #   Column                                   Non-Null Count   Dtype\n",
      "---  ------                                   --------------   -----\n",
      " 0   police_force                             131159 non-null  int64\n",
      " 1   accident_severity                        131159 non-null  int64\n",
      " 2   number_of_vehicles                       131159 non-null  int64\n",
      " 3   number_of_casualties                     131159 non-null  int64\n",
      " 4   1st_road_class                           131159 non-null  int64\n",
      " 5   1st_road_number                          131159 non-null  int64\n",
      " 6   road_type                                131159 non-null  int64\n",
      " 7   speed_limit                              131159 non-null  int64\n",
      " 8   junction_detail                          131159 non-null  int64\n",
      " 9   junction_control                         131159 non-null  int64\n",
      " 10  2nd_road_class                           131159 non-null  int64\n",
      " 11  2nd_road_number                          131159 non-null  int64\n",
      " 12  pedestrian_crossing_human_control        131159 non-null  int64\n",
      " 13  pedestrian_crossing_physical_facilities  131159 non-null  int64\n",
      " 14  light_conditions                         131159 non-null  int64\n",
      " 15  weather_conditions                       131159 non-null  int64\n",
      " 16  road_surface_conditions                  131159 non-null  int64\n",
      " 17  special_conditions_at_site               131159 non-null  int64\n",
      " 18  carriageway_hazards                      131159 non-null  int64\n",
      " 19  urban_or_rural_area                      131159 non-null  int64\n",
      "dtypes: int64(20)\n",
      "memory usage: 21.0 MB\n"
     ]
    }
   ],
   "source": [
    "df.info()"
   ]
  },
  {
   "cell_type": "code",
   "execution_count": 10,
   "id": "c925e20b",
   "metadata": {},
   "outputs": [
    {
     "data": {
      "text/html": [
       "<div>\n",
       "<style scoped>\n",
       "    .dataframe tbody tr th:only-of-type {\n",
       "        vertical-align: middle;\n",
       "    }\n",
       "\n",
       "    .dataframe tbody tr th {\n",
       "        vertical-align: top;\n",
       "    }\n",
       "\n",
       "    .dataframe thead th {\n",
       "        text-align: right;\n",
       "    }\n",
       "</style>\n",
       "<table border=\"1\" class=\"dataframe\">\n",
       "  <thead>\n",
       "    <tr style=\"text-align: right;\">\n",
       "      <th></th>\n",
       "      <th>police_force</th>\n",
       "      <th>accident_severity</th>\n",
       "      <th>number_of_vehicles</th>\n",
       "      <th>number_of_casualties</th>\n",
       "      <th>1st_road_class</th>\n",
       "      <th>1st_road_number</th>\n",
       "      <th>road_type</th>\n",
       "      <th>speed_limit</th>\n",
       "      <th>junction_detail</th>\n",
       "      <th>junction_control</th>\n",
       "      <th>2nd_road_class</th>\n",
       "      <th>2nd_road_number</th>\n",
       "      <th>pedestrian_crossing_human_control</th>\n",
       "      <th>pedestrian_crossing_physical_facilities</th>\n",
       "      <th>light_conditions</th>\n",
       "      <th>weather_conditions</th>\n",
       "      <th>road_surface_conditions</th>\n",
       "      <th>special_conditions_at_site</th>\n",
       "      <th>carriageway_hazards</th>\n",
       "      <th>urban_or_rural_area</th>\n",
       "    </tr>\n",
       "  </thead>\n",
       "  <tbody>\n",
       "    <tr>\n",
       "      <th>count</th>\n",
       "      <td>131159.000000</td>\n",
       "      <td>131159.000000</td>\n",
       "      <td>131159.000000</td>\n",
       "      <td>131159.000000</td>\n",
       "      <td>131159.000000</td>\n",
       "      <td>131159.000000</td>\n",
       "      <td>131159.000000</td>\n",
       "      <td>131159.000000</td>\n",
       "      <td>131159.000000</td>\n",
       "      <td>131159.000000</td>\n",
       "      <td>131159.000000</td>\n",
       "      <td>131159.000000</td>\n",
       "      <td>131159.000000</td>\n",
       "      <td>131159.000000</td>\n",
       "      <td>131159.000000</td>\n",
       "      <td>131159.000000</td>\n",
       "      <td>131159.000000</td>\n",
       "      <td>131159.000000</td>\n",
       "      <td>131159.000000</td>\n",
       "      <td>131159.000000</td>\n",
       "    </tr>\n",
       "    <tr>\n",
       "      <th>mean</th>\n",
       "      <td>25.683156</td>\n",
       "      <td>2.836092</td>\n",
       "      <td>1.847994</td>\n",
       "      <td>1.331788</td>\n",
       "      <td>4.099864</td>\n",
       "      <td>993.790895</td>\n",
       "      <td>5.167522</td>\n",
       "      <td>37.973605</td>\n",
       "      <td>2.296426</td>\n",
       "      <td>1.813234</td>\n",
       "      <td>2.761595</td>\n",
       "      <td>373.122714</td>\n",
       "      <td>0.006267</td>\n",
       "      <td>0.839180</td>\n",
       "      <td>1.949992</td>\n",
       "      <td>1.496062</td>\n",
       "      <td>1.285615</td>\n",
       "      <td>0.096577</td>\n",
       "      <td>0.059973</td>\n",
       "      <td>1.336843</td>\n",
       "    </tr>\n",
       "    <tr>\n",
       "      <th>std</th>\n",
       "      <td>19.570807</td>\n",
       "      <td>0.399170</td>\n",
       "      <td>0.706834</td>\n",
       "      <td>0.793980</td>\n",
       "      <td>1.433879</td>\n",
       "      <td>1784.160242</td>\n",
       "      <td>1.650387</td>\n",
       "      <td>13.796987</td>\n",
       "      <td>2.484445</td>\n",
       "      <td>2.345673</td>\n",
       "      <td>3.200451</td>\n",
       "      <td>1275.614420</td>\n",
       "      <td>0.117242</td>\n",
       "      <td>1.933939</td>\n",
       "      <td>1.650230</td>\n",
       "      <td>1.507155</td>\n",
       "      <td>0.541564</td>\n",
       "      <td>0.690085</td>\n",
       "      <td>0.567379</td>\n",
       "      <td>0.472633</td>\n",
       "    </tr>\n",
       "    <tr>\n",
       "      <th>min</th>\n",
       "      <td>1.000000</td>\n",
       "      <td>1.000000</td>\n",
       "      <td>1.000000</td>\n",
       "      <td>1.000000</td>\n",
       "      <td>1.000000</td>\n",
       "      <td>0.000000</td>\n",
       "      <td>1.000000</td>\n",
       "      <td>0.000000</td>\n",
       "      <td>-1.000000</td>\n",
       "      <td>-1.000000</td>\n",
       "      <td>-1.000000</td>\n",
       "      <td>-1.000000</td>\n",
       "      <td>-1.000000</td>\n",
       "      <td>-1.000000</td>\n",
       "      <td>1.000000</td>\n",
       "      <td>1.000000</td>\n",
       "      <td>-1.000000</td>\n",
       "      <td>-1.000000</td>\n",
       "      <td>-1.000000</td>\n",
       "      <td>1.000000</td>\n",
       "    </tr>\n",
       "    <tr>\n",
       "      <th>25%</th>\n",
       "      <td>6.000000</td>\n",
       "      <td>3.000000</td>\n",
       "      <td>1.000000</td>\n",
       "      <td>1.000000</td>\n",
       "      <td>3.000000</td>\n",
       "      <td>0.000000</td>\n",
       "      <td>6.000000</td>\n",
       "      <td>30.000000</td>\n",
       "      <td>0.000000</td>\n",
       "      <td>-1.000000</td>\n",
       "      <td>-1.000000</td>\n",
       "      <td>0.000000</td>\n",
       "      <td>0.000000</td>\n",
       "      <td>0.000000</td>\n",
       "      <td>1.000000</td>\n",
       "      <td>1.000000</td>\n",
       "      <td>1.000000</td>\n",
       "      <td>0.000000</td>\n",
       "      <td>0.000000</td>\n",
       "      <td>1.000000</td>\n",
       "    </tr>\n",
       "    <tr>\n",
       "      <th>50%</th>\n",
       "      <td>22.000000</td>\n",
       "      <td>3.000000</td>\n",
       "      <td>2.000000</td>\n",
       "      <td>1.000000</td>\n",
       "      <td>4.000000</td>\n",
       "      <td>128.000000</td>\n",
       "      <td>6.000000</td>\n",
       "      <td>30.000000</td>\n",
       "      <td>3.000000</td>\n",
       "      <td>3.000000</td>\n",
       "      <td>3.000000</td>\n",
       "      <td>0.000000</td>\n",
       "      <td>0.000000</td>\n",
       "      <td>0.000000</td>\n",
       "      <td>1.000000</td>\n",
       "      <td>1.000000</td>\n",
       "      <td>1.000000</td>\n",
       "      <td>0.000000</td>\n",
       "      <td>0.000000</td>\n",
       "      <td>1.000000</td>\n",
       "    </tr>\n",
       "    <tr>\n",
       "      <th>75%</th>\n",
       "      <td>44.000000</td>\n",
       "      <td>3.000000</td>\n",
       "      <td>2.000000</td>\n",
       "      <td>1.000000</td>\n",
       "      <td>6.000000</td>\n",
       "      <td>674.000000</td>\n",
       "      <td>6.000000</td>\n",
       "      <td>40.000000</td>\n",
       "      <td>3.000000</td>\n",
       "      <td>4.000000</td>\n",
       "      <td>6.000000</td>\n",
       "      <td>0.000000</td>\n",
       "      <td>0.000000</td>\n",
       "      <td>0.000000</td>\n",
       "      <td>4.000000</td>\n",
       "      <td>1.000000</td>\n",
       "      <td>2.000000</td>\n",
       "      <td>0.000000</td>\n",
       "      <td>0.000000</td>\n",
       "      <td>2.000000</td>\n",
       "    </tr>\n",
       "    <tr>\n",
       "      <th>max</th>\n",
       "      <td>63.000000</td>\n",
       "      <td>3.000000</td>\n",
       "      <td>37.000000</td>\n",
       "      <td>38.000000</td>\n",
       "      <td>6.000000</td>\n",
       "      <td>9914.000000</td>\n",
       "      <td>9.000000</td>\n",
       "      <td>70.000000</td>\n",
       "      <td>9.000000</td>\n",
       "      <td>4.000000</td>\n",
       "      <td>6.000000</td>\n",
       "      <td>9999.000000</td>\n",
       "      <td>2.000000</td>\n",
       "      <td>8.000000</td>\n",
       "      <td>7.000000</td>\n",
       "      <td>9.000000</td>\n",
       "      <td>5.000000</td>\n",
       "      <td>7.000000</td>\n",
       "      <td>7.000000</td>\n",
       "      <td>2.000000</td>\n",
       "    </tr>\n",
       "  </tbody>\n",
       "</table>\n",
       "</div>"
      ],
      "text/plain": [
       "        police_force  accident_severity  number_of_vehicles  \\\n",
       "count  131159.000000      131159.000000       131159.000000   \n",
       "mean       25.683156           2.836092            1.847994   \n",
       "std        19.570807           0.399170            0.706834   \n",
       "min         1.000000           1.000000            1.000000   \n",
       "25%         6.000000           3.000000            1.000000   \n",
       "50%        22.000000           3.000000            2.000000   \n",
       "75%        44.000000           3.000000            2.000000   \n",
       "max        63.000000           3.000000           37.000000   \n",
       "\n",
       "       number_of_casualties  1st_road_class  1st_road_number      road_type  \\\n",
       "count         131159.000000   131159.000000    131159.000000  131159.000000   \n",
       "mean               1.331788        4.099864       993.790895       5.167522   \n",
       "std                0.793980        1.433879      1784.160242       1.650387   \n",
       "min                1.000000        1.000000         0.000000       1.000000   \n",
       "25%                1.000000        3.000000         0.000000       6.000000   \n",
       "50%                1.000000        4.000000       128.000000       6.000000   \n",
       "75%                1.000000        6.000000       674.000000       6.000000   \n",
       "max               38.000000        6.000000      9914.000000       9.000000   \n",
       "\n",
       "         speed_limit  junction_detail  junction_control  2nd_road_class  \\\n",
       "count  131159.000000    131159.000000     131159.000000   131159.000000   \n",
       "mean       37.973605         2.296426          1.813234        2.761595   \n",
       "std        13.796987         2.484445          2.345673        3.200451   \n",
       "min         0.000000        -1.000000         -1.000000       -1.000000   \n",
       "25%        30.000000         0.000000         -1.000000       -1.000000   \n",
       "50%        30.000000         3.000000          3.000000        3.000000   \n",
       "75%        40.000000         3.000000          4.000000        6.000000   \n",
       "max        70.000000         9.000000          4.000000        6.000000   \n",
       "\n",
       "       2nd_road_number  pedestrian_crossing_human_control  \\\n",
       "count    131159.000000                      131159.000000   \n",
       "mean        373.122714                           0.006267   \n",
       "std        1275.614420                           0.117242   \n",
       "min          -1.000000                          -1.000000   \n",
       "25%           0.000000                           0.000000   \n",
       "50%           0.000000                           0.000000   \n",
       "75%           0.000000                           0.000000   \n",
       "max        9999.000000                           2.000000   \n",
       "\n",
       "       pedestrian_crossing_physical_facilities  light_conditions  \\\n",
       "count                            131159.000000     131159.000000   \n",
       "mean                                  0.839180          1.949992   \n",
       "std                                   1.933939          1.650230   \n",
       "min                                  -1.000000          1.000000   \n",
       "25%                                   0.000000          1.000000   \n",
       "50%                                   0.000000          1.000000   \n",
       "75%                                   0.000000          4.000000   \n",
       "max                                   8.000000          7.000000   \n",
       "\n",
       "       weather_conditions  road_surface_conditions  \\\n",
       "count       131159.000000            131159.000000   \n",
       "mean             1.496062                 1.285615   \n",
       "std              1.507155                 0.541564   \n",
       "min              1.000000                -1.000000   \n",
       "25%              1.000000                 1.000000   \n",
       "50%              1.000000                 1.000000   \n",
       "75%              1.000000                 2.000000   \n",
       "max              9.000000                 5.000000   \n",
       "\n",
       "       special_conditions_at_site  carriageway_hazards  urban_or_rural_area  \n",
       "count               131159.000000        131159.000000        131159.000000  \n",
       "mean                     0.096577             0.059973             1.336843  \n",
       "std                      0.690085             0.567379             0.472633  \n",
       "min                     -1.000000            -1.000000             1.000000  \n",
       "25%                      0.000000             0.000000             1.000000  \n",
       "50%                      0.000000             0.000000             1.000000  \n",
       "75%                      0.000000             0.000000             2.000000  \n",
       "max                      7.000000             7.000000             2.000000  "
      ]
     },
     "execution_count": 10,
     "metadata": {},
     "output_type": "execute_result"
    }
   ],
   "source": [
    "df.describe()"
   ]
  },
  {
   "cell_type": "code",
   "execution_count": 11,
   "id": "f6c06c49",
   "metadata": {
    "scrolled": true
   },
   "outputs": [],
   "source": [
    "# Missing data has been coded with -1 for some variable. So we drop all rows with  -1\n",
    "\n",
    "for label in df.columns:\n",
    "    df = df[df[label] != -1]\n",
    "    "
   ]
  },
  {
   "cell_type": "code",
   "execution_count": 12,
   "id": "571abdbb",
   "metadata": {
    "scrolled": true
   },
   "outputs": [
    {
     "data": {
      "text/html": [
       "<div>\n",
       "<style scoped>\n",
       "    .dataframe tbody tr th:only-of-type {\n",
       "        vertical-align: middle;\n",
       "    }\n",
       "\n",
       "    .dataframe tbody tr th {\n",
       "        vertical-align: top;\n",
       "    }\n",
       "\n",
       "    .dataframe thead th {\n",
       "        text-align: right;\n",
       "    }\n",
       "</style>\n",
       "<table border=\"1\" class=\"dataframe\">\n",
       "  <thead>\n",
       "    <tr style=\"text-align: right;\">\n",
       "      <th></th>\n",
       "      <th>police_force</th>\n",
       "      <th>accident_severity</th>\n",
       "      <th>number_of_vehicles</th>\n",
       "      <th>number_of_casualties</th>\n",
       "      <th>1st_road_class</th>\n",
       "      <th>1st_road_number</th>\n",
       "      <th>road_type</th>\n",
       "      <th>speed_limit</th>\n",
       "      <th>junction_detail</th>\n",
       "      <th>junction_control</th>\n",
       "      <th>2nd_road_class</th>\n",
       "      <th>2nd_road_number</th>\n",
       "      <th>pedestrian_crossing_human_control</th>\n",
       "      <th>pedestrian_crossing_physical_facilities</th>\n",
       "      <th>light_conditions</th>\n",
       "      <th>weather_conditions</th>\n",
       "      <th>road_surface_conditions</th>\n",
       "      <th>special_conditions_at_site</th>\n",
       "      <th>carriageway_hazards</th>\n",
       "      <th>urban_or_rural_area</th>\n",
       "    </tr>\n",
       "  </thead>\n",
       "  <tbody>\n",
       "  </tbody>\n",
       "</table>\n",
       "</div>"
      ],
      "text/plain": [
       "Empty DataFrame\n",
       "Columns: [police_force, accident_severity, number_of_vehicles, number_of_casualties, 1st_road_class, 1st_road_number, road_type, speed_limit, junction_detail, junction_control, 2nd_road_class, 2nd_road_number, pedestrian_crossing_human_control, pedestrian_crossing_physical_facilities, light_conditions, weather_conditions, road_surface_conditions, special_conditions_at_site, carriageway_hazards, urban_or_rural_area]\n",
       "Index: []"
      ]
     },
     "execution_count": 12,
     "metadata": {},
     "output_type": "execute_result"
    }
   ],
   "source": [
    "# test\n",
    "df[df.pedestrian_crossing_physical_facilities== -1]"
   ]
  },
  {
   "cell_type": "code",
   "execution_count": 13,
   "id": "22f70b83",
   "metadata": {},
   "outputs": [
    {
     "name": "stdout",
     "output_type": "stream",
     "text": [
      "<class 'pandas.core.frame.DataFrame'>\n",
      "Int64Index: 78791 entries, 0 to 131590\n",
      "Data columns (total 20 columns):\n",
      " #   Column                                   Non-Null Count  Dtype\n",
      "---  ------                                   --------------  -----\n",
      " 0   police_force                             78791 non-null  int64\n",
      " 1   accident_severity                        78791 non-null  int64\n",
      " 2   number_of_vehicles                       78791 non-null  int64\n",
      " 3   number_of_casualties                     78791 non-null  int64\n",
      " 4   1st_road_class                           78791 non-null  int64\n",
      " 5   1st_road_number                          78791 non-null  int64\n",
      " 6   road_type                                78791 non-null  int64\n",
      " 7   speed_limit                              78791 non-null  int64\n",
      " 8   junction_detail                          78791 non-null  int64\n",
      " 9   junction_control                         78791 non-null  int64\n",
      " 10  2nd_road_class                           78791 non-null  int64\n",
      " 11  2nd_road_number                          78791 non-null  int64\n",
      " 12  pedestrian_crossing_human_control        78791 non-null  int64\n",
      " 13  pedestrian_crossing_physical_facilities  78791 non-null  int64\n",
      " 14  light_conditions                         78791 non-null  int64\n",
      " 15  weather_conditions                       78791 non-null  int64\n",
      " 16  road_surface_conditions                  78791 non-null  int64\n",
      " 17  special_conditions_at_site               78791 non-null  int64\n",
      " 18  carriageway_hazards                      78791 non-null  int64\n",
      " 19  urban_or_rural_area                      78791 non-null  int64\n",
      "dtypes: int64(20)\n",
      "memory usage: 12.6 MB\n"
     ]
    }
   ],
   "source": [
    "df.info()"
   ]
  },
  {
   "cell_type": "code",
   "execution_count": 14,
   "id": "e7f3a667",
   "metadata": {},
   "outputs": [],
   "source": [
    "# Separate features from target\n",
    "features = df.drop(columns= 'accident_severity').values\n",
    "target = df.accident_severity.values"
   ]
  },
  {
   "cell_type": "code",
   "execution_count": 15,
   "id": "c8f29871",
   "metadata": {},
   "outputs": [],
   "source": [
    "# Split the dataset into train and test set\n",
    "from sklearn.model_selection import train_test_split\n",
    "X_train, X_test, y_train, y_test = train_test_split(features, target, test_size= 0.3, random_state= 42)"
   ]
  },
  {
   "cell_type": "markdown",
   "id": "d0de050e",
   "metadata": {},
   "source": [
    "### Feature Scaling"
   ]
  },
  {
   "cell_type": "code",
   "execution_count": 16,
   "id": "6dbe6c33",
   "metadata": {},
   "outputs": [],
   "source": [
    "from sklearn.preprocessing import StandardScaler\n",
    "scaler = StandardScaler()\n",
    "X_train = scaler.fit_transform(X_train)\n",
    "X_test = scaler.fit_transform(X_test)"
   ]
  },
  {
   "cell_type": "markdown",
   "id": "c5c10288",
   "metadata": {},
   "source": [
    "### Building models\n",
    "#### SVM"
   ]
  },
  {
   "cell_type": "code",
   "execution_count": 17,
   "id": "be2a7be8",
   "metadata": {},
   "outputs": [],
   "source": [
    "#import module and initialize model\n",
    "from sklearn.svm import SVC\n",
    "clf = SVC(kernel = 'linear', random_state = 0)"
   ]
  },
  {
   "cell_type": "code",
   "execution_count": 18,
   "id": "c8b5e724",
   "metadata": {},
   "outputs": [],
   "source": [
    "# Train model useing our train set and make prediction using test set\n",
    "clf.fit(X_train, y_train)\n",
    "y_pred = clf.predict(X_test)"
   ]
  },
  {
   "cell_type": "code",
   "execution_count": 19,
   "id": "a241dedd",
   "metadata": {},
   "outputs": [
    {
     "data": {
      "text/plain": [
       "array([3, 3, 3, ..., 3, 3, 3], dtype=int64)"
      ]
     },
     "execution_count": 19,
     "metadata": {},
     "output_type": "execute_result"
    }
   ],
   "source": [
    "y_pred"
   ]
  },
  {
   "cell_type": "code",
   "execution_count": 20,
   "id": "5597e7d9",
   "metadata": {},
   "outputs": [
    {
     "data": {
      "text/plain": [
       "0.8658938996531009"
      ]
     },
     "execution_count": 20,
     "metadata": {},
     "output_type": "execute_result"
    }
   ],
   "source": [
    "# check for model accuracy\n",
    "from sklearn.metrics import accuracy_score\n",
    "accuracy = accuracy_score(y_test, y_pred)\n",
    "accuracy"
   ]
  },
  {
   "cell_type": "code",
   "execution_count": 21,
   "id": "a77fb9e5",
   "metadata": {},
   "outputs": [
    {
     "data": {
      "text/plain": [
       "array([[    0,     0,   141],\n",
       "       [    0,     0,  3029],\n",
       "       [    0,     0, 20468]], dtype=int64)"
      ]
     },
     "execution_count": 21,
     "metadata": {},
     "output_type": "execute_result"
    }
   ],
   "source": [
    "# print out confusion matrix\n",
    "from sklearn.metrics import confusion_matrix\n",
    "cfm = confusion_matrix(y_test, y_pred)\n",
    "cfm"
   ]
  },
  {
   "cell_type": "code",
   "execution_count": 22,
   "id": "45074de4",
   "metadata": {},
   "outputs": [
    {
     "name": "stderr",
     "output_type": "stream",
     "text": [
      "C:\\Users\\osazu\\anaconda3\\lib\\site-packages\\sklearn\\metrics\\_classification.py:1248: UndefinedMetricWarning: Precision and F-score are ill-defined and being set to 0.0 in labels with no predicted samples. Use `zero_division` parameter to control this behavior.\n",
      "  _warn_prf(average, modifier, msg_start, len(result))\n",
      "C:\\Users\\osazu\\anaconda3\\lib\\site-packages\\sklearn\\metrics\\_classification.py:1248: UndefinedMetricWarning: Precision and F-score are ill-defined and being set to 0.0 in labels with no predicted samples. Use `zero_division` parameter to control this behavior.\n",
      "  _warn_prf(average, modifier, msg_start, len(result))\n",
      "C:\\Users\\osazu\\anaconda3\\lib\\site-packages\\sklearn\\metrics\\_classification.py:1248: UndefinedMetricWarning: Precision and F-score are ill-defined and being set to 0.0 in labels with no predicted samples. Use `zero_division` parameter to control this behavior.\n",
      "  _warn_prf(average, modifier, msg_start, len(result))\n"
     ]
    },
    {
     "data": {
      "text/plain": [
       "'              precision    recall  f1-score   support\\n\\n           1       0.00      0.00      0.00       141\\n           2       0.00      0.00      0.00      3029\\n           3       0.87      1.00      0.93     20468\\n\\n    accuracy                           0.87     23638\\n   macro avg       0.29      0.33      0.31     23638\\nweighted avg       0.75      0.87      0.80     23638\\n'"
      ]
     },
     "execution_count": 22,
     "metadata": {},
     "output_type": "execute_result"
    }
   ],
   "source": [
    "# print out classification report\n",
    "from sklearn.metrics import classification_report\n",
    "clf_report = classification_report(y_test, y_pred)\n",
    "clf_report"
   ]
  },
  {
   "cell_type": "code",
   "execution_count": 23,
   "id": "10c1c026",
   "metadata": {},
   "outputs": [
    {
     "name": "stdout",
     "output_type": "stream",
     "text": [
      "              precision    recall  f1-score   support\n",
      "\n",
      "           1       0.00      0.00      0.00       141\n",
      "           2       0.00      0.00      0.00      3029\n",
      "           3       0.87      1.00      0.93     20468\n",
      "\n",
      "    accuracy                           0.87     23638\n",
      "   macro avg       0.29      0.33      0.31     23638\n",
      "weighted avg       0.75      0.87      0.80     23638\n",
      "\n"
     ]
    }
   ],
   "source": [
    "print(clf_report)"
   ]
  },
  {
   "cell_type": "code",
   "execution_count": 24,
   "id": "847f1a12",
   "metadata": {},
   "outputs": [],
   "source": [
    "def train_predict_svm(kernel, c, gamma):\n",
    "    \"\"\"\n",
    "    The function train an SVM model for various hyperparameter combination, predict values for \n",
    "    the target variable and print out a classification report.\n",
    "    INPUTS:\n",
    "    kernel: String values for any SVM kernel\n",
    "    c: integer value for SVM C\n",
    "    gamma: integer value for SVM gamma\n",
    "\n",
    "    \"\"\"\n",
    "    #initialize model\n",
    "    clf = SVC(kernel= kernel, C= c, gamma= gamma)\n",
    "    # Train model useing our train set and make prediction using test set\n",
    "    clf.fit(X_train, y_train)\n",
    "    y_pred = clf.predict(X_test)\n",
    "    # check for model accuracy\n",
    "    accuracy = accuracy_score(y_test, y_pred)\n",
    "    print(accuracy)\n",
    "    # print out classification report\n",
    "    clf_report = classification_report(y_test, y_pred, zero_division = 0)\n",
    "    print(clf_report)"
   ]
  },
  {
   "cell_type": "code",
   "execution_count": 25,
   "id": "b4552620",
   "metadata": {
    "scrolled": false
   },
   "outputs": [
    {
     "name": "stdout",
     "output_type": "stream",
     "text": [
      "For the C value of 1 using a linear kernel and a gamma value of  1\n",
      "0.8658938996531009\n",
      "              precision    recall  f1-score   support\n",
      "\n",
      "           1       0.00      0.00      0.00       141\n",
      "           2       0.00      0.00      0.00      3029\n",
      "           3       0.87      1.00      0.93     20468\n",
      "\n",
      "    accuracy                           0.87     23638\n",
      "   macro avg       0.29      0.33      0.31     23638\n",
      "weighted avg       0.75      0.87      0.80     23638\n",
      "\n",
      "For the C value of 2 using a linear kernel and a gamma value of  1\n",
      "0.8658938996531009\n",
      "              precision    recall  f1-score   support\n",
      "\n",
      "           1       0.00      0.00      0.00       141\n",
      "           2       0.00      0.00      0.00      3029\n",
      "           3       0.87      1.00      0.93     20468\n",
      "\n",
      "    accuracy                           0.87     23638\n",
      "   macro avg       0.29      0.33      0.31     23638\n",
      "weighted avg       0.75      0.87      0.80     23638\n",
      "\n",
      "For the C value of 3 using a linear kernel and a gamma value of  1\n",
      "0.8658938996531009\n",
      "              precision    recall  f1-score   support\n",
      "\n",
      "           1       0.00      0.00      0.00       141\n",
      "           2       0.00      0.00      0.00      3029\n",
      "           3       0.87      1.00      0.93     20468\n",
      "\n",
      "    accuracy                           0.87     23638\n",
      "   macro avg       0.29      0.33      0.31     23638\n",
      "weighted avg       0.75      0.87      0.80     23638\n",
      "\n"
     ]
    }
   ],
   "source": [
    "# run the train_predict_svm function for different values of c\n",
    "val_c = [2,3]\n",
    "for value in val_c:\n",
    "    print('For the C value of {} using a linear kernel and a gamma value of  1'.format(value))\n",
    "    train_predict_svm(kernel= 'linear', c = value, gamma= 1)"
   ]
  },
  {
   "cell_type": "code",
   "execution_count": 26,
   "id": "187e9065",
   "metadata": {},
   "outputs": [
    {
     "name": "stdout",
     "output_type": "stream",
     "text": [
      "For the gamma value of 10 using a linear kernel and a c value of  1\n",
      "0.8658938996531009\n",
      "              precision    recall  f1-score   support\n",
      "\n",
      "           1       0.00      0.00      0.00       141\n",
      "           2       0.00      0.00      0.00      3029\n",
      "           3       0.87      1.00      0.93     20468\n",
      "\n",
      "    accuracy                           0.87     23638\n",
      "   macro avg       0.29      0.33      0.31     23638\n",
      "weighted avg       0.75      0.87      0.80     23638\n",
      "\n",
      "For the gamma value of 20 using a linear kernel and a c value of  1\n",
      "0.8658938996531009\n",
      "              precision    recall  f1-score   support\n",
      "\n",
      "           1       0.00      0.00      0.00       141\n",
      "           2       0.00      0.00      0.00      3029\n",
      "           3       0.87      1.00      0.93     20468\n",
      "\n",
      "    accuracy                           0.87     23638\n",
      "   macro avg       0.29      0.33      0.31     23638\n",
      "weighted avg       0.75      0.87      0.80     23638\n",
      "\n",
      "For the gamma value of 30 using a linear kernel and a c value of  1\n",
      "0.8658938996531009\n",
      "              precision    recall  f1-score   support\n",
      "\n",
      "           1       0.00      0.00      0.00       141\n",
      "           2       0.00      0.00      0.00      3029\n",
      "           3       0.87      1.00      0.93     20468\n",
      "\n",
      "    accuracy                           0.87     23638\n",
      "   macro avg       0.29      0.33      0.31     23638\n",
      "weighted avg       0.75      0.87      0.80     23638\n",
      "\n"
     ]
    }
   ],
   "source": [
    "# run the train_predict_svm function for different values of gamma\n",
    "val_gamma = [10, 20, 30]\n",
    "for value in val_gamma:\n",
    "    print('For the gamma value of {} using a linear kernel and a c value of  1'.format(value))\n",
    "    train_predict_svm(kernel= 'linear', c= 1, gamma= value)"
   ]
  },
  {
   "cell_type": "code",
   "execution_count": 27,
   "id": "7bffc0bb",
   "metadata": {},
   "outputs": [
    {
     "name": "stdout",
     "output_type": "stream",
     "text": [
      "For the gamma value of 1 using a rbf kernel and a c value of  1\n",
      "0.8643286234029952\n",
      "              precision    recall  f1-score   support\n",
      "\n",
      "           1       0.00      0.00      0.00       141\n",
      "           2       0.25      0.01      0.01      3029\n",
      "           3       0.87      1.00      0.93     20468\n",
      "\n",
      "    accuracy                           0.86     23638\n",
      "   macro avg       0.37      0.33      0.31     23638\n",
      "weighted avg       0.78      0.86      0.80     23638\n",
      "\n",
      "For the gamma value of 1 using a sigmoid kernel and a c value of  1\n",
      "0.766139267281496\n",
      "              precision    recall  f1-score   support\n",
      "\n",
      "           1       0.02      0.05      0.03       141\n",
      "           2       0.12      0.10      0.11      3029\n",
      "           3       0.86      0.87      0.87     20468\n",
      "\n",
      "    accuracy                           0.77     23638\n",
      "   macro avg       0.33      0.34      0.33     23638\n",
      "weighted avg       0.76      0.77      0.76     23638\n",
      "\n"
     ]
    }
   ],
   "source": [
    "# run the train_predict_svm for different kernel\n",
    "val_ker = ['rbf', 'sigmoid']\n",
    "for value in val_ker:\n",
    "    print('For the gamma value of 1 using a {} kernel and a c value of  1'.format(value))\n",
    "    train_predict_svm(kernel= value, c= 1, gamma= 1)\n"
   ]
  },
  {
   "cell_type": "code",
   "execution_count": 29,
   "id": "b68c2604",
   "metadata": {},
   "outputs": [
    {
     "name": "stdout",
     "output_type": "stream",
     "text": [
      "For the gamma value of 10 using a sigmid kernel and a c value of  1\n",
      "0.768085286403249\n",
      "              precision    recall  f1-score   support\n",
      "\n",
      "           1       0.01      0.01      0.01       141\n",
      "           2       0.13      0.13      0.13      3029\n",
      "           3       0.87      0.87      0.87     20468\n",
      "\n",
      "    accuracy                           0.77     23638\n",
      "   macro avg       0.34      0.34      0.34     23638\n",
      "weighted avg       0.77      0.77      0.77     23638\n",
      "\n",
      "For the gamma value of 20 using a sigmid kernel and a c value of  1\n",
      "0.765123952957103\n",
      "              precision    recall  f1-score   support\n",
      "\n",
      "           1       0.01      0.01      0.01       141\n",
      "           2       0.12      0.12      0.12      3029\n",
      "           3       0.87      0.87      0.87     20468\n",
      "\n",
      "    accuracy                           0.77     23638\n",
      "   macro avg       0.33      0.33      0.33     23638\n",
      "weighted avg       0.77      0.77      0.77     23638\n",
      "\n",
      "For the gamma value of 30 using a sigmid kernel and a c value of  1\n",
      "0.7634317624164481\n",
      "              precision    recall  f1-score   support\n",
      "\n",
      "           1       0.01      0.01      0.01       141\n",
      "           2       0.12      0.12      0.12      3029\n",
      "           3       0.86      0.86      0.86     20468\n",
      "\n",
      "    accuracy                           0.76     23638\n",
      "   macro avg       0.33      0.33      0.33     23638\n",
      "weighted avg       0.76      0.76      0.76     23638\n",
      "\n"
     ]
    }
   ],
   "source": [
    "# run the train_predict_svm function for different values of gamma\n",
    "val_gamma = [10, 20, 30]\n",
    "for value in val_gamma:\n",
    "    print('For the gamma value of {} using a sigmid kernel and a c value of  1'.format(value))\n",
    "    train_predict_svm(kernel= 'sigmoid', c= 1, gamma= value)"
   ]
  },
  {
   "cell_type": "code",
   "execution_count": 30,
   "id": "000b5418",
   "metadata": {},
   "outputs": [
    {
     "name": "stdout",
     "output_type": "stream",
     "text": [
      "For the C value of 10 using a sigmoid kernel and a gamma value of  1\n",
      "0.766943057788307\n",
      "              precision    recall  f1-score   support\n",
      "\n",
      "           1       0.01      0.02      0.01       141\n",
      "           2       0.12      0.10      0.11      3029\n",
      "           3       0.86      0.87      0.87     20468\n",
      "\n",
      "    accuracy                           0.77     23638\n",
      "   macro avg       0.33      0.33      0.33     23638\n",
      "weighted avg       0.76      0.77      0.77     23638\n",
      "\n",
      "For the C value of 100 using a sigmoid kernel and a gamma value of  1\n",
      "0.7665623149166596\n",
      "              precision    recall  f1-score   support\n",
      "\n",
      "           1       0.01      0.03      0.02       141\n",
      "           2       0.12      0.10      0.11      3029\n",
      "           3       0.86      0.87      0.87     20468\n",
      "\n",
      "    accuracy                           0.77     23638\n",
      "   macro avg       0.33      0.33      0.33     23638\n",
      "weighted avg       0.76      0.77      0.77     23638\n",
      "\n"
     ]
    }
   ],
   "source": [
    "# run the train_predict_svm function for different values of c\n",
    "val_c = [10,100]\n",
    "for value in val_c:\n",
    "    print('For the C value of {} using a sigmoid kernel and a gamma value of  1'.format(value))\n",
    "    train_predict_svm(kernel= 'sigmoid', c = value, gamma= 1)"
   ]
  },
  {
   "cell_type": "markdown",
   "id": "bfa11cb3",
   "metadata": {},
   "source": [
    "#### Random forest"
   ]
  },
  {
   "cell_type": "code",
   "execution_count": 32,
   "id": "c5c3539d",
   "metadata": {},
   "outputs": [
    {
     "data": {
      "text/plain": [
       "RandomForestClassifier(n_estimators=50, random_state=44)"
      ]
     },
     "execution_count": 32,
     "metadata": {},
     "output_type": "execute_result"
    }
   ],
   "source": [
    "# import, instantiate and train model\n",
    "from sklearn.ensemble import RandomForestClassifier\n",
    "rf_clf = RandomForestClassifier(n_estimators= 50, max_features= 'auto', random_state= 44,)\n",
    "rf_clf.fit(X_train, y_train)"
   ]
  },
  {
   "cell_type": "code",
   "execution_count": 33,
   "id": "a51cbf82",
   "metadata": {},
   "outputs": [
    {
     "data": {
      "text/plain": [
       "array([3, 2, 3, ..., 3, 3, 3], dtype=int64)"
      ]
     },
     "execution_count": 33,
     "metadata": {},
     "output_type": "execute_result"
    }
   ],
   "source": [
    "# make prediction on feature test\n",
    "y_pred = rf_clf.predict(X_test)\n",
    "y_pred"
   ]
  },
  {
   "cell_type": "code",
   "execution_count": 34,
   "id": "4f3c5b87",
   "metadata": {},
   "outputs": [
    {
     "data": {
      "text/plain": [
       "array([[0.        , 0.04      , 0.96      ],\n",
       "       [0.        , 0.53      , 0.47      ],\n",
       "       [0.        , 0.06      , 0.94      ],\n",
       "       ...,\n",
       "       [0.        , 0.16      , 0.84      ],\n",
       "       [0.        , 0.10020847, 0.89979153],\n",
       "       [0.        , 0.        , 1.        ]])"
      ]
     },
     "execution_count": 34,
     "metadata": {},
     "output_type": "execute_result"
    }
   ],
   "source": [
    "# prediction probability\n",
    "pred_prob = rf_clf.predict_proba(X_test)\n",
    "pred_prob"
   ]
  },
  {
   "cell_type": "code",
   "execution_count": 35,
   "id": "d22cbf89",
   "metadata": {},
   "outputs": [
    {
     "data": {
      "text/plain": [
       "0.8582367374566376"
      ]
     },
     "execution_count": 35,
     "metadata": {},
     "output_type": "execute_result"
    }
   ],
   "source": [
    "# check for model accuracy\n",
    "from sklearn.metrics import accuracy_score\n",
    "accuracy = accuracy_score(y_test, y_pred)\n",
    "accuracy"
   ]
  },
  {
   "cell_type": "code",
   "execution_count": 36,
   "id": "9321b4d5",
   "metadata": {},
   "outputs": [
    {
     "data": {
      "text/plain": [
       "array([[    0,     4,   137],\n",
       "       [    1,    59,  2969],\n",
       "       [    4,   236, 20228]], dtype=int64)"
      ]
     },
     "execution_count": 36,
     "metadata": {},
     "output_type": "execute_result"
    }
   ],
   "source": [
    "# print out confusion matrix\n",
    "from sklearn.metrics import confusion_matrix\n",
    "cfm = confusion_matrix(y_test, y_pred)\n",
    "cfm"
   ]
  },
  {
   "cell_type": "code",
   "execution_count": 37,
   "id": "6a53b057",
   "metadata": {},
   "outputs": [
    {
     "name": "stdout",
     "output_type": "stream",
     "text": [
      "              precision    recall  f1-score   support\n",
      "\n",
      "           1       0.00      0.00      0.00       141\n",
      "           2       0.20      0.02      0.04      3029\n",
      "           3       0.87      0.99      0.92     20468\n",
      "\n",
      "    accuracy                           0.86     23638\n",
      "   macro avg       0.35      0.34      0.32     23638\n",
      "weighted avg       0.78      0.86      0.80     23638\n",
      "\n"
     ]
    }
   ],
   "source": [
    "# print out classification report\n",
    "from sklearn.metrics import classification_report\n",
    "clf_report = classification_report(y_test, y_pred, zero_division=0)\n",
    "print(clf_report)"
   ]
  },
  {
   "cell_type": "code",
   "execution_count": 38,
   "id": "c91b2797",
   "metadata": {},
   "outputs": [],
   "source": [
    "def train_predict_rf(n_est, max_depth):\n",
    "    \"\"\"\n",
    "    The function train a random forest model for various hyperparameter combination, predict values for \n",
    "    the target variable and print out a classification report.\n",
    "    INPUTS:\n",
    "    n_est: integer value for the number of tree of a random forest model ie n_estimator\n",
    "    max_depth: integer value for the tree depth of a random forest model\n",
    "\n",
    "    \"\"\"\n",
    "    #initialize model\n",
    "    rf_clf = RandomForestClassifier(n_estimators= n_est, max_features= 'auto', random_state= 44,max_depth= max_depth)\n",
    "    # Train model useing our train set and make prediction using test set\n",
    "    rf_clf.fit(X_train, y_train)\n",
    "    y_pred = clf.predict(X_test)\n",
    "    # check for model accuracy\n",
    "    r_accuracy = accuracy_score(y_test, y_pred)\n",
    "    print(r_accuracy)\n",
    "    # print out classification report\n",
    "    rf_clf_report = classification_report(y_test, y_pred, zero_division = 0)\n",
    "    print(rf_clf_report)"
   ]
  },
  {
   "cell_type": "code",
   "execution_count": 39,
   "id": "52d486bb",
   "metadata": {},
   "outputs": [
    {
     "name": "stdout",
     "output_type": "stream",
     "text": [
      "For a n_estimator of 100 while max_depth is 80\n",
      "0.8658938996531009\n",
      "              precision    recall  f1-score   support\n",
      "\n",
      "           1       0.00      0.00      0.00       141\n",
      "           2       0.00      0.00      0.00      3029\n",
      "           3       0.87      1.00      0.93     20468\n",
      "\n",
      "    accuracy                           0.87     23638\n",
      "   macro avg       0.29      0.33      0.31     23638\n",
      "weighted avg       0.75      0.87      0.80     23638\n",
      "\n",
      "For a n_estimator of 200 while max_depth is 80\n",
      "0.8658938996531009\n",
      "              precision    recall  f1-score   support\n",
      "\n",
      "           1       0.00      0.00      0.00       141\n",
      "           2       0.00      0.00      0.00      3029\n",
      "           3       0.87      1.00      0.93     20468\n",
      "\n",
      "    accuracy                           0.87     23638\n",
      "   macro avg       0.29      0.33      0.31     23638\n",
      "weighted avg       0.75      0.87      0.80     23638\n",
      "\n",
      "For a n_estimator of 300 while max_depth is 80\n",
      "0.8658938996531009\n",
      "              precision    recall  f1-score   support\n",
      "\n",
      "           1       0.00      0.00      0.00       141\n",
      "           2       0.00      0.00      0.00      3029\n",
      "           3       0.87      1.00      0.93     20468\n",
      "\n",
      "    accuracy                           0.87     23638\n",
      "   macro avg       0.29      0.33      0.31     23638\n",
      "weighted avg       0.75      0.87      0.80     23638\n",
      "\n"
     ]
    }
   ],
   "source": [
    "# run train_predict_rf for different values of n_estimators\n",
    "n_trees = [100, 200, 300]\n",
    "for n in n_trees:\n",
    "    print('For a n_estimator of {} while max_depth is 80'.format(n))\n",
    "    train_predict_rf(n_est= n, max_depth= 80)"
   ]
  },
  {
   "cell_type": "code",
   "execution_count": 41,
   "id": "14601b78",
   "metadata": {},
   "outputs": [
    {
     "name": "stdout",
     "output_type": "stream",
     "text": [
      "For a n_estimator of 100 while max_depth is 100\n",
      "0.8658938996531009\n",
      "              precision    recall  f1-score   support\n",
      "\n",
      "           1       0.00      0.00      0.00       141\n",
      "           2       0.00      0.00      0.00      3029\n",
      "           3       0.87      1.00      0.93     20468\n",
      "\n",
      "    accuracy                           0.87     23638\n",
      "   macro avg       0.29      0.33      0.31     23638\n",
      "weighted avg       0.75      0.87      0.80     23638\n",
      "\n",
      "For a n_estimator of 100 while max_depth is 150\n",
      "0.8658938996531009\n",
      "              precision    recall  f1-score   support\n",
      "\n",
      "           1       0.00      0.00      0.00       141\n",
      "           2       0.00      0.00      0.00      3029\n",
      "           3       0.87      1.00      0.93     20468\n",
      "\n",
      "    accuracy                           0.87     23638\n",
      "   macro avg       0.29      0.33      0.31     23638\n",
      "weighted avg       0.75      0.87      0.80     23638\n",
      "\n",
      "For a n_estimator of 100 while max_depth is 200\n",
      "0.8658938996531009\n",
      "              precision    recall  f1-score   support\n",
      "\n",
      "           1       0.00      0.00      0.00       141\n",
      "           2       0.00      0.00      0.00      3029\n",
      "           3       0.87      1.00      0.93     20468\n",
      "\n",
      "    accuracy                           0.87     23638\n",
      "   macro avg       0.29      0.33      0.31     23638\n",
      "weighted avg       0.75      0.87      0.80     23638\n",
      "\n",
      "For a n_estimator of 100 while max_depth is 250\n",
      "0.8658938996531009\n",
      "              precision    recall  f1-score   support\n",
      "\n",
      "           1       0.00      0.00      0.00       141\n",
      "           2       0.00      0.00      0.00      3029\n",
      "           3       0.87      1.00      0.93     20468\n",
      "\n",
      "    accuracy                           0.87     23638\n",
      "   macro avg       0.29      0.33      0.31     23638\n",
      "weighted avg       0.75      0.87      0.80     23638\n",
      "\n"
     ]
    }
   ],
   "source": [
    "# run train_predict_rf for different values of max_depth\n",
    "n_depth = [100, 150, 200, 250]\n",
    "for n in n_depth:\n",
    "    print('For a n_estimator of 100 while max_depth is {}'.format(n))\n",
    "    train_predict_rf(n_est= 100, max_depth= n)"
   ]
  },
  {
   "cell_type": "code",
   "execution_count": null,
   "id": "f3687c56",
   "metadata": {},
   "outputs": [],
   "source": []
  }
 ],
 "metadata": {
  "kernelspec": {
   "display_name": "Python 3 (ipykernel)",
   "language": "python",
   "name": "python3"
  },
  "language_info": {
   "codemirror_mode": {
    "name": "ipython",
    "version": 3
   },
   "file_extension": ".py",
   "mimetype": "text/x-python",
   "name": "python",
   "nbconvert_exporter": "python",
   "pygments_lexer": "ipython3",
   "version": "3.9.12"
  },
  "toc": {
   "base_numbering": 1,
   "nav_menu": {},
   "number_sections": true,
   "sideBar": true,
   "skip_h1_title": false,
   "title_cell": "Table of Contents",
   "title_sidebar": "Contents",
   "toc_cell": false,
   "toc_position": {},
   "toc_section_display": true,
   "toc_window_display": false
  },
  "varInspector": {
   "cols": {
    "lenName": 16,
    "lenType": 16,
    "lenVar": 40
   },
   "kernels_config": {
    "python": {
     "delete_cmd_postfix": "",
     "delete_cmd_prefix": "del ",
     "library": "var_list.py",
     "varRefreshCmd": "print(var_dic_list())"
    },
    "r": {
     "delete_cmd_postfix": ") ",
     "delete_cmd_prefix": "rm(",
     "library": "var_list.r",
     "varRefreshCmd": "cat(var_dic_list()) "
    }
   },
   "types_to_exclude": [
    "module",
    "function",
    "builtin_function_or_method",
    "instance",
    "_Feature"
   ],
   "window_display": false
  }
 },
 "nbformat": 4,
 "nbformat_minor": 5
}
