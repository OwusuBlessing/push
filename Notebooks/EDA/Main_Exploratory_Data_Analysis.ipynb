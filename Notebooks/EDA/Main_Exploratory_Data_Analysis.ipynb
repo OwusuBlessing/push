{
 "cells": [
  {
   "cell_type": "markdown",
   "id": "da8ff804",
   "metadata": {},
   "source": [
    "### Exploratory Data Analysis"
   ]
  },
  {
   "cell_type": "code",
   "execution_count": null,
   "id": "ab30d666",
   "metadata": {},
   "outputs": [],
   "source": [
    "#import libraries\n",
    "import pandas as pd\n",
    "import numpy as np\n",
    "import matplotlib.pyplot as plt\n",
    "import seaborn as sns\n",
    "%matplotlib inline"
   ]
  },
  {
   "cell_type": "code",
   "execution_count": 37,
   "id": "a544a6fd",
   "metadata": {},
   "outputs": [
    {
     "data": {
      "text/html": [
       "<div>\n",
       "<style scoped>\n",
       "    .dataframe tbody tr th:only-of-type {\n",
       "        vertical-align: middle;\n",
       "    }\n",
       "\n",
       "    .dataframe tbody tr th {\n",
       "        vertical-align: top;\n",
       "    }\n",
       "\n",
       "    .dataframe thead th {\n",
       "        text-align: right;\n",
       "    }\n",
       "</style>\n",
       "<table border=\"1\" class=\"dataframe\">\n",
       "  <thead>\n",
       "    <tr style=\"text-align: right;\">\n",
       "      <th></th>\n",
       "      <th>Accident_Index</th>\n",
       "      <th>Location_Easting_OSGR</th>\n",
       "      <th>Location_Northing_OSGR</th>\n",
       "      <th>Longitude</th>\n",
       "      <th>Latitude</th>\n",
       "      <th>Police_Force</th>\n",
       "      <th>Accident_Severity</th>\n",
       "      <th>Number_of_Vehicles</th>\n",
       "      <th>Number_of_Casualties</th>\n",
       "      <th>Date</th>\n",
       "      <th>...</th>\n",
       "      <th>Pedestrian_Crossing-Human_Control</th>\n",
       "      <th>Pedestrian_Crossing-Physical_Facilities</th>\n",
       "      <th>Light_Conditions</th>\n",
       "      <th>Weather_Conditions</th>\n",
       "      <th>Road_Surface_Conditions</th>\n",
       "      <th>Special_Conditions_at_Site</th>\n",
       "      <th>Carriageway_Hazards</th>\n",
       "      <th>Urban_or_Rural_Area</th>\n",
       "      <th>Did_Police_Officer_Attend_Scene_of_Accident</th>\n",
       "      <th>LSOA_of_Accident_Location</th>\n",
       "    </tr>\n",
       "  </thead>\n",
       "  <tbody>\n",
       "    <tr>\n",
       "      <th>0</th>\n",
       "      <td>201501BS70001</td>\n",
       "      <td>525130.0</td>\n",
       "      <td>180050.0</td>\n",
       "      <td>-0.198465</td>\n",
       "      <td>51.505538</td>\n",
       "      <td>1</td>\n",
       "      <td>3</td>\n",
       "      <td>1</td>\n",
       "      <td>1</td>\n",
       "      <td>12/01/2015</td>\n",
       "      <td>...</td>\n",
       "      <td>0</td>\n",
       "      <td>0</td>\n",
       "      <td>4</td>\n",
       "      <td>1</td>\n",
       "      <td>1</td>\n",
       "      <td>0</td>\n",
       "      <td>0</td>\n",
       "      <td>1</td>\n",
       "      <td>1</td>\n",
       "      <td>E01002825</td>\n",
       "    </tr>\n",
       "    <tr>\n",
       "      <th>1</th>\n",
       "      <td>201501BS70002</td>\n",
       "      <td>526530.0</td>\n",
       "      <td>178560.0</td>\n",
       "      <td>-0.178838</td>\n",
       "      <td>51.491836</td>\n",
       "      <td>1</td>\n",
       "      <td>3</td>\n",
       "      <td>1</td>\n",
       "      <td>1</td>\n",
       "      <td>12/01/2015</td>\n",
       "      <td>...</td>\n",
       "      <td>0</td>\n",
       "      <td>0</td>\n",
       "      <td>1</td>\n",
       "      <td>1</td>\n",
       "      <td>1</td>\n",
       "      <td>0</td>\n",
       "      <td>0</td>\n",
       "      <td>1</td>\n",
       "      <td>1</td>\n",
       "      <td>E01002820</td>\n",
       "    </tr>\n",
       "    <tr>\n",
       "      <th>2</th>\n",
       "      <td>201501BS70004</td>\n",
       "      <td>524610.0</td>\n",
       "      <td>181080.0</td>\n",
       "      <td>-0.205590</td>\n",
       "      <td>51.514910</td>\n",
       "      <td>1</td>\n",
       "      <td>3</td>\n",
       "      <td>1</td>\n",
       "      <td>1</td>\n",
       "      <td>12/01/2015</td>\n",
       "      <td>...</td>\n",
       "      <td>0</td>\n",
       "      <td>1</td>\n",
       "      <td>4</td>\n",
       "      <td>2</td>\n",
       "      <td>2</td>\n",
       "      <td>0</td>\n",
       "      <td>0</td>\n",
       "      <td>1</td>\n",
       "      <td>1</td>\n",
       "      <td>E01002833</td>\n",
       "    </tr>\n",
       "    <tr>\n",
       "      <th>3</th>\n",
       "      <td>201501BS70005</td>\n",
       "      <td>524420.0</td>\n",
       "      <td>181080.0</td>\n",
       "      <td>-0.208327</td>\n",
       "      <td>51.514952</td>\n",
       "      <td>1</td>\n",
       "      <td>3</td>\n",
       "      <td>1</td>\n",
       "      <td>1</td>\n",
       "      <td>13/01/2015</td>\n",
       "      <td>...</td>\n",
       "      <td>0</td>\n",
       "      <td>0</td>\n",
       "      <td>1</td>\n",
       "      <td>1</td>\n",
       "      <td>2</td>\n",
       "      <td>0</td>\n",
       "      <td>0</td>\n",
       "      <td>1</td>\n",
       "      <td>2</td>\n",
       "      <td>E01002874</td>\n",
       "    </tr>\n",
       "    <tr>\n",
       "      <th>4</th>\n",
       "      <td>201501BS70008</td>\n",
       "      <td>524630.0</td>\n",
       "      <td>179040.0</td>\n",
       "      <td>-0.206022</td>\n",
       "      <td>51.496572</td>\n",
       "      <td>1</td>\n",
       "      <td>2</td>\n",
       "      <td>2</td>\n",
       "      <td>1</td>\n",
       "      <td>09/01/2015</td>\n",
       "      <td>...</td>\n",
       "      <td>0</td>\n",
       "      <td>5</td>\n",
       "      <td>1</td>\n",
       "      <td>2</td>\n",
       "      <td>2</td>\n",
       "      <td>0</td>\n",
       "      <td>0</td>\n",
       "      <td>1</td>\n",
       "      <td>2</td>\n",
       "      <td>E01002814</td>\n",
       "    </tr>\n",
       "  </tbody>\n",
       "</table>\n",
       "<p>5 rows × 32 columns</p>\n",
       "</div>"
      ],
      "text/plain": [
       "  Accident_Index  Location_Easting_OSGR  Location_Northing_OSGR  Longitude  \\\n",
       "0  201501BS70001               525130.0                180050.0  -0.198465   \n",
       "1  201501BS70002               526530.0                178560.0  -0.178838   \n",
       "2  201501BS70004               524610.0                181080.0  -0.205590   \n",
       "3  201501BS70005               524420.0                181080.0  -0.208327   \n",
       "4  201501BS70008               524630.0                179040.0  -0.206022   \n",
       "\n",
       "    Latitude  Police_Force  Accident_Severity  Number_of_Vehicles  \\\n",
       "0  51.505538             1                  3                   1   \n",
       "1  51.491836             1                  3                   1   \n",
       "2  51.514910             1                  3                   1   \n",
       "3  51.514952             1                  3                   1   \n",
       "4  51.496572             1                  2                   2   \n",
       "\n",
       "   Number_of_Casualties        Date  ...  Pedestrian_Crossing-Human_Control  \\\n",
       "0                     1  12/01/2015  ...                                  0   \n",
       "1                     1  12/01/2015  ...                                  0   \n",
       "2                     1  12/01/2015  ...                                  0   \n",
       "3                     1  13/01/2015  ...                                  0   \n",
       "4                     1  09/01/2015  ...                                  0   \n",
       "\n",
       "  Pedestrian_Crossing-Physical_Facilities  Light_Conditions  \\\n",
       "0                                       0                 4   \n",
       "1                                       0                 1   \n",
       "2                                       1                 4   \n",
       "3                                       0                 1   \n",
       "4                                       5                 1   \n",
       "\n",
       "  Weather_Conditions  Road_Surface_Conditions  Special_Conditions_at_Site  \\\n",
       "0                  1                        1                           0   \n",
       "1                  1                        1                           0   \n",
       "2                  2                        2                           0   \n",
       "3                  1                        2                           0   \n",
       "4                  2                        2                           0   \n",
       "\n",
       "   Carriageway_Hazards  Urban_or_Rural_Area  \\\n",
       "0                    0                    1   \n",
       "1                    0                    1   \n",
       "2                    0                    1   \n",
       "3                    0                    1   \n",
       "4                    0                    1   \n",
       "\n",
       "   Did_Police_Officer_Attend_Scene_of_Accident  LSOA_of_Accident_Location  \n",
       "0                                            1                  E01002825  \n",
       "1                                            1                  E01002820  \n",
       "2                                            1                  E01002833  \n",
       "3                                            2                  E01002874  \n",
       "4                                            2                  E01002814  \n",
       "\n",
       "[5 rows x 32 columns]"
      ]
     },
     "execution_count": 37,
     "metadata": {},
     "output_type": "execute_result"
    }
   ],
   "source": [
    "# read data\n",
    "path = r\"C:\\Users\\user\\Desktop\\DATA_SCIENCE\\HamoyeInternship\\StageC_premier\\UK_Traffic_Accidents_2015.csv\"\n",
    "df = pd.read_csv(open(path),low_memory= False)\n",
    "df.head() "
   ]
  },
  {
   "cell_type": "code",
   "execution_count": 5,
   "id": "623839df",
   "metadata": {},
   "outputs": [
    {
     "data": {
      "text/plain": [
       "(140056, 32)"
      ]
     },
     "execution_count": 5,
     "metadata": {},
     "output_type": "execute_result"
    }
   ],
   "source": [
    "# check data shape\n",
    "df.shape"
   ]
  },
  {
   "cell_type": "code",
   "execution_count": 6,
   "id": "69bce3fb",
   "metadata": {},
   "outputs": [
    {
     "data": {
      "text/plain": [
       "Index(['Accident_Index', 'Location_Easting_OSGR', 'Location_Northing_OSGR',\n",
       "       'Longitude', 'Latitude', 'Police_Force', 'Accident_Severity',\n",
       "       'Number_of_Vehicles', 'Number_of_Casualties', 'Date', 'Day_of_Week',\n",
       "       'Time', 'Local_Authority_(District)', 'Local_Authority_(Highway)',\n",
       "       '1st_Road_Class', '1st_Road_Number', 'Road_Type', 'Speed_limit',\n",
       "       'Junction_Detail', 'Junction_Control', '2nd_Road_Class',\n",
       "       '2nd_Road_Number', 'Pedestrian_Crossing-Human_Control',\n",
       "       'Pedestrian_Crossing-Physical_Facilities', 'Light_Conditions',\n",
       "       'Weather_Conditions', 'Road_Surface_Conditions',\n",
       "       'Special_Conditions_at_Site', 'Carriageway_Hazards',\n",
       "       'Urban_or_Rural_Area', 'Did_Police_Officer_Attend_Scene_of_Accident',\n",
       "       'LSOA_of_Accident_Location'],\n",
       "      dtype='object')"
      ]
     },
     "execution_count": 6,
     "metadata": {},
     "output_type": "execute_result"
    }
   ],
   "source": [
    "df.columns"
   ]
  },
  {
   "cell_type": "code",
   "execution_count": 7,
   "id": "51c146d0",
   "metadata": {},
   "outputs": [
    {
     "data": {
      "text/plain": [
       "Accident_Index                                    0\n",
       "Location_Easting_OSGR                            27\n",
       "Location_Northing_OSGR                           27\n",
       "Longitude                                        27\n",
       "Latitude                                         27\n",
       "Police_Force                                      0\n",
       "Accident_Severity                                 0\n",
       "Number_of_Vehicles                                0\n",
       "Number_of_Casualties                              0\n",
       "Date                                              0\n",
       "Day_of_Week                                       0\n",
       "Time                                             18\n",
       "Local_Authority_(District)                        0\n",
       "Local_Authority_(Highway)                         0\n",
       "1st_Road_Class                                    0\n",
       "1st_Road_Number                                   0\n",
       "Road_Type                                         0\n",
       "Speed_limit                                       0\n",
       "Junction_Detail                                   0\n",
       "Junction_Control                                  0\n",
       "2nd_Road_Class                                    0\n",
       "2nd_Road_Number                                   0\n",
       "Pedestrian_Crossing-Human_Control                 0\n",
       "Pedestrian_Crossing-Physical_Facilities           0\n",
       "Light_Conditions                                  0\n",
       "Weather_Conditions                                0\n",
       "Road_Surface_Conditions                           0\n",
       "Special_Conditions_at_Site                        0\n",
       "Carriageway_Hazards                               0\n",
       "Urban_or_Rural_Area                               0\n",
       "Did_Police_Officer_Attend_Scene_of_Accident       0\n",
       "LSOA_of_Accident_Location                      8897\n",
       "dtype: int64"
      ]
     },
     "execution_count": 7,
     "metadata": {},
     "output_type": "execute_result"
    }
   ],
   "source": [
    "# check for any missing values\n",
    "df.isnull().sum()"
   ]
  },
  {
   "cell_type": "code",
   "execution_count": 38,
   "id": "9aa7b69f",
   "metadata": {},
   "outputs": [
    {
     "name": "stdout",
     "output_type": "stream",
     "text": [
      "Location_Easting_OSGR 0.0002  % missing values\n",
      "Location_Northing_OSGR 0.0002  % missing values\n",
      "Longitude 0.0002  % missing values\n",
      "Latitude 0.0002  % missing values\n",
      "Time 0.0001  % missing values\n",
      "LSOA_of_Accident_Location 0.0635  % missing values\n"
     ]
    }
   ],
   "source": [
    "# visualize the missing data\n",
    "# make a list of features with nan values\n",
    "features_nan = [features for features in df.columns if df[features].isnull().sum() > 1]\n",
    "# print % of missing values in features with nan\n",
    "for feature in features_nan:\n",
    "    print(feature,np.round(df[feature].isnull().mean(),4),\" % missing values\")"
   ]
  },
  {
   "cell_type": "code",
   "execution_count": 10,
   "id": "e677e874",
   "metadata": {},
   "outputs": [
    {
     "data": {
      "image/png": "[encoded data removed]",
      "text/plain": [
       "<Figure size 720x432 with 2 Axes>"
      ]
     },
     "metadata": {
      "needs_background": "light"
     },
     "output_type": "display_data"
    }
   ],
   "source": [
    "plt.figure(figsize=(10,6))\n",
    "sns.heatmap(df.isna().transpose(),\n",
    "            cmap=\"YlGnBu\",\n",
    "            cbar_kws={'label': 'Missing Data'})\n",
    "plt.show()"
   ]
  },
  {
   "cell_type": "code",
   "execution_count": 39,
   "id": "dc1de12d",
   "metadata": {},
   "outputs": [
    {
     "data": {
      "text/plain": [
       "Accident_Index                                    0\n",
       "Location_Easting_OSGR                             0\n",
       "Location_Northing_OSGR                            0\n",
       "Longitude                                         0\n",
       "Latitude                                          0\n",
       "Police_Force                                      0\n",
       "Accident_Severity                                 0\n",
       "Number_of_Vehicles                                0\n",
       "Number_of_Casualties                              0\n",
       "Date                                              0\n",
       "Day_of_Week                                       0\n",
       "Time                                             18\n",
       "Local_Authority_(District)                        0\n",
       "Local_Authority_(Highway)                         0\n",
       "1st_Road_Class                                    0\n",
       "1st_Road_Number                                   0\n",
       "Road_Type                                         0\n",
       "Speed_limit                                       0\n",
       "Junction_Detail                                   0\n",
       "Junction_Control                                  0\n",
       "2nd_Road_Class                                    0\n",
       "2nd_Road_Number                                   0\n",
       "Pedestrian_Crossing-Human_Control                 0\n",
       "Pedestrian_Crossing-Physical_Facilities           0\n",
       "Light_Conditions                                  0\n",
       "Weather_Conditions                                0\n",
       "Road_Surface_Conditions                           0\n",
       "Special_Conditions_at_Site                        0\n",
       "Carriageway_Hazards                               0\n",
       "Urban_or_Rural_Area                               0\n",
       "Did_Police_Officer_Attend_Scene_of_Accident       0\n",
       "LSOA_of_Accident_Location                      8897\n",
       "dtype: int64"
      ]
     },
     "execution_count": 39,
     "metadata": {},
     "output_type": "execute_result"
    }
   ],
   "source": [
    " \"\"\"\"Fill nan values in cident_Index, Location_Easting_OSGR, Location_Northing,\n",
    " Latitude and longitude and dropping the LSOA_of_Accident_Location since it contains thousands of missing values\n",
    "    \"\"\" \n",
    "for feature in features_nan:\n",
    "    if feature not in [\"Time\",\"LSOA_of_Accident_Location\"]:\n",
    "        median_value = df[feature].median()\n",
    "        df[feature] = df[feature].fillna(median_value)\n",
    "        \n",
    "df.isnull().sum()"
   ]
  },
  {
   "cell_type": "code",
   "execution_count": 40,
   "id": "3ad4939f",
   "metadata": {},
   "outputs": [
    {
     "name": "stdout",
     "output_type": "stream",
     "text": [
      "17:00\n"
     ]
    }
   ],
   "source": [
    "# Fill missing values in Time with mode\n",
    "mode_value = df[\"Time\"].mode()[0]\n",
    "print(mode_value)\n",
    "df[\"Time\"] = df[\"Time\"].fillna(mode_value)"
   ]
  },
  {
   "cell_type": "code",
   "execution_count": 34,
   "id": "de32a8fa",
   "metadata": {},
   "outputs": [
    {
     "data": {
      "text/plain": [
       "Accident_Index                                    0\n",
       "Location_Easting_OSGR                             0\n",
       "Location_Northing_OSGR                            0\n",
       "Longitude                                         0\n",
       "Latitude                                          0\n",
       "Police_Force                                      0\n",
       "Accident_Severity                                 0\n",
       "Number_of_Vehicles                                0\n",
       "Number_of_Casualties                              0\n",
       "Date                                              0\n",
       "Day_of_Week                                       0\n",
       "Time                                              0\n",
       "Local_Authority_(District)                        0\n",
       "Local_Authority_(Highway)                         0\n",
       "1st_Road_Class                                    0\n",
       "1st_Road_Number                                   0\n",
       "Road_Type                                         0\n",
       "Speed_limit                                       0\n",
       "Junction_Detail                                   0\n",
       "Junction_Control                                  0\n",
       "2nd_Road_Class                                    0\n",
       "2nd_Road_Number                                   0\n",
       "Pedestrian_Crossing-Human_Control                 0\n",
       "Pedestrian_Crossing-Physical_Facilities           0\n",
       "Light_Conditions                                  0\n",
       "Weather_Conditions                                0\n",
       "Road_Surface_Conditions                           0\n",
       "Special_Conditions_at_Site                        0\n",
       "Carriageway_Hazards                               0\n",
       "Urban_or_Rural_Area                               0\n",
       "Did_Police_Officer_Attend_Scene_of_Accident       0\n",
       "LSOA_of_Accident_Location                      8897\n",
       "Month                                             0\n",
       "Hour                                              0\n",
       "dtype: int64"
      ]
     },
     "execution_count": 34,
     "metadata": {},
     "output_type": "execute_result"
    }
   ],
   "source": [
    "df.isnull().sum()"
   ]
  },
  {
   "cell_type": "code",
   "execution_count": 41,
   "id": "3dba7272",
   "metadata": {},
   "outputs": [
    {
     "data": {
      "text/plain": [
       "0"
      ]
     },
     "execution_count": 41,
     "metadata": {},
     "output_type": "execute_result"
    }
   ],
   "source": [
    "# drop column\n",
    "# Drop unnecessary columns\n",
    "df = df.drop(\"LSOA_of_Accident_Location\",axis = 1)\n",
    "df.isnull().sum().sum()"
   ]
  },
  {
   "cell_type": "markdown",
   "id": "b8e84404",
   "metadata": {},
   "source": [
    "### Analysis of Location_Easting_OSGR and Location_Northing_OSGR     "
   ]
  },
  {
   "cell_type": "code",
   "execution_count": 11,
   "id": "fbc87f27",
   "metadata": {},
   "outputs": [],
   "source": [
    "#select required column for EDA\n",
    "loc_data = df.loc[:,[\"Accident_Index\", \"Location_Easting_OSGR\",\"Location_Northing_OSGR\"]]"
   ]
  },
  {
   "cell_type": "code",
   "execution_count": 12,
   "id": "e0a936cf",
   "metadata": {},
   "outputs": [
    {
     "data": {
      "text/html": [
       "<div>\n",
       "<style scoped>\n",
       "    .dataframe tbody tr th:only-of-type {\n",
       "        vertical-align: middle;\n",
       "    }\n",
       "\n",
       "    .dataframe tbody tr th {\n",
       "        vertical-align: top;\n",
       "    }\n",
       "\n",
       "    .dataframe thead th {\n",
       "        text-align: right;\n",
       "    }\n",
       "</style>\n",
       "<table border=\"1\" class=\"dataframe\">\n",
       "  <thead>\n",
       "    <tr style=\"text-align: right;\">\n",
       "      <th></th>\n",
       "      <th>Accident_Index</th>\n",
       "      <th>Location_Easting_OSGR</th>\n",
       "      <th>Location_Northing_OSGR</th>\n",
       "    </tr>\n",
       "  </thead>\n",
       "  <tbody>\n",
       "    <tr>\n",
       "      <th>0</th>\n",
       "      <td>201501BS70001</td>\n",
       "      <td>525130.0</td>\n",
       "      <td>180050.0</td>\n",
       "    </tr>\n",
       "    <tr>\n",
       "      <th>1</th>\n",
       "      <td>201501BS70002</td>\n",
       "      <td>526530.0</td>\n",
       "      <td>178560.0</td>\n",
       "    </tr>\n",
       "    <tr>\n",
       "      <th>2</th>\n",
       "      <td>201501BS70004</td>\n",
       "      <td>524610.0</td>\n",
       "      <td>181080.0</td>\n",
       "    </tr>\n",
       "    <tr>\n",
       "      <th>3</th>\n",
       "      <td>201501BS70005</td>\n",
       "      <td>524420.0</td>\n",
       "      <td>181080.0</td>\n",
       "    </tr>\n",
       "    <tr>\n",
       "      <th>4</th>\n",
       "      <td>201501BS70008</td>\n",
       "      <td>524630.0</td>\n",
       "      <td>179040.0</td>\n",
       "    </tr>\n",
       "  </tbody>\n",
       "</table>\n",
       "</div>"
      ],
      "text/plain": [
       "  Accident_Index  Location_Easting_OSGR  Location_Northing_OSGR\n",
       "0  201501BS70001               525130.0                180050.0\n",
       "1  201501BS70002               526530.0                178560.0\n",
       "2  201501BS70004               524610.0                181080.0\n",
       "3  201501BS70005               524420.0                181080.0\n",
       "4  201501BS70008               524630.0                179040.0"
      ]
     },
     "execution_count": 12,
     "metadata": {},
     "output_type": "execute_result"
    }
   ],
   "source": [
    "loc_data.head()"
   ]
  },
  {
   "cell_type": "code",
   "execution_count": 13,
   "id": "0a858fc6",
   "metadata": {},
   "outputs": [
    {
     "name": "stdout",
     "output_type": "stream",
     "text": [
      "<class 'pandas.core.frame.DataFrame'>\n",
      "RangeIndex: 140056 entries, 0 to 140055\n",
      "Data columns (total 3 columns):\n",
      " #   Column                  Non-Null Count   Dtype  \n",
      "---  ------                  --------------   -----  \n",
      " 0   Accident_Index          140056 non-null  object \n",
      " 1   Location_Easting_OSGR   140029 non-null  float64\n",
      " 2   Location_Northing_OSGR  140029 non-null  float64\n",
      "dtypes: float64(2), object(1)\n",
      "memory usage: 3.2+ MB\n"
     ]
    }
   ],
   "source": [
    "#check the info of the loc_data\n",
    "loc_data.info()"
   ]
  },
  {
   "cell_type": "code",
   "execution_count": 14,
   "id": "c6917a6e",
   "metadata": {},
   "outputs": [
    {
     "data": {
      "text/plain": [
       "count            140056\n",
       "unique           140056\n",
       "top       201501BS70001\n",
       "freq                  1\n",
       "Name: Accident_Index, dtype: object"
      ]
     },
     "execution_count": 14,
     "metadata": {},
     "output_type": "execute_result"
    }
   ],
   "source": [
    "loc_data.Accident_Index.describe()"
   ]
  },
  {
   "cell_type": "markdown",
   "id": "e0805a64",
   "metadata": {},
   "source": [
    "comment : The Accident_Index is a string with unique values, therefore, there isn't much EDA plots that can be done with it."
   ]
  },
  {
   "cell_type": "code",
   "execution_count": 15,
   "id": "e0922bcb",
   "metadata": {},
   "outputs": [],
   "source": [
    "#drop all null values\n",
    "loc_data.dropna(inplace=True)"
   ]
  },
  {
   "cell_type": "markdown",
   "id": "6d1255d9",
   "metadata": {},
   "source": [
    "### Questions\n",
    "- What is the relationship between the Eastings and Northings OSGR?\n",
    "- Is there any correlation between the Eastings and Northings? If yes, what is the nature of the correlation?\n"
   ]
  },
  {
   "cell_type": "code",
   "execution_count": 16,
   "id": "f099b65d",
   "metadata": {},
   "outputs": [
    {
     "data": {
      "text/plain": [
       "count    140029.000000\n",
       "mean     446913.896086\n",
       "std       94893.264196\n",
       "min       70860.000000\n",
       "25%      385626.000000\n",
       "50%      451460.000000\n",
       "75%      526760.000000\n",
       "max      655282.000000\n",
       "Name: Location_Easting_OSGR, dtype: float64"
      ]
     },
     "execution_count": 16,
     "metadata": {},
     "output_type": "execute_result"
    }
   ],
   "source": [
    "loc_data['Location_Easting_OSGR'].describe()"
   ]
  },
  {
   "cell_type": "code",
   "execution_count": 97,
   "id": "c333876d",
   "metadata": {},
   "outputs": [
    {
     "name": "stderr",
     "output_type": "stream",
     "text": [
      "C:\\Users\\user\\anaconda3\\envs\\hamoye\\lib\\site-packages\\seaborn\\distributions.py:2619: FutureWarning: `distplot` is a deprecated function and will be removed in a future version. Please adapt your code to use either `displot` (a figure-level function with similar flexibility) or `histplot` (an axes-level function for histograms).\n",
      "  warnings.warn(msg, FutureWarning)\n"
     ]
    },
    {
     "data": {
      "image/png": "[encoded data removed]",
      "text/plain": [
       "<Figure size 1080x360 with 2 Axes>"
      ]
     },
     "metadata": {
      "needs_background": "light"
     },
     "output_type": "display_data"
    }
   ],
   "source": [
    "#plt a distplot and histogram of Location Easting\n",
    "bins= np.arange(loc_data['Location_Easting_OSGR'].min(), loc_data['Location_Easting_OSGR'].max(), 10000)\n",
    "plt.figure(figsize=(15,5))\n",
    "plt.subplot(1,2,1)\n",
    "plt.hist(data=loc_data, x='Location_Easting_OSGR', bins=bins);\n",
    "plt.xlabel('Location Easting OSGR', fontsize=14);\n",
    "plt.title('Hist of Location Easting OSGR', fontsize=14);\n",
    "\n",
    "plt.subplot(1,2,2)\n",
    "sns.distplot(x=loc_data['Location_Easting_OSGR'], bins=bins);\n",
    "plt.xlabel('Location Easting OSGR', fontsize=14);\n",
    "plt.title('Dist of Location Easting OSGR', fontsize=14);\n",
    "plt.savefig(\"Distribution of Location easting and northing\")"
   ]
  },
  {
   "cell_type": "markdown",
   "id": "5d4433ed",
   "metadata": {},
   "source": [
    "Comment:The distribution of the Easting location is Left-skewed, with multi-spikes"
   ]
  },
  {
   "cell_type": "code",
   "execution_count": 19,
   "id": "cb75cc8f",
   "metadata": {},
   "outputs": [
    {
     "data": {
      "text/plain": [
       "count    1.400290e+05\n",
       "mean     2.899043e+05\n",
       "std      1.577932e+05\n",
       "min      1.062800e+04\n",
       "25%      1.766380e+05\n",
       "50%      2.408860e+05\n",
       "75%      3.911840e+05\n",
       "max      1.197917e+06\n",
       "Name: Location_Northing_OSGR, dtype: float64"
      ]
     },
     "execution_count": 19,
     "metadata": {},
     "output_type": "execute_result"
    }
   ],
   "source": [
    "loc_data['Location_Northing_OSGR'].describe()"
   ]
  },
  {
   "cell_type": "code",
   "execution_count": 20,
   "id": "895c7022",
   "metadata": {},
   "outputs": [
    {
     "name": "stderr",
     "output_type": "stream",
     "text": [
      "C:\\Users\\user\\anaconda3\\envs\\hamoye\\lib\\site-packages\\seaborn\\distributions.py:2619: FutureWarning: `distplot` is a deprecated function and will be removed in a future version. Please adapt your code to use either `displot` (a figure-level function with similar flexibility) or `histplot` (an axes-level function for histograms).\n",
      "  warnings.warn(msg, FutureWarning)\n"
     ]
    },
    {
     "data": {
      "image/png": "[encoded data removed]",
      "text/plain": [
       "<Figure size 1080x360 with 2 Axes>"
      ]
     },
     "metadata": {
      "needs_background": "light"
     },
     "output_type": "display_data"
    }
   ],
   "source": [
    "#plt a distplot and histogram of Location Easting\n",
    "bins= np.arange(1e4, loc_data['Location_Northing_OSGR'].max(), 1e5)\n",
    "plt.figure(figsize=(15,5))\n",
    "plt.subplot(1,2,1)\n",
    "plt.hist(data=loc_data, x='Location_Northing_OSGR', bins=bins);\n",
    "plt.xlabel('Location Northing OSGR', fontsize=14);\n",
    "plt.title('Hist of Location Northing OSGR', fontsize=14);\n",
    "\n",
    "plt.subplot(1,2,2)\n",
    "sns.distplot(x=loc_data['Location_Northing_OSGR'], bins=bins);\n",
    "plt.xlabel('Location Northing OSGR', fontsize=14);\n",
    "plt.title('Dist of Location Northing OSGR', fontsize=14);"
   ]
  },
  {
   "cell_type": "markdown",
   "id": "71690b0f",
   "metadata": {},
   "source": [
    "While the distribution of the Northings is right skewed and unimodal. From this, I can deduce that the relationship between these columns will be negative\n",
    "### Findings\n",
    "- They are not a function of each other\n",
    "- They are not correlative or are correlated negatively.\n",
    "\n",
    "More findings..."
   ]
  },
  {
   "cell_type": "code",
   "execution_count": 24,
   "id": "241b3200",
   "metadata": {},
   "outputs": [
    {
     "data": {
      "image/png": "[encoded data removed]",
      "text/plain": [
       "<Figure size 1080x576 with 1 Axes>"
      ]
     },
     "metadata": {
      "needs_background": "light"
     },
     "output_type": "display_data"
    }
   ],
   "source": [
    "#plot a regplot to get their relationship\n",
    "plt.figure(figsize=(15,8))\n",
    "sns.regplot(data=loc_data,x='Location_Easting_OSGR', y='Location_Northing_OSGR', scatter_kws={'alpha':1/5},\n",
    "          truncate=False, x_jitter=2.5);\n",
    "plt.title('Regression plot of Northings vs Eastings', fontsize=22);\n",
    "plt.xlabel('Eastings', fontsize=15);\n",
    "plt.ylabel('Northings', fontsize=15);\n"
   ]
  },
  {
   "cell_type": "markdown",
   "id": "e1ca98de",
   "metadata": {},
   "source": [
    "comment :The line shows that there is a negative relationship between the Eastings and Northings\n",
    "\n",
    "#### Findinds\n",
    "- Accidents in the UK in Eastings are independent of the Northings\n",
    "- Further investigation with geo-cordinates will pinpoint further indications about accidents frequencies\n",
    "- Further look at their unique float values further proves that they are invariably linked."
   ]
  },
  {
   "cell_type": "markdown",
   "id": "9a024793",
   "metadata": {},
   "source": [
    "### Analysis of Categorical Features\n"
   ]
  },
  {
   "cell_type": "code",
   "execution_count": 25,
   "id": "d1e65a50",
   "metadata": {},
   "outputs": [
    {
     "data": {
      "text/plain": [
       "['Accident_Index',\n",
       " 'Date',\n",
       " 'Time',\n",
       " 'Local_Authority_(Highway)',\n",
       " 'LSOA_of_Accident_Location']"
      ]
     },
     "execution_count": 25,
     "metadata": {},
     "output_type": "execute_result"
    }
   ],
   "source": [
    "# CATEGORICAL FEATURES\n",
    "cat_features = [f for f in df.columns if df[f].dtype == \"object\"]\n",
    "cat_features"
   ]
  },
  {
   "cell_type": "code",
   "execution_count": 26,
   "id": "91fcb7d0",
   "metadata": {},
   "outputs": [
    {
     "name": "stdout",
     "output_type": "stream",
     "text": [
      "Accident_Index : 140056\n",
      "Date : 365\n",
      "Time : 1440\n",
      "Local_Authority_(Highway) : 207\n",
      "LSOA_of_Accident_Location : 28738\n"
     ]
    }
   ],
   "source": [
    "# check number of unique values in each categorical features\n",
    "for f in cat_features:\n",
    "    print(f,\":\",len(df[f].unique()))"
   ]
  },
  {
   "cell_type": "code",
   "execution_count": 45,
   "id": "99ccf261",
   "metadata": {},
   "outputs": [
    {
     "data": {
      "text/html": [
       "<div>\n",
       "<style scoped>\n",
       "    .dataframe tbody tr th:only-of-type {\n",
       "        vertical-align: middle;\n",
       "    }\n",
       "\n",
       "    .dataframe tbody tr th {\n",
       "        vertical-align: top;\n",
       "    }\n",
       "\n",
       "    .dataframe thead th {\n",
       "        text-align: right;\n",
       "    }\n",
       "</style>\n",
       "<table border=\"1\" class=\"dataframe\">\n",
       "  <thead>\n",
       "    <tr style=\"text-align: right;\">\n",
       "      <th></th>\n",
       "      <th>Accident_Index</th>\n",
       "      <th>Location_Easting_OSGR</th>\n",
       "      <th>Location_Northing_OSGR</th>\n",
       "      <th>Longitude</th>\n",
       "      <th>Latitude</th>\n",
       "      <th>Police_Force</th>\n",
       "      <th>Accident_Severity</th>\n",
       "      <th>Number_of_Vehicles</th>\n",
       "      <th>Number_of_Casualties</th>\n",
       "      <th>Date</th>\n",
       "      <th>...</th>\n",
       "      <th>Pedestrian_Crossing-Physical_Facilities</th>\n",
       "      <th>Light_Conditions</th>\n",
       "      <th>Weather_Conditions</th>\n",
       "      <th>Road_Surface_Conditions</th>\n",
       "      <th>Special_Conditions_at_Site</th>\n",
       "      <th>Carriageway_Hazards</th>\n",
       "      <th>Urban_or_Rural_Area</th>\n",
       "      <th>Did_Police_Officer_Attend_Scene_of_Accident</th>\n",
       "      <th>Hour</th>\n",
       "      <th>Month</th>\n",
       "    </tr>\n",
       "  </thead>\n",
       "  <tbody>\n",
       "    <tr>\n",
       "      <th>0</th>\n",
       "      <td>201501BS70001</td>\n",
       "      <td>525130.0</td>\n",
       "      <td>180050.0</td>\n",
       "      <td>-0.198465</td>\n",
       "      <td>51.505538</td>\n",
       "      <td>1</td>\n",
       "      <td>3</td>\n",
       "      <td>1</td>\n",
       "      <td>1</td>\n",
       "      <td>12/01/2015</td>\n",
       "      <td>...</td>\n",
       "      <td>0</td>\n",
       "      <td>4</td>\n",
       "      <td>1</td>\n",
       "      <td>1</td>\n",
       "      <td>0</td>\n",
       "      <td>0</td>\n",
       "      <td>1</td>\n",
       "      <td>1</td>\n",
       "      <td>18</td>\n",
       "      <td>01</td>\n",
       "    </tr>\n",
       "    <tr>\n",
       "      <th>1</th>\n",
       "      <td>201501BS70002</td>\n",
       "      <td>526530.0</td>\n",
       "      <td>178560.0</td>\n",
       "      <td>-0.178838</td>\n",
       "      <td>51.491836</td>\n",
       "      <td>1</td>\n",
       "      <td>3</td>\n",
       "      <td>1</td>\n",
       "      <td>1</td>\n",
       "      <td>12/01/2015</td>\n",
       "      <td>...</td>\n",
       "      <td>0</td>\n",
       "      <td>1</td>\n",
       "      <td>1</td>\n",
       "      <td>1</td>\n",
       "      <td>0</td>\n",
       "      <td>0</td>\n",
       "      <td>1</td>\n",
       "      <td>1</td>\n",
       "      <td>7</td>\n",
       "      <td>01</td>\n",
       "    </tr>\n",
       "    <tr>\n",
       "      <th>2</th>\n",
       "      <td>201501BS70004</td>\n",
       "      <td>524610.0</td>\n",
       "      <td>181080.0</td>\n",
       "      <td>-0.205590</td>\n",
       "      <td>51.514910</td>\n",
       "      <td>1</td>\n",
       "      <td>3</td>\n",
       "      <td>1</td>\n",
       "      <td>1</td>\n",
       "      <td>12/01/2015</td>\n",
       "      <td>...</td>\n",
       "      <td>1</td>\n",
       "      <td>4</td>\n",
       "      <td>2</td>\n",
       "      <td>2</td>\n",
       "      <td>0</td>\n",
       "      <td>0</td>\n",
       "      <td>1</td>\n",
       "      <td>1</td>\n",
       "      <td>18</td>\n",
       "      <td>01</td>\n",
       "    </tr>\n",
       "    <tr>\n",
       "      <th>3</th>\n",
       "      <td>201501BS70005</td>\n",
       "      <td>524420.0</td>\n",
       "      <td>181080.0</td>\n",
       "      <td>-0.208327</td>\n",
       "      <td>51.514952</td>\n",
       "      <td>1</td>\n",
       "      <td>3</td>\n",
       "      <td>1</td>\n",
       "      <td>1</td>\n",
       "      <td>13/01/2015</td>\n",
       "      <td>...</td>\n",
       "      <td>0</td>\n",
       "      <td>1</td>\n",
       "      <td>1</td>\n",
       "      <td>2</td>\n",
       "      <td>0</td>\n",
       "      <td>0</td>\n",
       "      <td>1</td>\n",
       "      <td>2</td>\n",
       "      <td>7</td>\n",
       "      <td>01</td>\n",
       "    </tr>\n",
       "    <tr>\n",
       "      <th>4</th>\n",
       "      <td>201501BS70008</td>\n",
       "      <td>524630.0</td>\n",
       "      <td>179040.0</td>\n",
       "      <td>-0.206022</td>\n",
       "      <td>51.496572</td>\n",
       "      <td>1</td>\n",
       "      <td>2</td>\n",
       "      <td>2</td>\n",
       "      <td>1</td>\n",
       "      <td>09/01/2015</td>\n",
       "      <td>...</td>\n",
       "      <td>5</td>\n",
       "      <td>1</td>\n",
       "      <td>2</td>\n",
       "      <td>2</td>\n",
       "      <td>0</td>\n",
       "      <td>0</td>\n",
       "      <td>1</td>\n",
       "      <td>2</td>\n",
       "      <td>7</td>\n",
       "      <td>01</td>\n",
       "    </tr>\n",
       "  </tbody>\n",
       "</table>\n",
       "<p>5 rows × 33 columns</p>\n",
       "</div>"
      ],
      "text/plain": [
       "  Accident_Index  Location_Easting_OSGR  Location_Northing_OSGR  Longitude  \\\n",
       "0  201501BS70001               525130.0                180050.0  -0.198465   \n",
       "1  201501BS70002               526530.0                178560.0  -0.178838   \n",
       "2  201501BS70004               524610.0                181080.0  -0.205590   \n",
       "3  201501BS70005               524420.0                181080.0  -0.208327   \n",
       "4  201501BS70008               524630.0                179040.0  -0.206022   \n",
       "\n",
       "    Latitude  Police_Force  Accident_Severity  Number_of_Vehicles  \\\n",
       "0  51.505538             1                  3                   1   \n",
       "1  51.491836             1                  3                   1   \n",
       "2  51.514910             1                  3                   1   \n",
       "3  51.514952             1                  3                   1   \n",
       "4  51.496572             1                  2                   2   \n",
       "\n",
       "   Number_of_Casualties        Date  ...  \\\n",
       "0                     1  12/01/2015  ...   \n",
       "1                     1  12/01/2015  ...   \n",
       "2                     1  12/01/2015  ...   \n",
       "3                     1  13/01/2015  ...   \n",
       "4                     1  09/01/2015  ...   \n",
       "\n",
       "   Pedestrian_Crossing-Physical_Facilities Light_Conditions  \\\n",
       "0                                        0                4   \n",
       "1                                        0                1   \n",
       "2                                        1                4   \n",
       "3                                        0                1   \n",
       "4                                        5                1   \n",
       "\n",
       "   Weather_Conditions Road_Surface_Conditions  Special_Conditions_at_Site  \\\n",
       "0                   1                       1                           0   \n",
       "1                   1                       1                           0   \n",
       "2                   2                       2                           0   \n",
       "3                   1                       2                           0   \n",
       "4                   2                       2                           0   \n",
       "\n",
       "   Carriageway_Hazards  Urban_or_Rural_Area  \\\n",
       "0                    0                    1   \n",
       "1                    0                    1   \n",
       "2                    0                    1   \n",
       "3                    0                    1   \n",
       "4                    0                    1   \n",
       "\n",
       "   Did_Police_Officer_Attend_Scene_of_Accident  Hour  Month  \n",
       "0                                            1    18     01  \n",
       "1                                            1     7     01  \n",
       "2                                            1    18     01  \n",
       "3                                            2     7     01  \n",
       "4                                            2     7     01  \n",
       "\n",
       "[5 rows x 33 columns]"
      ]
     },
     "execution_count": 45,
     "metadata": {},
     "output_type": "execute_result"
    }
   ],
   "source": [
    "# Extract the Month the accident occured from the date\n",
    "def get_month(col):\n",
    "    return col.split('/')[1]\n",
    "    \n",
    "df[\"Month\"] = df[\"Date\"].apply(lambda x:get_month(x))\n",
    "df.head()"
   ]
  },
  {
   "cell_type": "code",
   "execution_count": 28,
   "id": "ee02aa8e",
   "metadata": {},
   "outputs": [],
   "source": [
    "# Conver month column to integer\n",
    "df[\"Month\"] = df[\"Month\"].astype(\"int\")"
   ]
  },
  {
   "cell_type": "code",
   "execution_count": 49,
   "id": "86b2c0a1",
   "metadata": {},
   "outputs": [],
   "source": [
    "df[\"Month\"] = df[\"Month\"].astype(\"object\")"
   ]
  },
  {
   "cell_type": "code",
   "execution_count": 53,
   "id": "039fc29c",
   "metadata": {},
   "outputs": [
    {
     "name": "stderr",
     "output_type": "stream",
     "text": [
      "C:\\Users\\user\\anaconda3\\envs\\hamoye\\lib\\site-packages\\seaborn\\_decorators.py:36: FutureWarning: Pass the following variable as a keyword arg: x. From version 0.12, the only valid positional argument will be `data`, and passing other arguments without an explicit keyword will result in an error or misinterpretation.\n",
      "  warnings.warn(\n"
     ]
    },
    {
     "data": {
      "image/png": "[encoded data removed]",
      "text/plain": [
       "<Figure size 432x288 with 1 Axes>"
      ]
     },
     "metadata": {
      "needs_background": "light"
     },
     "output_type": "display_data"
    },
    {
     "name": "stdout",
     "output_type": "stream",
     "text": [
      "Mean:11671.33   Standard Deviation:731.12\n"
     ]
    }
   ],
   "source": [
    "g=sns.countplot(df[\"Month\"])\n",
    "plt.xticks(rotation = 90)\n",
    "g.set_xticklabels([\"January\",\"February\",\"March\",\"April\",\"May\",\"June\",\"July\",\"August\",\"September\",\"October\",\"November\",\"December\"])\n",
    "plt.show()\n",
    "print(\"Mean:{:.2f}   Standard Deviation:{:.2f}\".format(df.Month.value_counts().mean(), \n",
    "                                                      df.Month.value_counts().std()))"
   ]
  },
  {
   "cell_type": "markdown",
   "id": "9f91cff5",
   "metadata": {},
   "source": [
    "Comment:Highest number of accidents occur in july and the lowest number of accident occur in febraury,the number of accidents towards the end of year are around the same values expecially from september to november"
   ]
  },
  {
   "cell_type": "markdown",
   "id": "b1ae5175",
   "metadata": {},
   "source": [
    "### Extracting the hour the accident occured from the time column"
   ]
  },
  {
   "cell_type": "code",
   "execution_count": 43,
   "id": "ae506692",
   "metadata": {},
   "outputs": [
    {
     "data": {
      "text/html": [
       "<div>\n",
       "<style scoped>\n",
       "    .dataframe tbody tr th:only-of-type {\n",
       "        vertical-align: middle;\n",
       "    }\n",
       "\n",
       "    .dataframe tbody tr th {\n",
       "        vertical-align: top;\n",
       "    }\n",
       "\n",
       "    .dataframe thead th {\n",
       "        text-align: right;\n",
       "    }\n",
       "</style>\n",
       "<table border=\"1\" class=\"dataframe\">\n",
       "  <thead>\n",
       "    <tr style=\"text-align: right;\">\n",
       "      <th></th>\n",
       "      <th>Accident_Index</th>\n",
       "      <th>Location_Easting_OSGR</th>\n",
       "      <th>Location_Northing_OSGR</th>\n",
       "      <th>Longitude</th>\n",
       "      <th>Latitude</th>\n",
       "      <th>Police_Force</th>\n",
       "      <th>Accident_Severity</th>\n",
       "      <th>Number_of_Vehicles</th>\n",
       "      <th>Number_of_Casualties</th>\n",
       "      <th>Date</th>\n",
       "      <th>...</th>\n",
       "      <th>Pedestrian_Crossing-Human_Control</th>\n",
       "      <th>Pedestrian_Crossing-Physical_Facilities</th>\n",
       "      <th>Light_Conditions</th>\n",
       "      <th>Weather_Conditions</th>\n",
       "      <th>Road_Surface_Conditions</th>\n",
       "      <th>Special_Conditions_at_Site</th>\n",
       "      <th>Carriageway_Hazards</th>\n",
       "      <th>Urban_or_Rural_Area</th>\n",
       "      <th>Did_Police_Officer_Attend_Scene_of_Accident</th>\n",
       "      <th>Hour</th>\n",
       "    </tr>\n",
       "  </thead>\n",
       "  <tbody>\n",
       "    <tr>\n",
       "      <th>0</th>\n",
       "      <td>201501BS70001</td>\n",
       "      <td>525130.0</td>\n",
       "      <td>180050.0</td>\n",
       "      <td>-0.198465</td>\n",
       "      <td>51.505538</td>\n",
       "      <td>1</td>\n",
       "      <td>3</td>\n",
       "      <td>1</td>\n",
       "      <td>1</td>\n",
       "      <td>12/01/2015</td>\n",
       "      <td>...</td>\n",
       "      <td>0</td>\n",
       "      <td>0</td>\n",
       "      <td>4</td>\n",
       "      <td>1</td>\n",
       "      <td>1</td>\n",
       "      <td>0</td>\n",
       "      <td>0</td>\n",
       "      <td>1</td>\n",
       "      <td>1</td>\n",
       "      <td>18</td>\n",
       "    </tr>\n",
       "    <tr>\n",
       "      <th>1</th>\n",
       "      <td>201501BS70002</td>\n",
       "      <td>526530.0</td>\n",
       "      <td>178560.0</td>\n",
       "      <td>-0.178838</td>\n",
       "      <td>51.491836</td>\n",
       "      <td>1</td>\n",
       "      <td>3</td>\n",
       "      <td>1</td>\n",
       "      <td>1</td>\n",
       "      <td>12/01/2015</td>\n",
       "      <td>...</td>\n",
       "      <td>0</td>\n",
       "      <td>0</td>\n",
       "      <td>1</td>\n",
       "      <td>1</td>\n",
       "      <td>1</td>\n",
       "      <td>0</td>\n",
       "      <td>0</td>\n",
       "      <td>1</td>\n",
       "      <td>1</td>\n",
       "      <td>07</td>\n",
       "    </tr>\n",
       "    <tr>\n",
       "      <th>2</th>\n",
       "      <td>201501BS70004</td>\n",
       "      <td>524610.0</td>\n",
       "      <td>181080.0</td>\n",
       "      <td>-0.205590</td>\n",
       "      <td>51.514910</td>\n",
       "      <td>1</td>\n",
       "      <td>3</td>\n",
       "      <td>1</td>\n",
       "      <td>1</td>\n",
       "      <td>12/01/2015</td>\n",
       "      <td>...</td>\n",
       "      <td>0</td>\n",
       "      <td>1</td>\n",
       "      <td>4</td>\n",
       "      <td>2</td>\n",
       "      <td>2</td>\n",
       "      <td>0</td>\n",
       "      <td>0</td>\n",
       "      <td>1</td>\n",
       "      <td>1</td>\n",
       "      <td>18</td>\n",
       "    </tr>\n",
       "    <tr>\n",
       "      <th>3</th>\n",
       "      <td>201501BS70005</td>\n",
       "      <td>524420.0</td>\n",
       "      <td>181080.0</td>\n",
       "      <td>-0.208327</td>\n",
       "      <td>51.514952</td>\n",
       "      <td>1</td>\n",
       "      <td>3</td>\n",
       "      <td>1</td>\n",
       "      <td>1</td>\n",
       "      <td>13/01/2015</td>\n",
       "      <td>...</td>\n",
       "      <td>0</td>\n",
       "      <td>0</td>\n",
       "      <td>1</td>\n",
       "      <td>1</td>\n",
       "      <td>2</td>\n",
       "      <td>0</td>\n",
       "      <td>0</td>\n",
       "      <td>1</td>\n",
       "      <td>2</td>\n",
       "      <td>07</td>\n",
       "    </tr>\n",
       "    <tr>\n",
       "      <th>4</th>\n",
       "      <td>201501BS70008</td>\n",
       "      <td>524630.0</td>\n",
       "      <td>179040.0</td>\n",
       "      <td>-0.206022</td>\n",
       "      <td>51.496572</td>\n",
       "      <td>1</td>\n",
       "      <td>2</td>\n",
       "      <td>2</td>\n",
       "      <td>1</td>\n",
       "      <td>09/01/2015</td>\n",
       "      <td>...</td>\n",
       "      <td>0</td>\n",
       "      <td>5</td>\n",
       "      <td>1</td>\n",
       "      <td>2</td>\n",
       "      <td>2</td>\n",
       "      <td>0</td>\n",
       "      <td>0</td>\n",
       "      <td>1</td>\n",
       "      <td>2</td>\n",
       "      <td>07</td>\n",
       "    </tr>\n",
       "  </tbody>\n",
       "</table>\n",
       "<p>5 rows × 32 columns</p>\n",
       "</div>"
      ],
      "text/plain": [
       "  Accident_Index  Location_Easting_OSGR  Location_Northing_OSGR  Longitude  \\\n",
       "0  201501BS70001               525130.0                180050.0  -0.198465   \n",
       "1  201501BS70002               526530.0                178560.0  -0.178838   \n",
       "2  201501BS70004               524610.0                181080.0  -0.205590   \n",
       "3  201501BS70005               524420.0                181080.0  -0.208327   \n",
       "4  201501BS70008               524630.0                179040.0  -0.206022   \n",
       "\n",
       "    Latitude  Police_Force  Accident_Severity  Number_of_Vehicles  \\\n",
       "0  51.505538             1                  3                   1   \n",
       "1  51.491836             1                  3                   1   \n",
       "2  51.514910             1                  3                   1   \n",
       "3  51.514952             1                  3                   1   \n",
       "4  51.496572             1                  2                   2   \n",
       "\n",
       "   Number_of_Casualties        Date  ...  Pedestrian_Crossing-Human_Control  \\\n",
       "0                     1  12/01/2015  ...                                  0   \n",
       "1                     1  12/01/2015  ...                                  0   \n",
       "2                     1  12/01/2015  ...                                  0   \n",
       "3                     1  13/01/2015  ...                                  0   \n",
       "4                     1  09/01/2015  ...                                  0   \n",
       "\n",
       "  Pedestrian_Crossing-Physical_Facilities  Light_Conditions  \\\n",
       "0                                       0                 4   \n",
       "1                                       0                 1   \n",
       "2                                       1                 4   \n",
       "3                                       0                 1   \n",
       "4                                       5                 1   \n",
       "\n",
       "  Weather_Conditions  Road_Surface_Conditions  Special_Conditions_at_Site  \\\n",
       "0                  1                        1                           0   \n",
       "1                  1                        1                           0   \n",
       "2                  2                        2                           0   \n",
       "3                  1                        2                           0   \n",
       "4                  2                        2                           0   \n",
       "\n",
       "   Carriageway_Hazards  Urban_or_Rural_Area  \\\n",
       "0                    0                    1   \n",
       "1                    0                    1   \n",
       "2                    0                    1   \n",
       "3                    0                    1   \n",
       "4                    0                    1   \n",
       "\n",
       "   Did_Police_Officer_Attend_Scene_of_Accident  Hour  \n",
       "0                                            1    18  \n",
       "1                                            1    07  \n",
       "2                                            1    18  \n",
       "3                                            2    07  \n",
       "4                                            2    07  \n",
       "\n",
       "[5 rows x 32 columns]"
      ]
     },
     "execution_count": 43,
     "metadata": {},
     "output_type": "execute_result"
    }
   ],
   "source": [
    "def get_hour(col):\n",
    "    return str(col).split(':')[0]\n",
    "    \n",
    "df[\"Hour\"] = df[\"Time\"].apply(lambda x:get_hour(x))\n",
    "df.head()"
   ]
  },
  {
   "cell_type": "code",
   "execution_count": 54,
   "id": "b92010cf",
   "metadata": {},
   "outputs": [
    {
     "data": {
      "text/html": [
       "<div>\n",
       "<style scoped>\n",
       "    .dataframe tbody tr th:only-of-type {\n",
       "        vertical-align: middle;\n",
       "    }\n",
       "\n",
       "    .dataframe tbody tr th {\n",
       "        vertical-align: top;\n",
       "    }\n",
       "\n",
       "    .dataframe thead th {\n",
       "        text-align: right;\n",
       "    }\n",
       "</style>\n",
       "<table border=\"1\" class=\"dataframe\">\n",
       "  <thead>\n",
       "    <tr style=\"text-align: right;\">\n",
       "      <th></th>\n",
       "      <th>Accident_Index</th>\n",
       "      <th>Location_Easting_OSGR</th>\n",
       "      <th>Location_Northing_OSGR</th>\n",
       "      <th>Longitude</th>\n",
       "      <th>Latitude</th>\n",
       "      <th>Police_Force</th>\n",
       "      <th>Accident_Severity</th>\n",
       "      <th>Number_of_Vehicles</th>\n",
       "      <th>Number_of_Casualties</th>\n",
       "      <th>Date</th>\n",
       "      <th>...</th>\n",
       "      <th>Pedestrian_Crossing-Physical_Facilities</th>\n",
       "      <th>Light_Conditions</th>\n",
       "      <th>Weather_Conditions</th>\n",
       "      <th>Road_Surface_Conditions</th>\n",
       "      <th>Special_Conditions_at_Site</th>\n",
       "      <th>Carriageway_Hazards</th>\n",
       "      <th>Urban_or_Rural_Area</th>\n",
       "      <th>Did_Police_Officer_Attend_Scene_of_Accident</th>\n",
       "      <th>Hour</th>\n",
       "      <th>Month</th>\n",
       "    </tr>\n",
       "  </thead>\n",
       "  <tbody>\n",
       "    <tr>\n",
       "      <th>0</th>\n",
       "      <td>201501BS70001</td>\n",
       "      <td>525130.0</td>\n",
       "      <td>180050.0</td>\n",
       "      <td>-0.198465</td>\n",
       "      <td>51.505538</td>\n",
       "      <td>1</td>\n",
       "      <td>3</td>\n",
       "      <td>1</td>\n",
       "      <td>1</td>\n",
       "      <td>12/01/2015</td>\n",
       "      <td>...</td>\n",
       "      <td>0</td>\n",
       "      <td>4</td>\n",
       "      <td>1</td>\n",
       "      <td>1</td>\n",
       "      <td>0</td>\n",
       "      <td>0</td>\n",
       "      <td>1</td>\n",
       "      <td>1</td>\n",
       "      <td>18</td>\n",
       "      <td>01</td>\n",
       "    </tr>\n",
       "    <tr>\n",
       "      <th>1</th>\n",
       "      <td>201501BS70002</td>\n",
       "      <td>526530.0</td>\n",
       "      <td>178560.0</td>\n",
       "      <td>-0.178838</td>\n",
       "      <td>51.491836</td>\n",
       "      <td>1</td>\n",
       "      <td>3</td>\n",
       "      <td>1</td>\n",
       "      <td>1</td>\n",
       "      <td>12/01/2015</td>\n",
       "      <td>...</td>\n",
       "      <td>0</td>\n",
       "      <td>1</td>\n",
       "      <td>1</td>\n",
       "      <td>1</td>\n",
       "      <td>0</td>\n",
       "      <td>0</td>\n",
       "      <td>1</td>\n",
       "      <td>1</td>\n",
       "      <td>7</td>\n",
       "      <td>01</td>\n",
       "    </tr>\n",
       "    <tr>\n",
       "      <th>2</th>\n",
       "      <td>201501BS70004</td>\n",
       "      <td>524610.0</td>\n",
       "      <td>181080.0</td>\n",
       "      <td>-0.205590</td>\n",
       "      <td>51.514910</td>\n",
       "      <td>1</td>\n",
       "      <td>3</td>\n",
       "      <td>1</td>\n",
       "      <td>1</td>\n",
       "      <td>12/01/2015</td>\n",
       "      <td>...</td>\n",
       "      <td>1</td>\n",
       "      <td>4</td>\n",
       "      <td>2</td>\n",
       "      <td>2</td>\n",
       "      <td>0</td>\n",
       "      <td>0</td>\n",
       "      <td>1</td>\n",
       "      <td>1</td>\n",
       "      <td>18</td>\n",
       "      <td>01</td>\n",
       "    </tr>\n",
       "    <tr>\n",
       "      <th>3</th>\n",
       "      <td>201501BS70005</td>\n",
       "      <td>524420.0</td>\n",
       "      <td>181080.0</td>\n",
       "      <td>-0.208327</td>\n",
       "      <td>51.514952</td>\n",
       "      <td>1</td>\n",
       "      <td>3</td>\n",
       "      <td>1</td>\n",
       "      <td>1</td>\n",
       "      <td>13/01/2015</td>\n",
       "      <td>...</td>\n",
       "      <td>0</td>\n",
       "      <td>1</td>\n",
       "      <td>1</td>\n",
       "      <td>2</td>\n",
       "      <td>0</td>\n",
       "      <td>0</td>\n",
       "      <td>1</td>\n",
       "      <td>2</td>\n",
       "      <td>7</td>\n",
       "      <td>01</td>\n",
       "    </tr>\n",
       "    <tr>\n",
       "      <th>4</th>\n",
       "      <td>201501BS70008</td>\n",
       "      <td>524630.0</td>\n",
       "      <td>179040.0</td>\n",
       "      <td>-0.206022</td>\n",
       "      <td>51.496572</td>\n",
       "      <td>1</td>\n",
       "      <td>2</td>\n",
       "      <td>2</td>\n",
       "      <td>1</td>\n",
       "      <td>09/01/2015</td>\n",
       "      <td>...</td>\n",
       "      <td>5</td>\n",
       "      <td>1</td>\n",
       "      <td>2</td>\n",
       "      <td>2</td>\n",
       "      <td>0</td>\n",
       "      <td>0</td>\n",
       "      <td>1</td>\n",
       "      <td>2</td>\n",
       "      <td>7</td>\n",
       "      <td>01</td>\n",
       "    </tr>\n",
       "  </tbody>\n",
       "</table>\n",
       "<p>5 rows × 33 columns</p>\n",
       "</div>"
      ],
      "text/plain": [
       "  Accident_Index  Location_Easting_OSGR  Location_Northing_OSGR  Longitude  \\\n",
       "0  201501BS70001               525130.0                180050.0  -0.198465   \n",
       "1  201501BS70002               526530.0                178560.0  -0.178838   \n",
       "2  201501BS70004               524610.0                181080.0  -0.205590   \n",
       "3  201501BS70005               524420.0                181080.0  -0.208327   \n",
       "4  201501BS70008               524630.0                179040.0  -0.206022   \n",
       "\n",
       "    Latitude  Police_Force  Accident_Severity  Number_of_Vehicles  \\\n",
       "0  51.505538             1                  3                   1   \n",
       "1  51.491836             1                  3                   1   \n",
       "2  51.514910             1                  3                   1   \n",
       "3  51.514952             1                  3                   1   \n",
       "4  51.496572             1                  2                   2   \n",
       "\n",
       "   Number_of_Casualties        Date  ...  \\\n",
       "0                     1  12/01/2015  ...   \n",
       "1                     1  12/01/2015  ...   \n",
       "2                     1  12/01/2015  ...   \n",
       "3                     1  13/01/2015  ...   \n",
       "4                     1  09/01/2015  ...   \n",
       "\n",
       "   Pedestrian_Crossing-Physical_Facilities Light_Conditions  \\\n",
       "0                                        0                4   \n",
       "1                                        0                1   \n",
       "2                                        1                4   \n",
       "3                                        0                1   \n",
       "4                                        5                1   \n",
       "\n",
       "   Weather_Conditions Road_Surface_Conditions  Special_Conditions_at_Site  \\\n",
       "0                   1                       1                           0   \n",
       "1                   1                       1                           0   \n",
       "2                   2                       2                           0   \n",
       "3                   1                       2                           0   \n",
       "4                   2                       2                           0   \n",
       "\n",
       "   Carriageway_Hazards  Urban_or_Rural_Area  \\\n",
       "0                    0                    1   \n",
       "1                    0                    1   \n",
       "2                    0                    1   \n",
       "3                    0                    1   \n",
       "4                    0                    1   \n",
       "\n",
       "   Did_Police_Officer_Attend_Scene_of_Accident  Hour  Month  \n",
       "0                                            1    18     01  \n",
       "1                                            1     7     01  \n",
       "2                                            1    18     01  \n",
       "3                                            2     7     01  \n",
       "4                                            2     7     01  \n",
       "\n",
       "[5 rows x 33 columns]"
      ]
     },
     "execution_count": 54,
     "metadata": {},
     "output_type": "execute_result"
    }
   ],
   "source": [
    "df[\"Hour\"] = df[\"Hour\"].astype(int)\n",
    "df.head()"
   ]
  },
  {
   "cell_type": "code",
   "execution_count": 55,
   "id": "bf7a669b",
   "metadata": {},
   "outputs": [
    {
     "data": {
      "text/html": [
       "<div>\n",
       "<style scoped>\n",
       "    .dataframe tbody tr th:only-of-type {\n",
       "        vertical-align: middle;\n",
       "    }\n",
       "\n",
       "    .dataframe tbody tr th {\n",
       "        vertical-align: top;\n",
       "    }\n",
       "\n",
       "    .dataframe thead th {\n",
       "        text-align: right;\n",
       "    }\n",
       "</style>\n",
       "<table border=\"1\" class=\"dataframe\">\n",
       "  <thead>\n",
       "    <tr style=\"text-align: right;\">\n",
       "      <th></th>\n",
       "      <th>Accident_Index</th>\n",
       "      <th>Location_Easting_OSGR</th>\n",
       "      <th>Location_Northing_OSGR</th>\n",
       "      <th>Longitude</th>\n",
       "      <th>Latitude</th>\n",
       "      <th>Police_Force</th>\n",
       "      <th>Accident_Severity</th>\n",
       "      <th>Number_of_Vehicles</th>\n",
       "      <th>Number_of_Casualties</th>\n",
       "      <th>Date</th>\n",
       "      <th>...</th>\n",
       "      <th>Pedestrian_Crossing-Physical_Facilities</th>\n",
       "      <th>Light_Conditions</th>\n",
       "      <th>Weather_Conditions</th>\n",
       "      <th>Road_Surface_Conditions</th>\n",
       "      <th>Special_Conditions_at_Site</th>\n",
       "      <th>Carriageway_Hazards</th>\n",
       "      <th>Urban_or_Rural_Area</th>\n",
       "      <th>Did_Police_Officer_Attend_Scene_of_Accident</th>\n",
       "      <th>Hour</th>\n",
       "      <th>Month</th>\n",
       "    </tr>\n",
       "  </thead>\n",
       "  <tbody>\n",
       "    <tr>\n",
       "      <th>0</th>\n",
       "      <td>201501BS70001</td>\n",
       "      <td>525130.0</td>\n",
       "      <td>180050.0</td>\n",
       "      <td>-0.198465</td>\n",
       "      <td>51.505538</td>\n",
       "      <td>1</td>\n",
       "      <td>3</td>\n",
       "      <td>1</td>\n",
       "      <td>1</td>\n",
       "      <td>12/01/2015</td>\n",
       "      <td>...</td>\n",
       "      <td>0</td>\n",
       "      <td>4</td>\n",
       "      <td>1</td>\n",
       "      <td>1</td>\n",
       "      <td>0</td>\n",
       "      <td>0</td>\n",
       "      <td>1</td>\n",
       "      <td>1</td>\n",
       "      <td>6pm</td>\n",
       "      <td>01</td>\n",
       "    </tr>\n",
       "    <tr>\n",
       "      <th>1</th>\n",
       "      <td>201501BS70002</td>\n",
       "      <td>526530.0</td>\n",
       "      <td>178560.0</td>\n",
       "      <td>-0.178838</td>\n",
       "      <td>51.491836</td>\n",
       "      <td>1</td>\n",
       "      <td>3</td>\n",
       "      <td>1</td>\n",
       "      <td>1</td>\n",
       "      <td>12/01/2015</td>\n",
       "      <td>...</td>\n",
       "      <td>0</td>\n",
       "      <td>1</td>\n",
       "      <td>1</td>\n",
       "      <td>1</td>\n",
       "      <td>0</td>\n",
       "      <td>0</td>\n",
       "      <td>1</td>\n",
       "      <td>1</td>\n",
       "      <td>7am</td>\n",
       "      <td>01</td>\n",
       "    </tr>\n",
       "    <tr>\n",
       "      <th>2</th>\n",
       "      <td>201501BS70004</td>\n",
       "      <td>524610.0</td>\n",
       "      <td>181080.0</td>\n",
       "      <td>-0.205590</td>\n",
       "      <td>51.514910</td>\n",
       "      <td>1</td>\n",
       "      <td>3</td>\n",
       "      <td>1</td>\n",
       "      <td>1</td>\n",
       "      <td>12/01/2015</td>\n",
       "      <td>...</td>\n",
       "      <td>1</td>\n",
       "      <td>4</td>\n",
       "      <td>2</td>\n",
       "      <td>2</td>\n",
       "      <td>0</td>\n",
       "      <td>0</td>\n",
       "      <td>1</td>\n",
       "      <td>1</td>\n",
       "      <td>6pm</td>\n",
       "      <td>01</td>\n",
       "    </tr>\n",
       "    <tr>\n",
       "      <th>3</th>\n",
       "      <td>201501BS70005</td>\n",
       "      <td>524420.0</td>\n",
       "      <td>181080.0</td>\n",
       "      <td>-0.208327</td>\n",
       "      <td>51.514952</td>\n",
       "      <td>1</td>\n",
       "      <td>3</td>\n",
       "      <td>1</td>\n",
       "      <td>1</td>\n",
       "      <td>13/01/2015</td>\n",
       "      <td>...</td>\n",
       "      <td>0</td>\n",
       "      <td>1</td>\n",
       "      <td>1</td>\n",
       "      <td>2</td>\n",
       "      <td>0</td>\n",
       "      <td>0</td>\n",
       "      <td>1</td>\n",
       "      <td>2</td>\n",
       "      <td>7am</td>\n",
       "      <td>01</td>\n",
       "    </tr>\n",
       "    <tr>\n",
       "      <th>4</th>\n",
       "      <td>201501BS70008</td>\n",
       "      <td>524630.0</td>\n",
       "      <td>179040.0</td>\n",
       "      <td>-0.206022</td>\n",
       "      <td>51.496572</td>\n",
       "      <td>1</td>\n",
       "      <td>2</td>\n",
       "      <td>2</td>\n",
       "      <td>1</td>\n",
       "      <td>09/01/2015</td>\n",
       "      <td>...</td>\n",
       "      <td>5</td>\n",
       "      <td>1</td>\n",
       "      <td>2</td>\n",
       "      <td>2</td>\n",
       "      <td>0</td>\n",
       "      <td>0</td>\n",
       "      <td>1</td>\n",
       "      <td>2</td>\n",
       "      <td>7am</td>\n",
       "      <td>01</td>\n",
       "    </tr>\n",
       "  </tbody>\n",
       "</table>\n",
       "<p>5 rows × 33 columns</p>\n",
       "</div>"
      ],
      "text/plain": [
       "  Accident_Index  Location_Easting_OSGR  Location_Northing_OSGR  Longitude  \\\n",
       "0  201501BS70001               525130.0                180050.0  -0.198465   \n",
       "1  201501BS70002               526530.0                178560.0  -0.178838   \n",
       "2  201501BS70004               524610.0                181080.0  -0.205590   \n",
       "3  201501BS70005               524420.0                181080.0  -0.208327   \n",
       "4  201501BS70008               524630.0                179040.0  -0.206022   \n",
       "\n",
       "    Latitude  Police_Force  Accident_Severity  Number_of_Vehicles  \\\n",
       "0  51.505538             1                  3                   1   \n",
       "1  51.491836             1                  3                   1   \n",
       "2  51.514910             1                  3                   1   \n",
       "3  51.514952             1                  3                   1   \n",
       "4  51.496572             1                  2                   2   \n",
       "\n",
       "   Number_of_Casualties        Date  ...  \\\n",
       "0                     1  12/01/2015  ...   \n",
       "1                     1  12/01/2015  ...   \n",
       "2                     1  12/01/2015  ...   \n",
       "3                     1  13/01/2015  ...   \n",
       "4                     1  09/01/2015  ...   \n",
       "\n",
       "   Pedestrian_Crossing-Physical_Facilities Light_Conditions  \\\n",
       "0                                        0                4   \n",
       "1                                        0                1   \n",
       "2                                        1                4   \n",
       "3                                        0                1   \n",
       "4                                        5                1   \n",
       "\n",
       "   Weather_Conditions Road_Surface_Conditions  Special_Conditions_at_Site  \\\n",
       "0                   1                       1                           0   \n",
       "1                   1                       1                           0   \n",
       "2                   2                       2                           0   \n",
       "3                   1                       2                           0   \n",
       "4                   2                       2                           0   \n",
       "\n",
       "   Carriageway_Hazards  Urban_or_Rural_Area  \\\n",
       "0                    0                    1   \n",
       "1                    0                    1   \n",
       "2                    0                    1   \n",
       "3                    0                    1   \n",
       "4                    0                    1   \n",
       "\n",
       "   Did_Police_Officer_Attend_Scene_of_Accident  Hour  Month  \n",
       "0                                            1   6pm     01  \n",
       "1                                            1   7am     01  \n",
       "2                                            1   6pm     01  \n",
       "3                                            2   7am     01  \n",
       "4                                            2   7am     01  \n",
       "\n",
       "[5 rows x 33 columns]"
      ]
     },
     "execution_count": 55,
     "metadata": {},
     "output_type": "execute_result"
    }
   ],
   "source": [
    "#chage format of time\n",
    "def change_hour_format(hr):\n",
    "    if hr <= 12:\n",
    "        return str(hr)+\"am\"\n",
    "    else:\n",
    "        return str(hr - 12) + \"pm\"\n",
    "df[\"Hour\"] = df[\"Hour\"].apply(lambda x:change_hour_format(x))\n",
    "df.head()"
   ]
  },
  {
   "cell_type": "code",
   "execution_count": 63,
   "id": "a58eede4",
   "metadata": {},
   "outputs": [
    {
     "data": {
      "image/png": "[encoded data removed]",
      "text/plain": [
       "<Figure size 720x432 with 1 Axes>"
      ]
     },
     "metadata": {
      "needs_background": "light"
     },
     "output_type": "display_data"
    }
   ],
   "source": [
    "# display top hours with highest case of accidemts\n",
    "plt.figure(figsize=(10,6))\n",
    "df.groupby(\"Hour\")[\"Hour\"].count().sort_values(ascending = False).plot.bar(color = \"red\")\n",
    "plt.xticks(rotation = 90)\n",
    "plt.ylabel(\"Number of accidents\")\n",
    "plt.title(\"Number of accidents per hour of the day\")\n",
    "plt.savefig(\"Hour_of_accident_occurence.png\")\n",
    "plt.show()"
   ]
  },
  {
   "cell_type": "markdown",
   "id": "d6a2cd55",
   "metadata": {},
   "source": [
    "comment:Most accidents occur around 5pm,4pm,3pm,8pm.....as show on the diagram,This might because there might be a lot of traffic at this time or more people tend to move out around this time but there are obvioulsy a lot of casualities aroung8am,this might because a lot of people tend to go and go their respective work places which in turn returns into road traffic"
   ]
  },
  {
   "cell_type": "markdown",
   "id": "b522429b",
   "metadata": {},
   "source": [
    "#### Numerical Features"
   ]
  },
  {
   "cell_type": "code",
   "execution_count": 64,
   "id": "edfabc8d",
   "metadata": {},
   "outputs": [
    {
     "data": {
      "text/plain": [
       "['Location_Easting_OSGR',\n",
       " 'Location_Northing_OSGR',\n",
       " 'Longitude',\n",
       " 'Latitude',\n",
       " 'Police_Force',\n",
       " 'Accident_Severity',\n",
       " 'Number_of_Vehicles',\n",
       " 'Number_of_Casualties',\n",
       " 'Day_of_Week',\n",
       " 'Local_Authority_(District)',\n",
       " '1st_Road_Class',\n",
       " '1st_Road_Number',\n",
       " 'Road_Type',\n",
       " 'Speed_limit',\n",
       " 'Junction_Detail',\n",
       " 'Junction_Control',\n",
       " '2nd_Road_Class',\n",
       " '2nd_Road_Number',\n",
       " 'Pedestrian_Crossing-Human_Control',\n",
       " 'Pedestrian_Crossing-Physical_Facilities',\n",
       " 'Light_Conditions',\n",
       " 'Weather_Conditions',\n",
       " 'Road_Surface_Conditions',\n",
       " 'Special_Conditions_at_Site',\n",
       " 'Carriageway_Hazards',\n",
       " 'Urban_or_Rural_Area',\n",
       " 'Did_Police_Officer_Attend_Scene_of_Accident']"
      ]
     },
     "execution_count": 64,
     "metadata": {},
     "output_type": "execute_result"
    }
   ],
   "source": [
    "num_features = [f for f in df.columns if df[f].dtype == \"int64\" or df[f].dtype == \"int32\" or df[f].dtype == \"float\"]\n",
    "num_features"
   ]
  },
  {
   "cell_type": "code",
   "execution_count": 65,
   "id": "e101fb16",
   "metadata": {},
   "outputs": [
    {
     "name": "stdout",
     "output_type": "stream",
     "text": [
      "Location_Easting_OSGR : 89880\n",
      "Location_Northing_OSGR : 93322\n",
      "Longitude : 133316\n",
      "Latitude : 131977\n",
      "Police_Force : 51\n",
      "Accident_Severity : 3\n",
      "Number_of_Vehicles : 16\n",
      "Number_of_Casualties : 22\n",
      "Day_of_Week : 7\n",
      "Local_Authority_(District) : 380\n",
      "1st_Road_Class : 6\n",
      "1st_Road_Number : 4340\n",
      "Road_Type : 6\n",
      "Speed_limit : 8\n",
      "Junction_Detail : 10\n",
      "Junction_Control : 5\n",
      "2nd_Road_Class : 7\n",
      "2nd_Road_Number : 3795\n",
      "Pedestrian_Crossing-Human_Control : 4\n",
      "Pedestrian_Crossing-Physical_Facilities : 7\n",
      "Light_Conditions : 5\n",
      "Weather_Conditions : 9\n",
      "Road_Surface_Conditions : 6\n",
      "Special_Conditions_at_Site : 9\n",
      "Carriageway_Hazards : 7\n",
      "Urban_or_Rural_Area : 2\n",
      "Did_Police_Officer_Attend_Scene_of_Accident : 4\n"
     ]
    }
   ],
   "source": [
    "for f in num_features:\n",
    "    print(f,\":\",len(df[f].unique()))"
   ]
  },
  {
   "cell_type": "code",
   "execution_count": 66,
   "id": "617495ed",
   "metadata": {},
   "outputs": [
    {
     "data": {
      "text/plain": [
       "['Accident_Severity',\n",
       " 'Number_of_Vehicles',\n",
       " 'Number_of_Casualties',\n",
       " 'Day_of_Week',\n",
       " '1st_Road_Class',\n",
       " 'Road_Type',\n",
       " 'Speed_limit',\n",
       " 'Junction_Detail',\n",
       " 'Junction_Control',\n",
       " '2nd_Road_Class',\n",
       " 'Pedestrian_Crossing-Human_Control',\n",
       " 'Pedestrian_Crossing-Physical_Facilities',\n",
       " 'Light_Conditions',\n",
       " 'Weather_Conditions',\n",
       " 'Road_Surface_Conditions',\n",
       " 'Special_Conditions_at_Site',\n",
       " 'Carriageway_Hazards',\n",
       " 'Urban_or_Rural_Area',\n",
       " 'Did_Police_Officer_Attend_Scene_of_Accident']"
      ]
     },
     "execution_count": 66,
     "metadata": {},
     "output_type": "execute_result"
    }
   ],
   "source": [
    "# Select features with 25 or lower number of unique values, they will be refered to as discrete numerical features\n",
    "discrete_num = [f for f in num_features if len(df[f].unique()) <= 25]\n",
    "discrete_num"
   ]
  },
  {
   "cell_type": "markdown",
   "id": "aab758ff",
   "metadata": {},
   "source": [
    "### Study the Severity of the study"
   ]
  },
  {
   "cell_type": "code",
   "execution_count": 67,
   "id": "63f2b8fb",
   "metadata": {},
   "outputs": [
    {
     "data": {
      "text/plain": [
       "0     slight\n",
       "1     slight\n",
       "2     slight\n",
       "3     slight\n",
       "4    serious\n",
       "Name: Accident_Severity, dtype: object"
      ]
     },
     "execution_count": 67,
     "metadata": {},
     "output_type": "execute_result"
    }
   ],
   "source": [
    "# Change to real meaning of the integer values\n",
    "labels  = {\"Accident_Severity\":{1:\"fatal\",2:\"serious\",3:\"slight\"}}\n",
    "df = df.replace(labels)\n",
    "df[\"Accident_Severity\"].head()  "
   ]
  },
  {
   "cell_type": "code",
   "execution_count": 68,
   "id": "e18601aa",
   "metadata": {},
   "outputs": [
    {
     "data": {
      "text/plain": [
       "slight     118402\n",
       "serious     20038\n",
       "fatal        1616\n",
       "Name: Accident_Severity, dtype: int64"
      ]
     },
     "execution_count": 68,
     "metadata": {},
     "output_type": "execute_result"
    }
   ],
   "source": [
    "df[\"Accident_Severity\"].value_counts()"
   ]
  },
  {
   "cell_type": "code",
   "execution_count": 69,
   "id": "84f76786",
   "metadata": {},
   "outputs": [],
   "source": [
    "lst = list(df[\"Accident_Severity\"].value_counts())"
   ]
  },
  {
   "cell_type": "code",
   "execution_count": 86,
   "id": "272f0149",
   "metadata": {},
   "outputs": [
    {
     "data": {
      "text/plain": [
       "<Figure size 720x504 with 0 Axes>"
      ]
     },
     "metadata": {},
     "output_type": "display_data"
    },
    {
     "data": {
      "image/png": "[encoded data removed]",
      "text/plain": [
       "<Figure size 432x288 with 1 Axes>"
      ]
     },
     "metadata": {},
     "output_type": "display_data"
    }
   ],
   "source": [
    "values = np.array(lst)\n",
    "plt.figure(figsize=(10.,7))\n",
    "labels = [\"Slight\",\"Serious\",\"Fatal\"]\n",
    "sizes = [85.54,14.31,1.15]\n",
    "colors = [\"#ff9999\",\"#66b3ff\",\"#99ff99\"]\n",
    "explode = (0.1,0.1,0.1)\n",
    "fig1,ax1 = plt.subplots()\n",
    "ax1.pie(values,colors = colors,labels = labels,autopct = \"%1.1f%%\",startangle=90,explode=explode,pctdistance=0.85)\n",
    "# draw curcle\n",
    "centre_circle = plt.Circle((0,0),0.70,fc=\"white\")\n",
    "fig = plt.gcf()\n",
    "fig.gca().add_artist(centre_circle)\n",
    "#plt.pie(values,labels=labels,autopct='%1.2f%%')\n",
    "ax1.axis(\"equal\")\n",
    "plt.tight_layout()\n",
    "plt.legend()\n",
    "plt.savefig(\"Target_classes.png\")\n",
    "plt.show()"
   ]
  },
  {
   "cell_type": "markdown",
   "id": "c09d21b1",
   "metadata": {},
   "source": [
    "Comment: It is an inbalanced class with slight accidents having the highest occurence"
   ]
  },
  {
   "cell_type": "markdown",
   "id": "88241cd3",
   "metadata": {},
   "source": [
    "### 1st Road Type"
   ]
  },
  {
   "cell_type": "code",
   "execution_count": 88,
   "id": "f5fad967",
   "metadata": {},
   "outputs": [
    {
     "data": {
      "text/plain": [
       "array([5, 6, 4, 3, 1, 2], dtype=int64)"
      ]
     },
     "execution_count": 88,
     "metadata": {},
     "output_type": "execute_result"
    }
   ],
   "source": [
    "df[\"1st_Road_Class\"].unique()"
   ]
  },
  {
   "cell_type": "code",
   "execution_count": 89,
   "id": "b9f76e43",
   "metadata": {},
   "outputs": [],
   "source": [
    "labels = {\"1st_Road_Class\":{1:\"Motorway\",2:\"A(M)\",3:\"A\",4:\"B\",5:\"C\",6:\"Unclassified\"}}"
   ]
  },
  {
   "cell_type": "code",
   "execution_count": 90,
   "id": "a1bf5754",
   "metadata": {},
   "outputs": [],
   "source": [
    "df = df.replace(labels)"
   ]
  },
  {
   "cell_type": "code",
   "execution_count": 96,
   "id": "926b9de1",
   "metadata": {},
   "outputs": [
    {
     "data": {
      "image/png": "[encoded data removed]",
      "text/plain": [
       "<Figure size 720x504 with 1 Axes>"
      ]
     },
     "metadata": {
      "needs_background": "light"
     },
     "output_type": "display_data"
    }
   ],
   "source": [
    "df_1st_road = df.loc[:,[\"1st_Road_Class\",\"Accident_Severity\"]]\n",
    "plt.figure(figsize=(10,7))\n",
    "df_1st_road[\"1st_Road_Class\"].value_counts().plot.bar(color = ['#ff9999','#66b3ff','b','r','#99ff99','#ffcc99'])\n",
    "plt.xlabel(\"1st Road Type\")\n",
    "plt.ylabel(\"Number of Accidents occurence\")\n",
    "plt.title(\"Occurence of Accidents based on 1st road type\")\n",
    "plt.savefig(\"1st_road_type.png\")\n",
    "plt.show()"
   ]
  },
  {
   "cell_type": "markdown",
   "id": "1428206b",
   "metadata": {},
   "source": [
    "### Ploting the longitude and latitude to know the concentration of accidents occurence\n"
   ]
  },
  {
   "cell_type": "code",
   "execution_count": 98,
   "id": "bbd547ed",
   "metadata": {},
   "outputs": [
    {
     "data": {
      "image/png": "[encoded data removed]",
      "text/plain": [
       "<Figure size 396x684 with 1 Axes>"
      ]
     },
     "metadata": {
      "needs_background": "light"
     },
     "output_type": "display_data"
    }
   ],
   "source": [
    "# Lets get to know where most of the accidents must have occured\n",
    "plt.figure(figsize=(5.5,9.5))\n",
    "plt.axes().set_facecolor(\"black\")\n",
    "plt.scatter(x = df[\"Longitude\"], y = df[\"Latitude\"],s=0.005, alpha= 0.25, color=\"lightyellow\")\n",
    "plt.title(\"UK Accidents in 2015\")\n",
    "ax = plt.gca()\n",
    "ax.get_xaxis().set_visible(False)\n",
    "ax.get_yaxis().set_visible(False)\n",
    "\n",
    "plt.show()"
   ]
  },
  {
   "cell_type": "markdown",
   "id": "c9113ddc",
   "metadata": {},
   "source": [
    "### Analysing lighting conditions and pedestrial crossing-physical "
   ]
  },
  {
   "cell_type": "code",
   "execution_count": 99,
   "id": "90db1c0a",
   "metadata": {},
   "outputs": [
    {
     "name": "stdout",
     "output_type": "stream",
     "text": [
      "Collecting squarify\n",
      "  Downloading squarify-0.4.3-py3-none-any.whl (4.3 kB)\n",
      "Installing collected packages: squarify\n",
      "Successfully installed squarify-0.4.3\n"
     ]
    }
   ],
   "source": [
    "!pip install squarify"
   ]
  },
  {
   "cell_type": "code",
   "execution_count": 102,
   "id": "61ec3dfe",
   "metadata": {},
   "outputs": [
    {
     "data": {
      "text/plain": [
       "Index(['Accident_Index', 'Location_Easting_OSGR', 'Location_Northing_OSGR',\n",
       "       'Longitude', 'Latitude', 'Police_Force', 'Accident_Severity',\n",
       "       'Number_of_Vehicles', 'Number_of_Casualties', 'Date', 'Day_of_Week',\n",
       "       'Time', 'Local_Authority_(District)', 'Local_Authority_(Highway)',\n",
       "       '1st_Road_Class', '1st_Road_Number', 'Road_Type', 'Speed_limit',\n",
       "       'Junction_Detail', 'Junction_Control', '2nd_Road_Class',\n",
       "       '2nd_Road_Number', 'Pedestrian_Crossing-Human_Control',\n",
       "       'Pedestrian_Crossing-Physical_Facilities', 'Light_Conditions',\n",
       "       'Weather_Conditions', 'Road_Surface_Conditions',\n",
       "       'Special_Conditions_at_Site', 'Carriageway_Hazards',\n",
       "       'Urban_or_Rural_Area', 'Did_Police_Officer_Attend_Scene_of_Accident',\n",
       "       'Hour', 'Month'],\n",
       "      dtype='object')"
      ]
     },
     "execution_count": 102,
     "metadata": {},
     "output_type": "execute_result"
    }
   ],
   "source": [
    "df.columns"
   ]
  },
  {
   "cell_type": "code",
   "execution_count": 104,
   "id": "aca46b42",
   "metadata": {},
   "outputs": [
    {
     "data": {
      "text/plain": [
       "array([ 0,  1,  2, -1], dtype=int64)"
      ]
     },
     "execution_count": 104,
     "metadata": {},
     "output_type": "execute_result"
    }
   ],
   "source": [
    "df[\"Pedestrian_Crossing-Human_Control\"].unique()"
   ]
  },
  {
   "cell_type": "code",
   "execution_count": 106,
   "id": "e0480a6f",
   "metadata": {},
   "outputs": [
    {
     "data": {
      "text/plain": [
       "array([ 0,  1,  5,  4,  8,  7, -1], dtype=int64)"
      ]
     },
     "execution_count": 106,
     "metadata": {},
     "output_type": "execute_result"
    }
   ],
   "source": [
    "df[\"Pedestrian_Crossing-Physical_Facilities\"].unique()"
   ]
  },
  {
   "cell_type": "code",
   "execution_count": 108,
   "id": "6095be26",
   "metadata": {},
   "outputs": [
    {
     "data": {
      "text/plain": [
       "array([4, 1, 6, 7, 5], dtype=int64)"
      ]
     },
     "execution_count": 108,
     "metadata": {},
     "output_type": "execute_result"
    }
   ],
   "source": [
    "df[\"Light_Conditions\"].unique()"
   ]
  },
  {
   "cell_type": "markdown",
   "id": "1fac5f8a",
   "metadata": {},
   "source": [
    "### What lighting conditions results in the least and highest number of accidents?"
   ]
  },
  {
   "cell_type": "code",
   "execution_count": 110,
   "id": "5eae0fc2",
   "metadata": {},
   "outputs": [],
   "source": [
    "df_light = df.groupby(['Light_Conditions'])['Accident_Index'].count().sort_values(ascending=False)\n",
    "df_light = df_light.reset_index()"
   ]
  },
  {
   "cell_type": "code",
   "execution_count": 111,
   "id": "65c40ed2",
   "metadata": {},
   "outputs": [
    {
     "data": {
      "text/html": [
       "<div>\n",
       "<style scoped>\n",
       "    .dataframe tbody tr th:only-of-type {\n",
       "        vertical-align: middle;\n",
       "    }\n",
       "\n",
       "    .dataframe tbody tr th {\n",
       "        vertical-align: top;\n",
       "    }\n",
       "\n",
       "    .dataframe thead th {\n",
       "        text-align: right;\n",
       "    }\n",
       "</style>\n",
       "<table border=\"1\" class=\"dataframe\">\n",
       "  <thead>\n",
       "    <tr style=\"text-align: right;\">\n",
       "      <th></th>\n",
       "      <th>light_conditions_code</th>\n",
       "      <th>Accident_count</th>\n",
       "    </tr>\n",
       "  </thead>\n",
       "  <tbody>\n",
       "    <tr>\n",
       "      <th>0</th>\n",
       "      <td>1</td>\n",
       "      <td>102608</td>\n",
       "    </tr>\n",
       "    <tr>\n",
       "      <th>1</th>\n",
       "      <td>4</td>\n",
       "      <td>27551</td>\n",
       "    </tr>\n",
       "    <tr>\n",
       "      <th>2</th>\n",
       "      <td>6</td>\n",
       "      <td>7258</td>\n",
       "    </tr>\n",
       "    <tr>\n",
       "      <th>3</th>\n",
       "      <td>7</td>\n",
       "      <td>1920</td>\n",
       "    </tr>\n",
       "    <tr>\n",
       "      <th>4</th>\n",
       "      <td>5</td>\n",
       "      <td>719</td>\n",
       "    </tr>\n",
       "  </tbody>\n",
       "</table>\n",
       "</div>"
      ],
      "text/plain": [
       "   light_conditions_code  Accident_count\n",
       "0                      1          102608\n",
       "1                      4           27551\n",
       "2                      6            7258\n",
       "3                      7            1920\n",
       "4                      5             719"
      ]
     },
     "execution_count": 111,
     "metadata": {},
     "output_type": "execute_result"
    }
   ],
   "source": [
    "df_light.rename({'Accident_Index':'Accident_count', 'Light_Conditions':'light_conditions_code'}, axis= 1, inplace= True)\n",
    "df_light"
   ]
  },
  {
   "cell_type": "code",
   "execution_count": 115,
   "id": "243a3c02",
   "metadata": {},
   "outputs": [
    {
     "data": {
      "text/html": [
       "<div>\n",
       "<style scoped>\n",
       "    .dataframe tbody tr th:only-of-type {\n",
       "        vertical-align: middle;\n",
       "    }\n",
       "\n",
       "    .dataframe tbody tr th {\n",
       "        vertical-align: top;\n",
       "    }\n",
       "\n",
       "    .dataframe thead th {\n",
       "        text-align: right;\n",
       "    }\n",
       "</style>\n",
       "<table border=\"1\" class=\"dataframe\">\n",
       "  <thead>\n",
       "    <tr style=\"text-align: right;\">\n",
       "      <th></th>\n",
       "      <th>light_conditions_code</th>\n",
       "      <th>Light_condition</th>\n",
       "    </tr>\n",
       "  </thead>\n",
       "  <tbody>\n",
       "    <tr>\n",
       "      <th>0</th>\n",
       "      <td>1</td>\n",
       "      <td>Daylight</td>\n",
       "    </tr>\n",
       "    <tr>\n",
       "      <th>1</th>\n",
       "      <td>4</td>\n",
       "      <td>Darkness: streetlight present &amp; lit</td>\n",
       "    </tr>\n",
       "    <tr>\n",
       "      <th>2</th>\n",
       "      <td>5</td>\n",
       "      <td>Darkness: streetlight present but not lit</td>\n",
       "    </tr>\n",
       "    <tr>\n",
       "      <th>3</th>\n",
       "      <td>6</td>\n",
       "      <td>Darkness: No streetlight</td>\n",
       "    </tr>\n",
       "    <tr>\n",
       "      <th>4</th>\n",
       "      <td>7</td>\n",
       "      <td>Darkness: streetlighting unknow</td>\n",
       "    </tr>\n",
       "  </tbody>\n",
       "</table>\n",
       "</div>"
      ],
      "text/plain": [
       "   light_conditions_code                            Light_condition\n",
       "0                      1                                   Daylight\n",
       "1                      4        Darkness: streetlight present & lit\n",
       "2                      5  Darkness: streetlight present but not lit\n",
       "3                      6                   Darkness: No streetlight\n",
       "4                      7            Darkness: streetlighting unknow"
      ]
     },
     "execution_count": 115,
     "metadata": {},
     "output_type": "execute_result"
    }
   ],
   "source": [
    "light_map = {'light_conditions_code':[1,4,5,6,7],\n",
    "             'Light_condition':['Daylight' ,'Darkness: streetlight present & lit', 'Darkness: streetlight present but not lit','Darkness: No streetlight', 'Darkness: streetlighting unknow']}\n",
    "light = pd.DataFrame(light_map)\n",
    "light"
   ]
  },
  {
   "cell_type": "code",
   "execution_count": 116,
   "id": "cee39519",
   "metadata": {},
   "outputs": [
    {
     "data": {
      "text/html": [
       "<div>\n",
       "<style scoped>\n",
       "    .dataframe tbody tr th:only-of-type {\n",
       "        vertical-align: middle;\n",
       "    }\n",
       "\n",
       "    .dataframe tbody tr th {\n",
       "        vertical-align: top;\n",
       "    }\n",
       "\n",
       "    .dataframe thead th {\n",
       "        text-align: right;\n",
       "    }\n",
       "</style>\n",
       "<table border=\"1\" class=\"dataframe\">\n",
       "  <thead>\n",
       "    <tr style=\"text-align: right;\">\n",
       "      <th></th>\n",
       "      <th>light_conditions_code</th>\n",
       "      <th>Accident_count</th>\n",
       "      <th>Light_condition</th>\n",
       "    </tr>\n",
       "  </thead>\n",
       "  <tbody>\n",
       "    <tr>\n",
       "      <th>0</th>\n",
       "      <td>1</td>\n",
       "      <td>102608</td>\n",
       "      <td>Daylight</td>\n",
       "    </tr>\n",
       "    <tr>\n",
       "      <th>1</th>\n",
       "      <td>4</td>\n",
       "      <td>27551</td>\n",
       "      <td>Darkness: streetlight present &amp; lit</td>\n",
       "    </tr>\n",
       "    <tr>\n",
       "      <th>2</th>\n",
       "      <td>6</td>\n",
       "      <td>7258</td>\n",
       "      <td>Darkness: No streetlight</td>\n",
       "    </tr>\n",
       "    <tr>\n",
       "      <th>3</th>\n",
       "      <td>7</td>\n",
       "      <td>1920</td>\n",
       "      <td>Darkness: streetlighting unknow</td>\n",
       "    </tr>\n",
       "    <tr>\n",
       "      <th>4</th>\n",
       "      <td>5</td>\n",
       "      <td>719</td>\n",
       "      <td>Darkness: streetlight present but not lit</td>\n",
       "    </tr>\n",
       "  </tbody>\n",
       "</table>\n",
       "</div>"
      ],
      "text/plain": [
       "   light_conditions_code  Accident_count  \\\n",
       "0                      1          102608   \n",
       "1                      4           27551   \n",
       "2                      6            7258   \n",
       "3                      7            1920   \n",
       "4                      5             719   \n",
       "\n",
       "                             Light_condition  \n",
       "0                                   Daylight  \n",
       "1        Darkness: streetlight present & lit  \n",
       "2                   Darkness: No streetlight  \n",
       "3            Darkness: streetlighting unknow  \n",
       "4  Darkness: streetlight present but not lit  "
      ]
     },
     "execution_count": 116,
     "metadata": {},
     "output_type": "execute_result"
    }
   ],
   "source": [
    "df_light = pd.merge(df_light, light, on= 'light_conditions_code', how = 'outer')\n",
    "df_light"
   ]
  },
  {
   "cell_type": "code",
   "execution_count": 120,
   "id": "2ef94539",
   "metadata": {},
   "outputs": [
    {
     "data": {
      "image/png": "[encoded data removed]",
      "text/plain": [
       "<Figure size 504x360 with 1 Axes>"
      ]
     },
     "metadata": {
      "needs_background": "light"
     },
     "output_type": "display_data"
    }
   ],
   "source": [
    "plt.figure(figsize=(7,5))\n",
    "sns.barplot(data = df_light, y = 'Light_condition', x = 'Accident_count', color= 'b').set(title = 'Accident Count at various Lighting Conditions')\n",
    "plt.savefig(\"Light_conditions.png\")"
   ]
  },
  {
   "cell_type": "markdown",
   "id": "b724417d",
   "metadata": {},
   "source": [
    "Comment : The chart show that most accident occurs during the daylight which is the best lighting condition. This maybe due to the fact that most driving activities are within the daytime. Furthermore, lighting condition seems to give very little or explanation as to the cause for accident as more of the accidents occured during the best light conditions and fewer accidents during the worst lighting conditions."
   ]
  },
  {
   "cell_type": "markdown",
   "id": "1a36b2db",
   "metadata": {},
   "source": [
    "### Does lighting condition affects accident severity?"
   ]
  },
  {
   "cell_type": "code",
   "execution_count": 151,
   "id": "bc4b8e87",
   "metadata": {},
   "outputs": [
    {
     "data": {
      "text/html": [
       "<div>\n",
       "<style scoped>\n",
       "    .dataframe tbody tr th:only-of-type {\n",
       "        vertical-align: middle;\n",
       "    }\n",
       "\n",
       "    .dataframe tbody tr th {\n",
       "        vertical-align: top;\n",
       "    }\n",
       "\n",
       "    .dataframe thead th {\n",
       "        text-align: right;\n",
       "    }\n",
       "</style>\n",
       "<table border=\"1\" class=\"dataframe\">\n",
       "  <thead>\n",
       "    <tr style=\"text-align: right;\">\n",
       "      <th></th>\n",
       "      <th>Light_Conditions</th>\n",
       "      <th>Accident_Severity</th>\n",
       "      <th>Accident_Index</th>\n",
       "    </tr>\n",
       "  </thead>\n",
       "  <tbody>\n",
       "    <tr>\n",
       "      <th>0</th>\n",
       "      <td>1</td>\n",
       "      <td>fatal</td>\n",
       "      <td>968</td>\n",
       "    </tr>\n",
       "    <tr>\n",
       "      <th>1</th>\n",
       "      <td>1</td>\n",
       "      <td>serious</td>\n",
       "      <td>14017</td>\n",
       "    </tr>\n",
       "    <tr>\n",
       "      <th>2</th>\n",
       "      <td>1</td>\n",
       "      <td>slight</td>\n",
       "      <td>87623</td>\n",
       "    </tr>\n",
       "    <tr>\n",
       "      <th>3</th>\n",
       "      <td>4</td>\n",
       "      <td>fatal</td>\n",
       "      <td>290</td>\n",
       "    </tr>\n",
       "    <tr>\n",
       "      <th>4</th>\n",
       "      <td>4</td>\n",
       "      <td>serious</td>\n",
       "      <td>4086</td>\n",
       "    </tr>\n",
       "    <tr>\n",
       "      <th>5</th>\n",
       "      <td>4</td>\n",
       "      <td>slight</td>\n",
       "      <td>23175</td>\n",
       "    </tr>\n",
       "    <tr>\n",
       "      <th>6</th>\n",
       "      <td>5</td>\n",
       "      <td>fatal</td>\n",
       "      <td>15</td>\n",
       "    </tr>\n",
       "    <tr>\n",
       "      <th>7</th>\n",
       "      <td>5</td>\n",
       "      <td>serious</td>\n",
       "      <td>137</td>\n",
       "    </tr>\n",
       "    <tr>\n",
       "      <th>8</th>\n",
       "      <td>5</td>\n",
       "      <td>slight</td>\n",
       "      <td>567</td>\n",
       "    </tr>\n",
       "    <tr>\n",
       "      <th>9</th>\n",
       "      <td>6</td>\n",
       "      <td>fatal</td>\n",
       "      <td>308</td>\n",
       "    </tr>\n",
       "    <tr>\n",
       "      <th>10</th>\n",
       "      <td>6</td>\n",
       "      <td>serious</td>\n",
       "      <td>1523</td>\n",
       "    </tr>\n",
       "    <tr>\n",
       "      <th>11</th>\n",
       "      <td>6</td>\n",
       "      <td>slight</td>\n",
       "      <td>5427</td>\n",
       "    </tr>\n",
       "    <tr>\n",
       "      <th>12</th>\n",
       "      <td>7</td>\n",
       "      <td>fatal</td>\n",
       "      <td>35</td>\n",
       "    </tr>\n",
       "    <tr>\n",
       "      <th>13</th>\n",
       "      <td>7</td>\n",
       "      <td>serious</td>\n",
       "      <td>275</td>\n",
       "    </tr>\n",
       "    <tr>\n",
       "      <th>14</th>\n",
       "      <td>7</td>\n",
       "      <td>slight</td>\n",
       "      <td>1610</td>\n",
       "    </tr>\n",
       "  </tbody>\n",
       "</table>\n",
       "</div>"
      ],
      "text/plain": [
       "    Light_Conditions Accident_Severity  Accident_Index\n",
       "0                  1             fatal             968\n",
       "1                  1           serious           14017\n",
       "2                  1            slight           87623\n",
       "3                  4             fatal             290\n",
       "4                  4           serious            4086\n",
       "5                  4            slight           23175\n",
       "6                  5             fatal              15\n",
       "7                  5           serious             137\n",
       "8                  5            slight             567\n",
       "9                  6             fatal             308\n",
       "10                 6           serious            1523\n",
       "11                 6            slight            5427\n",
       "12                 7             fatal              35\n",
       "13                 7           serious             275\n",
       "14                 7            slight            1610"
      ]
     },
     "execution_count": 151,
     "metadata": {},
     "output_type": "execute_result"
    }
   ],
   "source": [
    "li_sev_df = df.groupby(['Light_Conditions', 'Accident_Severity'])['Accident_Index'].count()\n",
    "li_sev_df = li_sev_df.reset_index()\n",
    "li_sev_df"
   ]
  },
  {
   "cell_type": "code",
   "execution_count": 152,
   "id": "14b064a2",
   "metadata": {},
   "outputs": [
    {
     "data": {
      "text/html": [
       "<div>\n",
       "<style scoped>\n",
       "    .dataframe tbody tr th:only-of-type {\n",
       "        vertical-align: middle;\n",
       "    }\n",
       "\n",
       "    .dataframe tbody tr th {\n",
       "        vertical-align: top;\n",
       "    }\n",
       "\n",
       "    .dataframe thead th {\n",
       "        text-align: right;\n",
       "    }\n",
       "</style>\n",
       "<table border=\"1\" class=\"dataframe\">\n",
       "  <thead>\n",
       "    <tr style=\"text-align: right;\">\n",
       "      <th></th>\n",
       "      <th>Light_Conditions</th>\n",
       "      <th>severity_code</th>\n",
       "      <th>Accident_count</th>\n",
       "    </tr>\n",
       "  </thead>\n",
       "  <tbody>\n",
       "    <tr>\n",
       "      <th>0</th>\n",
       "      <td>1</td>\n",
       "      <td>fatal</td>\n",
       "      <td>968</td>\n",
       "    </tr>\n",
       "    <tr>\n",
       "      <th>1</th>\n",
       "      <td>1</td>\n",
       "      <td>serious</td>\n",
       "      <td>14017</td>\n",
       "    </tr>\n",
       "    <tr>\n",
       "      <th>2</th>\n",
       "      <td>1</td>\n",
       "      <td>slight</td>\n",
       "      <td>87623</td>\n",
       "    </tr>\n",
       "    <tr>\n",
       "      <th>3</th>\n",
       "      <td>4</td>\n",
       "      <td>fatal</td>\n",
       "      <td>290</td>\n",
       "    </tr>\n",
       "    <tr>\n",
       "      <th>4</th>\n",
       "      <td>4</td>\n",
       "      <td>serious</td>\n",
       "      <td>4086</td>\n",
       "    </tr>\n",
       "    <tr>\n",
       "      <th>5</th>\n",
       "      <td>4</td>\n",
       "      <td>slight</td>\n",
       "      <td>23175</td>\n",
       "    </tr>\n",
       "    <tr>\n",
       "      <th>6</th>\n",
       "      <td>5</td>\n",
       "      <td>fatal</td>\n",
       "      <td>15</td>\n",
       "    </tr>\n",
       "    <tr>\n",
       "      <th>7</th>\n",
       "      <td>5</td>\n",
       "      <td>serious</td>\n",
       "      <td>137</td>\n",
       "    </tr>\n",
       "    <tr>\n",
       "      <th>8</th>\n",
       "      <td>5</td>\n",
       "      <td>slight</td>\n",
       "      <td>567</td>\n",
       "    </tr>\n",
       "    <tr>\n",
       "      <th>9</th>\n",
       "      <td>6</td>\n",
       "      <td>fatal</td>\n",
       "      <td>308</td>\n",
       "    </tr>\n",
       "    <tr>\n",
       "      <th>10</th>\n",
       "      <td>6</td>\n",
       "      <td>serious</td>\n",
       "      <td>1523</td>\n",
       "    </tr>\n",
       "    <tr>\n",
       "      <th>11</th>\n",
       "      <td>6</td>\n",
       "      <td>slight</td>\n",
       "      <td>5427</td>\n",
       "    </tr>\n",
       "    <tr>\n",
       "      <th>12</th>\n",
       "      <td>7</td>\n",
       "      <td>fatal</td>\n",
       "      <td>35</td>\n",
       "    </tr>\n",
       "    <tr>\n",
       "      <th>13</th>\n",
       "      <td>7</td>\n",
       "      <td>serious</td>\n",
       "      <td>275</td>\n",
       "    </tr>\n",
       "    <tr>\n",
       "      <th>14</th>\n",
       "      <td>7</td>\n",
       "      <td>slight</td>\n",
       "      <td>1610</td>\n",
       "    </tr>\n",
       "  </tbody>\n",
       "</table>\n",
       "</div>"
      ],
      "text/plain": [
       "    Light_Conditions severity_code  Accident_count\n",
       "0                  1         fatal             968\n",
       "1                  1       serious           14017\n",
       "2                  1        slight           87623\n",
       "3                  4         fatal             290\n",
       "4                  4       serious            4086\n",
       "5                  4        slight           23175\n",
       "6                  5         fatal              15\n",
       "7                  5       serious             137\n",
       "8                  5        slight             567\n",
       "9                  6         fatal             308\n",
       "10                 6       serious            1523\n",
       "11                 6        slight            5427\n",
       "12                 7         fatal              35\n",
       "13                 7       serious             275\n",
       "14                 7        slight            1610"
      ]
     },
     "execution_count": 152,
     "metadata": {},
     "output_type": "execute_result"
    }
   ],
   "source": [
    "li_sev_df.rename({'Accident_Index':'Accident_count', 'Light_conditions':'light_conditions_code', 'Accident_Severity':'severity_code'}, axis= 1,inplace=True)\n",
    "li_sev_df\n"
   ]
  },
  {
   "cell_type": "code",
   "execution_count": 154,
   "id": "3e010619",
   "metadata": {},
   "outputs": [],
   "source": [
    "li_sev_df[\"severity_code\"] = li_sev_df[\"severity_code\"].apply(lambda x:1 if x == \"fatal\" else (2 if x == \"serious\" else 3))"
   ]
  },
  {
   "cell_type": "code",
   "execution_count": 160,
   "id": "994fa5c5",
   "metadata": {},
   "outputs": [],
   "source": [
    "li_sev_df[\"light_conditions_code\"] = li_sev_df[\"Light_Conditions\"]"
   ]
  },
  {
   "cell_type": "code",
   "execution_count": 163,
   "id": "71b0dca7",
   "metadata": {},
   "outputs": [],
   "source": [
    "li_sev_df = li_sev_df.drop(columns=['Light_Conditions','accident_severity'],axis = 1)"
   ]
  },
  {
   "cell_type": "code",
   "execution_count": 164,
   "id": "5da41059",
   "metadata": {},
   "outputs": [
    {
     "data": {
      "text/html": [
       "<div>\n",
       "<style scoped>\n",
       "    .dataframe tbody tr th:only-of-type {\n",
       "        vertical-align: middle;\n",
       "    }\n",
       "\n",
       "    .dataframe tbody tr th {\n",
       "        vertical-align: top;\n",
       "    }\n",
       "\n",
       "    .dataframe thead th {\n",
       "        text-align: right;\n",
       "    }\n",
       "</style>\n",
       "<table border=\"1\" class=\"dataframe\">\n",
       "  <thead>\n",
       "    <tr style=\"text-align: right;\">\n",
       "      <th></th>\n",
       "      <th>severity_code</th>\n",
       "      <th>accident_severity</th>\n",
       "    </tr>\n",
       "  </thead>\n",
       "  <tbody>\n",
       "    <tr>\n",
       "      <th>0</th>\n",
       "      <td>1</td>\n",
       "      <td>fatal</td>\n",
       "    </tr>\n",
       "    <tr>\n",
       "      <th>1</th>\n",
       "      <td>2</td>\n",
       "      <td>serious</td>\n",
       "    </tr>\n",
       "    <tr>\n",
       "      <th>2</th>\n",
       "      <td>3</td>\n",
       "      <td>slight</td>\n",
       "    </tr>\n",
       "  </tbody>\n",
       "</table>\n",
       "</div>"
      ],
      "text/plain": [
       "   severity_code accident_severity\n",
       "0              1             fatal\n",
       "1              2           serious\n",
       "2              3            slight"
      ]
     },
     "execution_count": 164,
     "metadata": {},
     "output_type": "execute_result"
    }
   ],
   "source": [
    "severity_map = {'severity_code':[1,2,3],\n",
    "             'accident_severity':['fatal' ,'serious', 'slight']}\n",
    "severity = pd.DataFrame(severity_map)\n",
    "severity"
   ]
  },
  {
   "cell_type": "code",
   "execution_count": 165,
   "id": "65099f3f",
   "metadata": {},
   "outputs": [
    {
     "data": {
      "text/html": [
       "<div>\n",
       "<style scoped>\n",
       "    .dataframe tbody tr th:only-of-type {\n",
       "        vertical-align: middle;\n",
       "    }\n",
       "\n",
       "    .dataframe tbody tr th {\n",
       "        vertical-align: top;\n",
       "    }\n",
       "\n",
       "    .dataframe thead th {\n",
       "        text-align: right;\n",
       "    }\n",
       "</style>\n",
       "<table border=\"1\" class=\"dataframe\">\n",
       "  <thead>\n",
       "    <tr style=\"text-align: right;\">\n",
       "      <th></th>\n",
       "      <th>severity_code</th>\n",
       "      <th>Accident_count</th>\n",
       "      <th>light_conditions_code</th>\n",
       "      <th>accident_severity</th>\n",
       "      <th>Light_condition</th>\n",
       "    </tr>\n",
       "  </thead>\n",
       "  <tbody>\n",
       "    <tr>\n",
       "      <th>0</th>\n",
       "      <td>1</td>\n",
       "      <td>968</td>\n",
       "      <td>1</td>\n",
       "      <td>fatal</td>\n",
       "      <td>Daylight</td>\n",
       "    </tr>\n",
       "    <tr>\n",
       "      <th>1</th>\n",
       "      <td>2</td>\n",
       "      <td>14017</td>\n",
       "      <td>1</td>\n",
       "      <td>serious</td>\n",
       "      <td>Daylight</td>\n",
       "    </tr>\n",
       "    <tr>\n",
       "      <th>2</th>\n",
       "      <td>3</td>\n",
       "      <td>87623</td>\n",
       "      <td>1</td>\n",
       "      <td>slight</td>\n",
       "      <td>Daylight</td>\n",
       "    </tr>\n",
       "    <tr>\n",
       "      <th>3</th>\n",
       "      <td>1</td>\n",
       "      <td>290</td>\n",
       "      <td>4</td>\n",
       "      <td>fatal</td>\n",
       "      <td>Darkness: streetlight present &amp; lit</td>\n",
       "    </tr>\n",
       "    <tr>\n",
       "      <th>4</th>\n",
       "      <td>2</td>\n",
       "      <td>4086</td>\n",
       "      <td>4</td>\n",
       "      <td>serious</td>\n",
       "      <td>Darkness: streetlight present &amp; lit</td>\n",
       "    </tr>\n",
       "    <tr>\n",
       "      <th>5</th>\n",
       "      <td>3</td>\n",
       "      <td>23175</td>\n",
       "      <td>4</td>\n",
       "      <td>slight</td>\n",
       "      <td>Darkness: streetlight present &amp; lit</td>\n",
       "    </tr>\n",
       "    <tr>\n",
       "      <th>6</th>\n",
       "      <td>1</td>\n",
       "      <td>15</td>\n",
       "      <td>5</td>\n",
       "      <td>fatal</td>\n",
       "      <td>Darkness: streetlight present but not lit</td>\n",
       "    </tr>\n",
       "    <tr>\n",
       "      <th>7</th>\n",
       "      <td>2</td>\n",
       "      <td>137</td>\n",
       "      <td>5</td>\n",
       "      <td>serious</td>\n",
       "      <td>Darkness: streetlight present but not lit</td>\n",
       "    </tr>\n",
       "    <tr>\n",
       "      <th>8</th>\n",
       "      <td>3</td>\n",
       "      <td>567</td>\n",
       "      <td>5</td>\n",
       "      <td>slight</td>\n",
       "      <td>Darkness: streetlight present but not lit</td>\n",
       "    </tr>\n",
       "    <tr>\n",
       "      <th>9</th>\n",
       "      <td>1</td>\n",
       "      <td>308</td>\n",
       "      <td>6</td>\n",
       "      <td>fatal</td>\n",
       "      <td>Darkness: No streetlight</td>\n",
       "    </tr>\n",
       "    <tr>\n",
       "      <th>10</th>\n",
       "      <td>2</td>\n",
       "      <td>1523</td>\n",
       "      <td>6</td>\n",
       "      <td>serious</td>\n",
       "      <td>Darkness: No streetlight</td>\n",
       "    </tr>\n",
       "    <tr>\n",
       "      <th>11</th>\n",
       "      <td>3</td>\n",
       "      <td>5427</td>\n",
       "      <td>6</td>\n",
       "      <td>slight</td>\n",
       "      <td>Darkness: No streetlight</td>\n",
       "    </tr>\n",
       "    <tr>\n",
       "      <th>12</th>\n",
       "      <td>1</td>\n",
       "      <td>35</td>\n",
       "      <td>7</td>\n",
       "      <td>fatal</td>\n",
       "      <td>Darkness: streetlighting unknow</td>\n",
       "    </tr>\n",
       "    <tr>\n",
       "      <th>13</th>\n",
       "      <td>2</td>\n",
       "      <td>275</td>\n",
       "      <td>7</td>\n",
       "      <td>serious</td>\n",
       "      <td>Darkness: streetlighting unknow</td>\n",
       "    </tr>\n",
       "    <tr>\n",
       "      <th>14</th>\n",
       "      <td>3</td>\n",
       "      <td>1610</td>\n",
       "      <td>7</td>\n",
       "      <td>slight</td>\n",
       "      <td>Darkness: streetlighting unknow</td>\n",
       "    </tr>\n",
       "  </tbody>\n",
       "</table>\n",
       "</div>"
      ],
      "text/plain": [
       "    severity_code  Accident_count  light_conditions_code accident_severity  \\\n",
       "0               1             968                      1             fatal   \n",
       "1               2           14017                      1           serious   \n",
       "2               3           87623                      1            slight   \n",
       "3               1             290                      4             fatal   \n",
       "4               2            4086                      4           serious   \n",
       "5               3           23175                      4            slight   \n",
       "6               1              15                      5             fatal   \n",
       "7               2             137                      5           serious   \n",
       "8               3             567                      5            slight   \n",
       "9               1             308                      6             fatal   \n",
       "10              2            1523                      6           serious   \n",
       "11              3            5427                      6            slight   \n",
       "12              1              35                      7             fatal   \n",
       "13              2             275                      7           serious   \n",
       "14              3            1610                      7            slight   \n",
       "\n",
       "                              Light_condition  \n",
       "0                                    Daylight  \n",
       "1                                    Daylight  \n",
       "2                                    Daylight  \n",
       "3         Darkness: streetlight present & lit  \n",
       "4         Darkness: streetlight present & lit  \n",
       "5         Darkness: streetlight present & lit  \n",
       "6   Darkness: streetlight present but not lit  \n",
       "7   Darkness: streetlight present but not lit  \n",
       "8   Darkness: streetlight present but not lit  \n",
       "9                    Darkness: No streetlight  \n",
       "10                   Darkness: No streetlight  \n",
       "11                   Darkness: No streetlight  \n",
       "12            Darkness: streetlighting unknow  \n",
       "13            Darkness: streetlighting unknow  \n",
       "14            Darkness: streetlighting unknow  "
      ]
     },
     "execution_count": 165,
     "metadata": {},
     "output_type": "execute_result"
    }
   ],
   "source": [
    "li_sev_df = pd.merge(li_sev_df, severity, on= 'severity_code', how = 'outer')\n",
    "li_sev_df = pd.merge(li_sev_df, light, on= 'light_conditions_code', how = 'outer')\n",
    "li_sev_df"
   ]
  },
  {
   "cell_type": "code",
   "execution_count": 172,
   "id": "2839a561",
   "metadata": {},
   "outputs": [
    {
     "data": {
      "image/png": "[encoded data removed]",
      "text/plain": [
       "<Figure size 720x360 with 1 Axes>"
      ]
     },
     "metadata": {
      "needs_background": "light"
     },
     "output_type": "display_data"
    }
   ],
   "source": [
    "plt.figure(figsize=(10, 5))\n",
    "sns.barplot(data = li_sev_df, x= 'Light_condition', y = 'Accident_count', hue = 'accident_severity')\n",
    "plt.xticks(rotation=45)\n",
    "plt.savefig(\"Accident distribution across lighting conditions.png\")"
   ]
  },
  {
   "cell_type": "markdown",
   "id": "07fe0df0",
   "metadata": {},
   "source": [
    "Comment : Accident severity have similar distribution accross the different lighting conditions. Most accidents are slight while fatal accidents have the lowest recorded number irrespective of the lighting condition."
   ]
  },
  {
   "cell_type": "markdown",
   "id": "1bdc5663",
   "metadata": {},
   "source": [
    "### Does the presence of a pedestrial crossing-human control reduce accident occurence?"
   ]
  },
  {
   "cell_type": "code",
   "execution_count": 186,
   "id": "912f507a",
   "metadata": {},
   "outputs": [
    {
     "data": {
      "text/html": [
       "<div>\n",
       "<style scoped>\n",
       "    .dataframe tbody tr th:only-of-type {\n",
       "        vertical-align: middle;\n",
       "    }\n",
       "\n",
       "    .dataframe tbody tr th {\n",
       "        vertical-align: top;\n",
       "    }\n",
       "\n",
       "    .dataframe thead th {\n",
       "        text-align: right;\n",
       "    }\n",
       "</style>\n",
       "<table border=\"1\" class=\"dataframe\">\n",
       "  <thead>\n",
       "    <tr style=\"text-align: right;\">\n",
       "      <th></th>\n",
       "      <th>hc_code</th>\n",
       "      <th>accident_count</th>\n",
       "    </tr>\n",
       "  </thead>\n",
       "  <tbody>\n",
       "    <tr>\n",
       "      <th>0</th>\n",
       "      <td>0</td>\n",
       "      <td>139201</td>\n",
       "    </tr>\n",
       "    <tr>\n",
       "      <th>1</th>\n",
       "      <td>2</td>\n",
       "      <td>433</td>\n",
       "    </tr>\n",
       "    <tr>\n",
       "      <th>2</th>\n",
       "      <td>1</td>\n",
       "      <td>282</td>\n",
       "    </tr>\n",
       "    <tr>\n",
       "      <th>3</th>\n",
       "      <td>-1</td>\n",
       "      <td>140</td>\n",
       "    </tr>\n",
       "  </tbody>\n",
       "</table>\n",
       "</div>"
      ],
      "text/plain": [
       "   hc_code  accident_count\n",
       "0        0          139201\n",
       "1        2             433\n",
       "2        1             282\n",
       "3       -1             140"
      ]
     },
     "execution_count": 186,
     "metadata": {},
     "output_type": "execute_result"
    }
   ],
   "source": [
    "ped_hc_df = df.groupby('Pedestrian_Crossing-Human_Control')['Accident_Index'].count().sort_values(ascending = False)\n",
    "ped_hc_df = ped_hc_df.reset_index()\n",
    "ped_hc_df.rename({'Accident_Index':'accident_count', 'Pedestrian_Crossing-Human_Control':'hc_code'}, axis= 1, inplace= True)\n",
    "ped_hc_df"
   ]
  },
  {
   "cell_type": "code",
   "execution_count": 187,
   "id": "6c3d937f",
   "metadata": {},
   "outputs": [
    {
     "data": {
      "text/html": [
       "<div>\n",
       "<style scoped>\n",
       "    .dataframe tbody tr th:only-of-type {\n",
       "        vertical-align: middle;\n",
       "    }\n",
       "\n",
       "    .dataframe tbody tr th {\n",
       "        vertical-align: top;\n",
       "    }\n",
       "\n",
       "    .dataframe thead th {\n",
       "        text-align: right;\n",
       "    }\n",
       "</style>\n",
       "<table border=\"1\" class=\"dataframe\">\n",
       "  <thead>\n",
       "    <tr style=\"text-align: right;\">\n",
       "      <th></th>\n",
       "      <th>hc_code</th>\n",
       "      <th>pedestrian_crossing_human_control</th>\n",
       "    </tr>\n",
       "  </thead>\n",
       "  <tbody>\n",
       "    <tr>\n",
       "      <th>0</th>\n",
       "      <td>0</td>\n",
       "      <td>None within 50metres</td>\n",
       "    </tr>\n",
       "    <tr>\n",
       "      <th>1</th>\n",
       "      <td>1</td>\n",
       "      <td>Control by schoool patrol</td>\n",
       "    </tr>\n",
       "    <tr>\n",
       "      <th>2</th>\n",
       "      <td>2</td>\n",
       "      <td>Control other authorised person</td>\n",
       "    </tr>\n",
       "    <tr>\n",
       "      <th>3</th>\n",
       "      <td>-1</td>\n",
       "      <td>Data missing or out of range</td>\n",
       "    </tr>\n",
       "  </tbody>\n",
       "</table>\n",
       "</div>"
      ],
      "text/plain": [
       "   hc_code pedestrian_crossing_human_control\n",
       "0        0              None within 50metres\n",
       "1        1         Control by schoool patrol\n",
       "2        2   Control other authorised person\n",
       "3       -1      Data missing or out of range"
      ]
     },
     "execution_count": 187,
     "metadata": {},
     "output_type": "execute_result"
    }
   ],
   "source": [
    "hc_map = {'hc_code':[0,1,2,-1],\n",
    "             'pedestrian_crossing_human_control':['None within 50metres' ,'Control by schoool patrol', 'Control other authorised person', 'Data missing or out of range']}\n",
    "hc = pd.DataFrame(hc_map)\n",
    "hc"
   ]
  },
  {
   "cell_type": "code",
   "execution_count": 189,
   "id": "878920d4",
   "metadata": {},
   "outputs": [
    {
     "data": {
      "text/html": [
       "<div>\n",
       "<style scoped>\n",
       "    .dataframe tbody tr th:only-of-type {\n",
       "        vertical-align: middle;\n",
       "    }\n",
       "\n",
       "    .dataframe tbody tr th {\n",
       "        vertical-align: top;\n",
       "    }\n",
       "\n",
       "    .dataframe thead th {\n",
       "        text-align: right;\n",
       "    }\n",
       "</style>\n",
       "<table border=\"1\" class=\"dataframe\">\n",
       "  <thead>\n",
       "    <tr style=\"text-align: right;\">\n",
       "      <th></th>\n",
       "      <th>hc_code</th>\n",
       "      <th>accident_count</th>\n",
       "      <th>pedestrian_crossing_human_control</th>\n",
       "    </tr>\n",
       "  </thead>\n",
       "  <tbody>\n",
       "    <tr>\n",
       "      <th>0</th>\n",
       "      <td>0</td>\n",
       "      <td>139201</td>\n",
       "      <td>None within 50metres</td>\n",
       "    </tr>\n",
       "    <tr>\n",
       "      <th>1</th>\n",
       "      <td>2</td>\n",
       "      <td>433</td>\n",
       "      <td>Control other authorised person</td>\n",
       "    </tr>\n",
       "    <tr>\n",
       "      <th>2</th>\n",
       "      <td>1</td>\n",
       "      <td>282</td>\n",
       "      <td>Control by schoool patrol</td>\n",
       "    </tr>\n",
       "    <tr>\n",
       "      <th>3</th>\n",
       "      <td>-1</td>\n",
       "      <td>140</td>\n",
       "      <td>Data missing or out of range</td>\n",
       "    </tr>\n",
       "  </tbody>\n",
       "</table>\n",
       "</div>"
      ],
      "text/plain": [
       "   hc_code  accident_count pedestrian_crossing_human_control\n",
       "0        0          139201              None within 50metres\n",
       "1        2             433   Control other authorised person\n",
       "2        1             282         Control by schoool patrol\n",
       "3       -1             140      Data missing or out of range"
      ]
     },
     "execution_count": 189,
     "metadata": {},
     "output_type": "execute_result"
    }
   ],
   "source": [
    "ped_hc_df = pd.merge(ped_hc_df, hc, on = 'hc_code', how = 'outer')\n",
    "ped_hc_df"
   ]
  },
  {
   "cell_type": "code",
   "execution_count": 191,
   "id": "86f53ed4",
   "metadata": {},
   "outputs": [
    {
     "data": {
      "text/plain": [
       "[Text(0.5, 1.0, 'Accident Count for Various Pedestrian crosing Human control')]"
      ]
     },
     "execution_count": 191,
     "metadata": {},
     "output_type": "execute_result"
    },
    {
     "data": {
      "image/png": "[encoded data removed]",
      "text/plain": [
       "<Figure size 1080x360 with 1 Axes>"
      ]
     },
     "metadata": {
      "needs_background": "light"
     },
     "output_type": "display_data"
    }
   ],
   "source": [
    "plt.figure(figsize=(15,5))\n",
    "sns.barplot(data = ped_hc_df, y = 'pedestrian_crossing_human_control', x = 'accident_count', color= 'b').set(title = 'Accident Count for Various Pedestrian crosing Human control')"
   ]
  },
  {
   "cell_type": "markdown",
   "id": "3bc87745",
   "metadata": {},
   "source": [
    "Comment : Majority of recorded accidents occurred with no pedestrian crossing human control within 50 metres. Accidents that occurred for other conditions are minimal."
   ]
  },
  {
   "cell_type": "code",
   "execution_count": null,
   "id": "82a78006",
   "metadata": {},
   "outputs": [],
   "source": []
  }
 ],
 "metadata": {
  "kernelspec": {
   "display_name": "Python 3 (ipykernel)",
   "language": "python",
   "name": "python3"
  },
  "language_info": {
   "codemirror_mode": {
    "name": "ipython",
    "version": 3
   },
   "file_extension": ".py",
   "mimetype": "text/x-python",
   "name": "python",
   "nbconvert_exporter": "python",
   "pygments_lexer": "ipython3",
   "version": "3.9.12"
  }
 },
 "nbformat": 4,
 "nbformat_minor": 5
}
