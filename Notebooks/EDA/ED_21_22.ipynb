{
 "cells": [
  {
   "cell_type": "code",
   "execution_count": 1,
   "id": "b58f48de-03b5-4cea-b16e-7274e32a4b88",
   "metadata": {},
   "outputs": [],
   "source": [
    "import pandas as pd\n",
    "import matplotlib.pyplot as plt\n",
    "import seaborn as sns\n",
    "import missingno as msno\n",
    "%matplotlib inline"
   ]
  },
  {
   "cell_type": "code",
   "execution_count": 2,
   "id": "e484a2af-03f7-42c5-8e71-f4d06fbb051a",
   "metadata": {},
   "outputs": [
    {
     "name": "stderr",
     "output_type": "stream",
     "text": [
      "C:\\Users\\LENOVO\\anaconda3\\lib\\site-packages\\IPython\\core\\interactiveshell.py:3165: DtypeWarning: Columns (0) have mixed types.Specify dtype option on import or set low_memory=False.\n",
      "  has_raised = await self.run_ast_nodes(code_ast.body, cell_name,\n"
     ]
    }
   ],
   "source": [
    "df = pd.read_csv(\"../../Input/UK_Traffic_Accidents_2015.csv\", parse_dates=[9])"
   ]
  },
  {
   "cell_type": "code",
   "execution_count": 3,
   "id": "5529285b-ba55-4fd2-89f2-e4f95d8fe2a4",
   "metadata": {},
   "outputs": [
    {
     "name": "stdout",
     "output_type": "stream",
     "text": [
      "<class 'pandas.core.frame.DataFrame'>\n",
      "RangeIndex: 140056 entries, 0 to 140055\n",
      "Data columns (total 32 columns):\n",
      " #   Column                                       Non-Null Count   Dtype         \n",
      "---  ------                                       --------------   -----         \n",
      " 0   Accident_Index                               140056 non-null  object        \n",
      " 1   Location_Easting_OSGR                        140029 non-null  float64       \n",
      " 2   Location_Northing_OSGR                       140029 non-null  float64       \n",
      " 3   Longitude                                    140029 non-null  float64       \n",
      " 4   Latitude                                     140029 non-null  float64       \n",
      " 5   Police_Force                                 140056 non-null  int64         \n",
      " 6   Accident_Severity                            140056 non-null  int64         \n",
      " 7   Number_of_Vehicles                           140056 non-null  int64         \n",
      " 8   Number_of_Casualties                         140056 non-null  int64         \n",
      " 9   Date                                         140056 non-null  datetime64[ns]\n",
      " 10  Day_of_Week                                  140056 non-null  int64         \n",
      " 11  Time                                         140038 non-null  object        \n",
      " 12  Local_Authority_(District)                   140056 non-null  int64         \n",
      " 13  Local_Authority_(Highway)                    140056 non-null  object        \n",
      " 14  1st_Road_Class                               140056 non-null  int64         \n",
      " 15  1st_Road_Number                              140056 non-null  int64         \n",
      " 16  Road_Type                                    140056 non-null  int64         \n",
      " 17  Speed_limit                                  140056 non-null  int64         \n",
      " 18  Junction_Detail                              140056 non-null  int64         \n",
      " 19  Junction_Control                             140056 non-null  int64         \n",
      " 20  2nd_Road_Class                               140056 non-null  int64         \n",
      " 21  2nd_Road_Number                              140056 non-null  int64         \n",
      " 22  Pedestrian_Crossing-Human_Control            140056 non-null  int64         \n",
      " 23  Pedestrian_Crossing-Physical_Facilities      140056 non-null  int64         \n",
      " 24  Light_Conditions                             140056 non-null  int64         \n",
      " 25  Weather_Conditions                           140056 non-null  int64         \n",
      " 26  Road_Surface_Conditions                      140056 non-null  int64         \n",
      " 27  Special_Conditions_at_Site                   140056 non-null  int64         \n",
      " 28  Carriageway_Hazards                          140056 non-null  int64         \n",
      " 29  Urban_or_Rural_Area                          140056 non-null  int64         \n",
      " 30  Did_Police_Officer_Attend_Scene_of_Accident  140056 non-null  int64         \n",
      " 31  LSOA_of_Accident_Location                    131159 non-null  object        \n",
      "dtypes: datetime64[ns](1), float64(4), int64(23), object(4)\n",
      "memory usage: 34.2+ MB\n"
     ]
    }
   ],
   "source": [
    "df.info()"
   ]
  },
  {
   "cell_type": "code",
   "execution_count": 4,
   "id": "b941af54-a53d-42a2-8c62-47ff0c0068d0",
   "metadata": {},
   "outputs": [
    {
     "data": {
      "text/plain": [
       "Accident_Index                                    0\n",
       "Location_Easting_OSGR                            27\n",
       "Location_Northing_OSGR                           27\n",
       "Longitude                                        27\n",
       "Latitude                                         27\n",
       "Police_Force                                      0\n",
       "Accident_Severity                                 0\n",
       "Number_of_Vehicles                                0\n",
       "Number_of_Casualties                              0\n",
       "Date                                              0\n",
       "Day_of_Week                                       0\n",
       "Time                                             18\n",
       "Local_Authority_(District)                        0\n",
       "Local_Authority_(Highway)                         0\n",
       "1st_Road_Class                                    0\n",
       "1st_Road_Number                                   0\n",
       "Road_Type                                         0\n",
       "Speed_limit                                       0\n",
       "Junction_Detail                                   0\n",
       "Junction_Control                                  0\n",
       "2nd_Road_Class                                    0\n",
       "2nd_Road_Number                                   0\n",
       "Pedestrian_Crossing-Human_Control                 0\n",
       "Pedestrian_Crossing-Physical_Facilities           0\n",
       "Light_Conditions                                  0\n",
       "Weather_Conditions                                0\n",
       "Road_Surface_Conditions                           0\n",
       "Special_Conditions_at_Site                        0\n",
       "Carriageway_Hazards                               0\n",
       "Urban_or_Rural_Area                               0\n",
       "Did_Police_Officer_Attend_Scene_of_Accident       0\n",
       "LSOA_of_Accident_Location                      8897\n",
       "dtype: int64"
      ]
     },
     "execution_count": 4,
     "metadata": {},
     "output_type": "execute_result"
    }
   ],
   "source": [
    "#numver of missing values in every column\n",
    "df.isna().sum()"
   ]
  },
  {
   "cell_type": "code",
   "execution_count": 5,
   "id": "0596a0e1-4157-4add-be78-768c7a065b36",
   "metadata": {},
   "outputs": [
    {
     "data": {
      "text/plain": [
       "<AxesSubplot:>"
      ]
     },
     "execution_count": 5,
     "metadata": {},
     "output_type": "execute_result"
    },
    {
     "data": {
      "image/png": "[encoded data removed]",
      "text/plain": [
       "<Figure size 1800x720 with 2 Axes>"
      ]
     },
     "metadata": {
      "needs_background": "light"
     },
     "output_type": "display_data"
    }
   ],
   "source": [
    "msno.matrix(df)"
   ]
  },
  {
   "cell_type": "code",
   "execution_count": 6,
   "id": "bc4f332f-1cfb-4d69-bb4a-ab9f1bc9d7f3",
   "metadata": {},
   "outputs": [
    {
     "name": "stdout",
     "output_type": "stream",
     "text": [
      "Percentage of missing values in LSOA_of_Accident_Location is 6.35%\n"
     ]
    }
   ],
   "source": [
    "print(\"Percentage of missing values in LSOA_of_Accident_Location is {:.2f}%\".format((8897 / df.shape[0]) * 100))"
   ]
  },
  {
   "cell_type": "markdown",
   "id": "e4322fc5-399e-4a2d-8dd6-16e692e7321b",
   "metadata": {},
   "source": [
    "Visualizing the missing values in the dataset shows most majority of the rows have data points with `LSOA_of_Acceident_Location` column having the number of missing data points which is 8897 rows, that accounts for appproximately 6.35% of the data."
   ]
  },
  {
   "cell_type": "markdown",
   "id": "39942ca1-99d0-4551-aab6-9c484c96cc99",
   "metadata": {},
   "source": [
    "<b>NB: I will advice dropping the rows with missing data since the account for very little of our dataset"
   ]
  },
  {
   "cell_type": "markdown",
   "id": "1ebe5c27-578b-4aba-acbe-395b4b3ffe24",
   "metadata": {},
   "source": [
    "### Analysis on `2nd_Road_Class` and `2nd_Road_Number` columns"
   ]
  },
  {
   "cell_type": "code",
   "execution_count": 7,
   "id": "7c67aefa-0c6d-420a-a17d-796c5d663341",
   "metadata": {},
   "outputs": [
    {
     "data": {
      "text/html": [
       "<div>\n",
       "<style scoped>\n",
       "    .dataframe tbody tr th:only-of-type {\n",
       "        vertical-align: middle;\n",
       "    }\n",
       "\n",
       "    .dataframe tbody tr th {\n",
       "        vertical-align: top;\n",
       "    }\n",
       "\n",
       "    .dataframe thead th {\n",
       "        text-align: right;\n",
       "    }\n",
       "</style>\n",
       "<table border=\"1\" class=\"dataframe\">\n",
       "  <thead>\n",
       "    <tr style=\"text-align: right;\">\n",
       "      <th></th>\n",
       "      <th>2nd_Road_Class</th>\n",
       "      <th>2nd_Road_Number</th>\n",
       "    </tr>\n",
       "  </thead>\n",
       "  <tbody>\n",
       "    <tr>\n",
       "      <th>0</th>\n",
       "      <td>6</td>\n",
       "      <td>0</td>\n",
       "    </tr>\n",
       "    <tr>\n",
       "      <th>1</th>\n",
       "      <td>3</td>\n",
       "      <td>3218</td>\n",
       "    </tr>\n",
       "    <tr>\n",
       "      <th>2</th>\n",
       "      <td>6</td>\n",
       "      <td>0</td>\n",
       "    </tr>\n",
       "    <tr>\n",
       "      <th>3</th>\n",
       "      <td>6</td>\n",
       "      <td>0</td>\n",
       "    </tr>\n",
       "    <tr>\n",
       "      <th>4</th>\n",
       "      <td>3</td>\n",
       "      <td>3220</td>\n",
       "    </tr>\n",
       "  </tbody>\n",
       "</table>\n",
       "</div>"
      ],
      "text/plain": [
       "   2nd_Road_Class  2nd_Road_Number\n",
       "0               6                0\n",
       "1               3             3218\n",
       "2               6                0\n",
       "3               6                0\n",
       "4               3             3220"
      ]
     },
     "execution_count": 7,
     "metadata": {},
     "output_type": "execute_result"
    }
   ],
   "source": [
    "df[[\"2nd_Road_Class\", \"2nd_Road_Number\"]].head()"
   ]
  },
  {
   "cell_type": "code",
   "execution_count": 8,
   "id": "d30891aa-2231-4ec3-9ad5-cd0a1f751efc",
   "metadata": {},
   "outputs": [],
   "source": [
    "def convert_road_class(row_value):\n",
    "    \"\"\"function converts road class numbers to their categorical variables\"\"\"\n",
    "    road_class = {\n",
    "        1: \"Motorway\",\n",
    "        2: \"A(M)\",\n",
    "        3: \"A\",\n",
    "        4: \"B\",\n",
    "        5: \"C\",\n",
    "        6: \"Unclassified\"\n",
    "    }\n",
    "    return road_class[abs(row_value)]\n"
   ]
  },
  {
   "cell_type": "code",
   "execution_count": 9,
   "id": "184d4453-e7f5-4d18-8ba1-c51e79275faf",
   "metadata": {},
   "outputs": [],
   "source": [
    "def convert_accident_severity(row_value):\n",
    "    \"\"\"function converts accident severity numbers to their categorical variables\"\"\"\n",
    "    severity = {\n",
    "        1: \"Fatal\",\n",
    "        2: \"Serious\",\n",
    "        3: \"Slight\"\n",
    "    }\n",
    "    return severity[abs(row_value)]\n"
   ]
  },
  {
   "cell_type": "code",
   "execution_count": 10,
   "id": "d2c2ddea-c01a-4a8a-bb6e-e1dc410ddf2c",
   "metadata": {},
   "outputs": [],
   "source": [
    "df[[\"1st_Road_Class\", \"2nd_Road_Class\"]] =  df[[\"1st_Road_Class\", \"2nd_Road_Class\"]].applymap(convert_road_class)"
   ]
  },
  {
   "cell_type": "code",
   "execution_count": 11,
   "id": "3ccf1977-b50a-4f0a-9ac8-2b0c52c2a15f",
   "metadata": {},
   "outputs": [
    {
     "data": {
      "text/html": [
       "<div>\n",
       "<style scoped>\n",
       "    .dataframe tbody tr th:only-of-type {\n",
       "        vertical-align: middle;\n",
       "    }\n",
       "\n",
       "    .dataframe tbody tr th {\n",
       "        vertical-align: top;\n",
       "    }\n",
       "\n",
       "    .dataframe thead th {\n",
       "        text-align: right;\n",
       "    }\n",
       "</style>\n",
       "<table border=\"1\" class=\"dataframe\">\n",
       "  <thead>\n",
       "    <tr style=\"text-align: right;\">\n",
       "      <th></th>\n",
       "      <th>1st_Road_Class</th>\n",
       "      <th>2nd_Road_Class</th>\n",
       "    </tr>\n",
       "  </thead>\n",
       "  <tbody>\n",
       "    <tr>\n",
       "      <th>0</th>\n",
       "      <td>C</td>\n",
       "      <td>Unclassified</td>\n",
       "    </tr>\n",
       "    <tr>\n",
       "      <th>1</th>\n",
       "      <td>Unclassified</td>\n",
       "      <td>A</td>\n",
       "    </tr>\n",
       "    <tr>\n",
       "      <th>2</th>\n",
       "      <td>B</td>\n",
       "      <td>Unclassified</td>\n",
       "    </tr>\n",
       "    <tr>\n",
       "      <th>3</th>\n",
       "      <td>B</td>\n",
       "      <td>Unclassified</td>\n",
       "    </tr>\n",
       "    <tr>\n",
       "      <th>4</th>\n",
       "      <td>A</td>\n",
       "      <td>A</td>\n",
       "    </tr>\n",
       "  </tbody>\n",
       "</table>\n",
       "</div>"
      ],
      "text/plain": [
       "  1st_Road_Class 2nd_Road_Class\n",
       "0              C   Unclassified\n",
       "1   Unclassified              A\n",
       "2              B   Unclassified\n",
       "3              B   Unclassified\n",
       "4              A              A"
      ]
     },
     "execution_count": 11,
     "metadata": {},
     "output_type": "execute_result"
    }
   ],
   "source": [
    "df[[\"1st_Road_Class\", \"2nd_Road_Class\"]].head()"
   ]
  },
  {
   "cell_type": "code",
   "execution_count": 12,
   "id": "709eb56c-0ebe-4376-9681-dd1f9af4df13",
   "metadata": {},
   "outputs": [],
   "source": [
    "df[\"Accident_Severity\"] = df[\"Accident_Severity\"].apply(convert_accident_severity)"
   ]
  },
  {
   "cell_type": "code",
   "execution_count": 13,
   "id": "b38c5b42-0bcb-4d4c-a389-47eb25db0d3f",
   "metadata": {},
   "outputs": [
    {
     "data": {
      "text/plain": [
       "0     Slight\n",
       "1     Slight\n",
       "2     Slight\n",
       "3     Slight\n",
       "4    Serious\n",
       "Name: Accident_Severity, dtype: object"
      ]
     },
     "execution_count": 13,
     "metadata": {},
     "output_type": "execute_result"
    }
   ],
   "source": [
    "df[\"Accident_Severity\"].head()"
   ]
  },
  {
   "cell_type": "code",
   "execution_count": 14,
   "id": "1b52edf9-330a-44ea-98fc-db506e88d9df",
   "metadata": {},
   "outputs": [],
   "source": [
    "severity_by_road_class = df[[\"2nd_Road_Class\", \"Accident_Severity\", \"2nd_Road_Number\"]].groupby([\"Accident_Severity\", \"2nd_Road_Class\"]).count()"
   ]
  },
  {
   "cell_type": "code",
   "execution_count": 15,
   "id": "aab2213e-b967-4593-af78-db0b16326af5",
   "metadata": {},
   "outputs": [
    {
     "data": {
      "text/html": [
       "<div>\n",
       "<style scoped>\n",
       "    .dataframe tbody tr th:only-of-type {\n",
       "        vertical-align: middle;\n",
       "    }\n",
       "\n",
       "    .dataframe tbody tr th {\n",
       "        vertical-align: top;\n",
       "    }\n",
       "\n",
       "    .dataframe thead th {\n",
       "        text-align: right;\n",
       "    }\n",
       "</style>\n",
       "<table border=\"1\" class=\"dataframe\">\n",
       "  <thead>\n",
       "    <tr style=\"text-align: right;\">\n",
       "      <th></th>\n",
       "      <th></th>\n",
       "      <th>2nd_Road_Number</th>\n",
       "    </tr>\n",
       "    <tr>\n",
       "      <th>Accident_Severity</th>\n",
       "      <th>2nd_Road_Class</th>\n",
       "      <th></th>\n",
       "    </tr>\n",
       "  </thead>\n",
       "  <tbody>\n",
       "    <tr>\n",
       "      <th rowspan=\"5\" valign=\"top\">Fatal</th>\n",
       "      <th>A</th>\n",
       "      <td>69</td>\n",
       "    </tr>\n",
       "    <tr>\n",
       "      <th>B</th>\n",
       "      <td>34</td>\n",
       "    </tr>\n",
       "    <tr>\n",
       "      <th>C</th>\n",
       "      <td>44</td>\n",
       "    </tr>\n",
       "    <tr>\n",
       "      <th>Motorway</th>\n",
       "      <td>1054</td>\n",
       "    </tr>\n",
       "    <tr>\n",
       "      <th>Unclassified</th>\n",
       "      <td>415</td>\n",
       "    </tr>\n",
       "    <tr>\n",
       "      <th rowspan=\"6\" valign=\"top\">Serious</th>\n",
       "      <th>A</th>\n",
       "      <td>1347</td>\n",
       "    </tr>\n",
       "    <tr>\n",
       "      <th>A(M)</th>\n",
       "      <td>9</td>\n",
       "    </tr>\n",
       "    <tr>\n",
       "      <th>B</th>\n",
       "      <td>674</td>\n",
       "    </tr>\n",
       "    <tr>\n",
       "      <th>C</th>\n",
       "      <td>725</td>\n",
       "    </tr>\n",
       "    <tr>\n",
       "      <th>Motorway</th>\n",
       "      <td>9474</td>\n",
       "    </tr>\n",
       "    <tr>\n",
       "      <th>Unclassified</th>\n",
       "      <td>7809</td>\n",
       "    </tr>\n",
       "    <tr>\n",
       "      <th rowspan=\"6\" valign=\"top\">Slight</th>\n",
       "      <th>A</th>\n",
       "      <td>12385</td>\n",
       "    </tr>\n",
       "    <tr>\n",
       "      <th>A(M)</th>\n",
       "      <td>87</td>\n",
       "    </tr>\n",
       "    <tr>\n",
       "      <th>B</th>\n",
       "      <td>4918</td>\n",
       "    </tr>\n",
       "    <tr>\n",
       "      <th>C</th>\n",
       "      <td>5222</td>\n",
       "    </tr>\n",
       "    <tr>\n",
       "      <th>Motorway</th>\n",
       "      <td>46926</td>\n",
       "    </tr>\n",
       "    <tr>\n",
       "      <th>Unclassified</th>\n",
       "      <td>48864</td>\n",
       "    </tr>\n",
       "  </tbody>\n",
       "</table>\n",
       "</div>"
      ],
      "text/plain": [
       "                                  2nd_Road_Number\n",
       "Accident_Severity 2nd_Road_Class                 \n",
       "Fatal             A                            69\n",
       "                  B                            34\n",
       "                  C                            44\n",
       "                  Motorway                   1054\n",
       "                  Unclassified                415\n",
       "Serious           A                          1347\n",
       "                  A(M)                          9\n",
       "                  B                           674\n",
       "                  C                           725\n",
       "                  Motorway                   9474\n",
       "                  Unclassified               7809\n",
       "Slight            A                         12385\n",
       "                  A(M)                         87\n",
       "                  B                          4918\n",
       "                  C                          5222\n",
       "                  Motorway                  46926\n",
       "                  Unclassified              48864"
      ]
     },
     "execution_count": 15,
     "metadata": {},
     "output_type": "execute_result"
    }
   ],
   "source": [
    "severity_by_road_class"
   ]
  },
  {
   "cell_type": "code",
   "execution_count": 16,
   "id": "aca6c7d5-79fa-42c4-9d72-9ac7d3d11d78",
   "metadata": {},
   "outputs": [],
   "source": [
    "# resetting index to give a proper dataframe for analysis\n",
    "severity_by_road_class = severity_by_road_class.reset_index()"
   ]
  },
  {
   "cell_type": "code",
   "execution_count": 17,
   "id": "11a2efb6-bdf8-40ef-be40-fa2dcf97cf56",
   "metadata": {},
   "outputs": [],
   "source": [
    "# renaming index to give proper naming convention to column\n",
    "severity_by_road_class = severity_by_road_class.rename({\n",
    "    \"2nd_Road_Number\": \"Accident_Count\"\n",
    "}, axis=1)"
   ]
  },
  {
   "cell_type": "code",
   "execution_count": 18,
   "id": "9cf4b6b5-b8e7-4d4e-998a-61fc06e77c8d",
   "metadata": {},
   "outputs": [
    {
     "data": {
      "text/html": [
       "<div>\n",
       "<style scoped>\n",
       "    .dataframe tbody tr th:only-of-type {\n",
       "        vertical-align: middle;\n",
       "    }\n",
       "\n",
       "    .dataframe tbody tr th {\n",
       "        vertical-align: top;\n",
       "    }\n",
       "\n",
       "    .dataframe thead th {\n",
       "        text-align: right;\n",
       "    }\n",
       "</style>\n",
       "<table border=\"1\" class=\"dataframe\">\n",
       "  <thead>\n",
       "    <tr style=\"text-align: right;\">\n",
       "      <th></th>\n",
       "      <th>Accident_Severity</th>\n",
       "      <th>2nd_Road_Class</th>\n",
       "      <th>Accident_Count</th>\n",
       "    </tr>\n",
       "  </thead>\n",
       "  <tbody>\n",
       "    <tr>\n",
       "      <th>0</th>\n",
       "      <td>Fatal</td>\n",
       "      <td>A</td>\n",
       "      <td>69</td>\n",
       "    </tr>\n",
       "    <tr>\n",
       "      <th>1</th>\n",
       "      <td>Fatal</td>\n",
       "      <td>B</td>\n",
       "      <td>34</td>\n",
       "    </tr>\n",
       "    <tr>\n",
       "      <th>2</th>\n",
       "      <td>Fatal</td>\n",
       "      <td>C</td>\n",
       "      <td>44</td>\n",
       "    </tr>\n",
       "    <tr>\n",
       "      <th>3</th>\n",
       "      <td>Fatal</td>\n",
       "      <td>Motorway</td>\n",
       "      <td>1054</td>\n",
       "    </tr>\n",
       "    <tr>\n",
       "      <th>4</th>\n",
       "      <td>Fatal</td>\n",
       "      <td>Unclassified</td>\n",
       "      <td>415</td>\n",
       "    </tr>\n",
       "    <tr>\n",
       "      <th>5</th>\n",
       "      <td>Serious</td>\n",
       "      <td>A</td>\n",
       "      <td>1347</td>\n",
       "    </tr>\n",
       "    <tr>\n",
       "      <th>6</th>\n",
       "      <td>Serious</td>\n",
       "      <td>A(M)</td>\n",
       "      <td>9</td>\n",
       "    </tr>\n",
       "    <tr>\n",
       "      <th>7</th>\n",
       "      <td>Serious</td>\n",
       "      <td>B</td>\n",
       "      <td>674</td>\n",
       "    </tr>\n",
       "    <tr>\n",
       "      <th>8</th>\n",
       "      <td>Serious</td>\n",
       "      <td>C</td>\n",
       "      <td>725</td>\n",
       "    </tr>\n",
       "    <tr>\n",
       "      <th>9</th>\n",
       "      <td>Serious</td>\n",
       "      <td>Motorway</td>\n",
       "      <td>9474</td>\n",
       "    </tr>\n",
       "    <tr>\n",
       "      <th>10</th>\n",
       "      <td>Serious</td>\n",
       "      <td>Unclassified</td>\n",
       "      <td>7809</td>\n",
       "    </tr>\n",
       "    <tr>\n",
       "      <th>11</th>\n",
       "      <td>Slight</td>\n",
       "      <td>A</td>\n",
       "      <td>12385</td>\n",
       "    </tr>\n",
       "    <tr>\n",
       "      <th>12</th>\n",
       "      <td>Slight</td>\n",
       "      <td>A(M)</td>\n",
       "      <td>87</td>\n",
       "    </tr>\n",
       "    <tr>\n",
       "      <th>13</th>\n",
       "      <td>Slight</td>\n",
       "      <td>B</td>\n",
       "      <td>4918</td>\n",
       "    </tr>\n",
       "    <tr>\n",
       "      <th>14</th>\n",
       "      <td>Slight</td>\n",
       "      <td>C</td>\n",
       "      <td>5222</td>\n",
       "    </tr>\n",
       "    <tr>\n",
       "      <th>15</th>\n",
       "      <td>Slight</td>\n",
       "      <td>Motorway</td>\n",
       "      <td>46926</td>\n",
       "    </tr>\n",
       "    <tr>\n",
       "      <th>16</th>\n",
       "      <td>Slight</td>\n",
       "      <td>Unclassified</td>\n",
       "      <td>48864</td>\n",
       "    </tr>\n",
       "  </tbody>\n",
       "</table>\n",
       "</div>"
      ],
      "text/plain": [
       "   Accident_Severity 2nd_Road_Class  Accident_Count\n",
       "0              Fatal              A              69\n",
       "1              Fatal              B              34\n",
       "2              Fatal              C              44\n",
       "3              Fatal       Motorway            1054\n",
       "4              Fatal   Unclassified             415\n",
       "5            Serious              A            1347\n",
       "6            Serious           A(M)               9\n",
       "7            Serious              B             674\n",
       "8            Serious              C             725\n",
       "9            Serious       Motorway            9474\n",
       "10           Serious   Unclassified            7809\n",
       "11            Slight              A           12385\n",
       "12            Slight           A(M)              87\n",
       "13            Slight              B            4918\n",
       "14            Slight              C            5222\n",
       "15            Slight       Motorway           46926\n",
       "16            Slight   Unclassified           48864"
      ]
     },
     "execution_count": 18,
     "metadata": {},
     "output_type": "execute_result"
    }
   ],
   "source": [
    "severity_by_road_class"
   ]
  },
  {
   "cell_type": "code",
   "execution_count": 19,
   "id": "25f1be3e-39ca-4f98-afe5-06bb8195eaec",
   "metadata": {},
   "outputs": [
    {
     "data": {
      "text/plain": [
       "<AxesSubplot:xlabel='Accident_Severity', ylabel='Accident_Count'>"
      ]
     },
     "execution_count": 19,
     "metadata": {},
     "output_type": "execute_result"
    },
    {
     "data": {
      "image/png": "[encoded data removed]",
      "text/plain": [
       "<Figure size 432x288 with 1 Axes>"
      ]
     },
     "metadata": {
      "needs_background": "light"
     },
     "output_type": "display_data"
    }
   ],
   "source": [
    "sns.barplot(x=\"Accident_Severity\", y=\"Accident_Count\", data=severity_by_road_class, hue=\"2nd_Road_Class\")"
   ]
  },
  {
   "cell_type": "markdown",
   "id": "2586547e-f8e9-4fa7-adad-b5f72dcbf56c",
   "metadata": {},
   "source": [
    "From the chart above, we see `Motorway` and `Unclassified` roads having the highest injury counts accross all accidents severity. With `Motorway` having the highest number of fatal injuries and `Unclassified` roads having the highest number of slight injuries from accidents."
   ]
  }
 ],
 "metadata": {
  "kernelspec": {
   "display_name": "Python 3",
   "language": "python",
   "name": "python3"
  },
  "language_info": {
   "codemirror_mode": {
    "name": "ipython",
    "version": 3
   },
   "file_extension": ".py",
   "mimetype": "text/x-python",
   "name": "python",
   "nbconvert_exporter": "python",
   "pygments_lexer": "ipython3",
   "version": "3.8.8"
  },
  "widgets": {
   "application/vnd.jupyter.widget-state+json": {
    "state": {},
    "version_major": 2,
    "version_minor": 0
   }
  }
 },
 "nbformat": 4,
 "nbformat_minor": 5
}
