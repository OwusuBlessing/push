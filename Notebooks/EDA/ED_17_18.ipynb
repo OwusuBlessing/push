{
 "cells": [
  {
   "cell_type": "code",
   "execution_count": 1,
   "id": "19c77169",
   "metadata": {},
   "outputs": [],
   "source": [
    "#importing all requred libraries\n",
    "import pandas as pd\n",
    "import numpy as np\n",
    "import matplotlib.pyplot as plt\n",
    "import seaborn as sns\n",
    "\n",
    "%matplotlib inline "
   ]
  },
  {
   "cell_type": "code",
   "execution_count": 2,
   "id": "1e663efe",
   "metadata": {},
   "outputs": [
    {
     "name": "stderr",
     "output_type": "stream",
     "text": [
      "C:\\Users\\hp\\AppData\\Local\\Temp\\ipykernel_8824\\2743005294.py:2: DtypeWarning: Columns (0) have mixed types. Specify dtype option on import or set low_memory=False.\n",
      "  accident_df = pd.read_csv('UK_Traffic_Accidents_2015.csv')\n"
     ]
    }
   ],
   "source": [
    "#loading csv into a dataframe using pandas\n",
    "accident_df = pd.read_csv('UK_Traffic_Accidents_2015.csv')"
   ]
  },
  {
   "cell_type": "code",
   "execution_count": 12,
   "id": "6fd18222",
   "metadata": {},
   "outputs": [
    {
     "data": {
      "text/plain": [
       "30    89627\n",
       "60    19081\n",
       "40    11804\n",
       "70     9626\n",
       "50     5625\n",
       "20     4290\n",
       "10        2\n",
       "0         1\n",
       "Name: Speed_limit, dtype: int64"
      ]
     },
     "execution_count": 12,
     "metadata": {},
     "output_type": "execute_result"
    }
   ],
   "source": [
    "accident_df['Speed_limit'].value_counts()"
   ]
  },
  {
   "cell_type": "code",
   "execution_count": 13,
   "id": "802e7d1d",
   "metadata": {},
   "outputs": [
    {
     "data": {
      "text/plain": [
       " 0    55927\n",
       " 3    44657\n",
       " 6    13762\n",
       " 1    12423\n",
       " 8     5252\n",
       " 9     3103\n",
       " 5     2032\n",
       " 2     1900\n",
       " 7      999\n",
       "-1        1\n",
       "Name: Junction_Detail, dtype: int64"
      ]
     },
     "execution_count": 13,
     "metadata": {},
     "output_type": "execute_result"
    }
   ],
   "source": [
    "accident_df['Junction_Detail'].value_counts()"
   ]
  },
  {
   "cell_type": "code",
   "execution_count": 15,
   "id": "09385c56",
   "metadata": {},
   "outputs": [
    {
     "data": {
      "image/png": "[encoded data removed]",
      "text/plain": [
       "<Figure size 432x288 with 1 Axes>"
      ]
     },
     "metadata": {
      "needs_background": "light"
     },
     "output_type": "display_data"
    }
   ],
   "source": [
    "plt.hist(x='Speed_limit',data = accident_df);"
   ]
  },
  {
   "cell_type": "code",
   "execution_count": 20,
   "id": "2613ce2e",
   "metadata": {},
   "outputs": [
    {
     "data": {
      "image/png": "[encoded data removed]",
      "text/plain": [
       "<Figure size 432x288 with 1 Axes>"
      ]
     },
     "metadata": {
      "needs_background": "light"
     },
     "output_type": "display_data"
    }
   ],
   "source": [
    "plt.hist(x='Junction_Detail',data = accident_df);"
   ]
  },
  {
   "cell_type": "code",
   "execution_count": 11,
   "id": "326c5c23",
   "metadata": {},
   "outputs": [
    {
     "data": {
      "image/png": "[encoded data removed]",
      "text/plain": [
       "<Figure size 432x288 with 1 Axes>"
      ]
     },
     "metadata": {
      "needs_background": "light"
     },
     "output_type": "display_data"
    }
   ],
   "source": [
    "sns.scatterplot(x='Speed_limit',y= 'Junction_Detail',data = accident_df);"
   ]
  },
  {
   "cell_type": "code",
   "execution_count": 16,
   "id": "a53133ce",
   "metadata": {},
   "outputs": [
    {
     "data": {
      "text/plain": [
       "-0.2333795215020608"
      ]
     },
     "execution_count": 16,
     "metadata": {},
     "output_type": "execute_result"
    }
   ],
   "source": [
    "accident_df['Speed_limit'].corr(accident_df['Junction_Detail'])"
   ]
  },
  {
   "cell_type": "code",
   "execution_count": null,
   "id": "e1b0ad5d",
   "metadata": {},
   "outputs": [],
   "source": []
  }
 ],
 "metadata": {
  "kernelspec": {
   "display_name": "Python 3 (ipykernel)",
   "language": "python",
   "name": "python3"
  },
  "language_info": {
   "codemirror_mode": {
    "name": "ipython",
    "version": 3
   },
   "file_extension": ".py",
   "mimetype": "text/x-python",
   "name": "python",
   "nbconvert_exporter": "python",
   "pygments_lexer": "ipython3",
   "version": "3.9.12"
  }
 },
 "nbformat": 4,
 "nbformat_minor": 5
}
